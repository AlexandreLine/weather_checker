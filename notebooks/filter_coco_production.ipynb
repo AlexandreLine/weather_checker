{
 "cells": [
  {
   "cell_type": "code",
   "execution_count": 10,
   "id": "ede09361",
   "metadata": {},
   "outputs": [],
   "source": [
    "import pandas as pd\n",
    "from pathlib import Path\n",
    "\n",
    "path = Path('../input_csv/coco_all.csv')\n",
    "if not path.is_file():\n",
    "    print(f\"❌ GPS Locations of total weight {np.round(total_weight,8)} not found in {cache_path}\")\n",
    "df = pd.read_csv(path)"
   ]
  },
  {
   "cell_type": "code",
   "execution_count": 11,
   "id": "37bfc4ea",
   "metadata": {},
   "outputs": [
    {
     "name": "stdout",
     "output_type": "stream",
     "text": [
      "<class 'pandas.core.frame.DataFrame'>\n",
      "RangeIndex: 12074 entries, 0 to 12073\n",
      "Data columns (total 12 columns):\n",
      " #   Column      Non-Null Count  Dtype  \n",
      "---  ------      --------------  -----  \n",
      " 0   Production  12074 non-null  float64\n",
      " 1   ID          12074 non-null  int64  \n",
      " 2   ISO         12073 non-null  object \n",
      " 3   NAME_0      12073 non-null  object \n",
      " 4   X_lon_4326  12074 non-null  float64\n",
      " 5   Y_lat_4326  12074 non-null  float64\n",
      " 6   X_lon_3857  12074 non-null  float64\n",
      " 7   Y_lat_3857  12074 non-null  float64\n",
      " 8   Harvested_  12074 non-null  float64\n",
      " 9   Crop_Value  12074 non-null  float64\n",
      " 10  Yield       12074 non-null  float64\n",
      " 11  Area1       12074 non-null  float64\n",
      "dtypes: float64(9), int64(1), object(2)\n",
      "memory usage: 1.1+ MB\n"
     ]
    }
   ],
   "source": [
    "df.info()"
   ]
  },
  {
   "cell_type": "code",
   "execution_count": 12,
   "id": "71943c79",
   "metadata": {},
   "outputs": [],
   "source": [
    "df = df[df.ISO == 'CIV']"
   ]
  },
  {
   "cell_type": "code",
   "execution_count": 14,
   "id": "b64e5f14",
   "metadata": {},
   "outputs": [],
   "source": [
    "df['percentage'] = df.Production / df.Production.sum()\n",
    "df = df.sort_values(by = \"percentage\", ascending=False)\n",
    "df.percentage = df.percentage.cumsum()"
   ]
  },
  {
   "cell_type": "code",
   "execution_count": 16,
   "id": "503d2e59",
   "metadata": {},
   "outputs": [
    {
     "data": {
      "text/html": [
       "<div>\n",
       "<style scoped>\n",
       "    .dataframe tbody tr th:only-of-type {\n",
       "        vertical-align: middle;\n",
       "    }\n",
       "\n",
       "    .dataframe tbody tr th {\n",
       "        vertical-align: top;\n",
       "    }\n",
       "\n",
       "    .dataframe thead th {\n",
       "        text-align: right;\n",
       "    }\n",
       "</style>\n",
       "<table border=\"1\" class=\"dataframe\">\n",
       "  <thead>\n",
       "    <tr style=\"text-align: right;\">\n",
       "      <th></th>\n",
       "      <th>prod</th>\n",
       "      <th>country</th>\n",
       "      <th>longitude</th>\n",
       "      <th>latitude</th>\n",
       "      <th>Harvested_</th>\n",
       "      <th>Crop_Value</th>\n",
       "      <th>Yield</th>\n",
       "      <th>Area1</th>\n",
       "    </tr>\n",
       "  </thead>\n",
       "  <tbody>\n",
       "    <tr>\n",
       "      <th>0</th>\n",
       "      <td>4607.500000</td>\n",
       "      <td>CIV</td>\n",
       "      <td>-3.209040</td>\n",
       "      <td>6.708666</td>\n",
       "      <td>8526.599609</td>\n",
       "      <td>4785095.00</td>\n",
       "      <td>540.400024</td>\n",
       "      <td>8526.599609</td>\n",
       "    </tr>\n",
       "    <tr>\n",
       "      <th>1</th>\n",
       "      <td>3153.600098</td>\n",
       "      <td>CIV</td>\n",
       "      <td>-5.459032</td>\n",
       "      <td>6.125336</td>\n",
       "      <td>4371.000000</td>\n",
       "      <td>3277307.00</td>\n",
       "      <td>721.500000</td>\n",
       "      <td>4371.000000</td>\n",
       "    </tr>\n",
       "    <tr>\n",
       "      <th>2</th>\n",
       "      <td>2821.699951</td>\n",
       "      <td>CIV</td>\n",
       "      <td>-7.625690</td>\n",
       "      <td>7.875329</td>\n",
       "      <td>4640.700195</td>\n",
       "      <td>2932387.50</td>\n",
       "      <td>608.000000</td>\n",
       "      <td>4640.700195</td>\n",
       "    </tr>\n",
       "    <tr>\n",
       "      <th>3</th>\n",
       "      <td>2743.699951</td>\n",
       "      <td>CIV</td>\n",
       "      <td>-7.959022</td>\n",
       "      <td>8.125327</td>\n",
       "      <td>4512.399902</td>\n",
       "      <td>2851327.75</td>\n",
       "      <td>608.000000</td>\n",
       "      <td>4512.399902</td>\n",
       "    </tr>\n",
       "    <tr>\n",
       "      <th>4</th>\n",
       "      <td>2733.899902</td>\n",
       "      <td>CIV</td>\n",
       "      <td>-7.959022</td>\n",
       "      <td>8.375326</td>\n",
       "      <td>4553.000000</td>\n",
       "      <td>2841143.50</td>\n",
       "      <td>600.400024</td>\n",
       "      <td>4553.000000</td>\n",
       "    </tr>\n",
       "  </tbody>\n",
       "</table>\n",
       "</div>"
      ],
      "text/plain": [
       "          prod country  longitude  latitude   Harvested_  Crop_Value  \\\n",
       "0  4607.500000     CIV  -3.209040  6.708666  8526.599609  4785095.00   \n",
       "1  3153.600098     CIV  -5.459032  6.125336  4371.000000  3277307.00   \n",
       "2  2821.699951     CIV  -7.625690  7.875329  4640.700195  2932387.50   \n",
       "3  2743.699951     CIV  -7.959022  8.125327  4512.399902  2851327.75   \n",
       "4  2733.899902     CIV  -7.959022  8.375326  4553.000000  2841143.50   \n",
       "\n",
       "        Yield        Area1  \n",
       "0  540.400024  8526.599609  \n",
       "1  721.500000  4371.000000  \n",
       "2  608.000000  4640.700195  \n",
       "3  608.000000  4512.399902  \n",
       "4  600.400024  4553.000000  "
      ]
     },
     "execution_count": 16,
     "metadata": {},
     "output_type": "execute_result"
    }
   ],
   "source": [
    "df_filter = df[df.percentage <= .11].copy()\n",
    "df_filter.drop(['ID', 'NAME_0', 'X_lon_3857', 'Y_lat_3857', 'percentage'], axis=1, inplace=True)\n",
    "df_filter = df_filter.reset_index(drop=True)\n",
    "df_filter = df_filter.rename(columns={\"Production\": \"prod\", \"ISO\": \"country\", \"X_lon_4326\": \"longitude\", \"Y_lat_4326\": \"latitude\"},)\n",
    "df_filter.head()\n",
    "# atitude,longitude,prod,country"
   ]
  }
 ],
 "metadata": {
  "kernelspec": {
   "display_name": "Python 3 (ipykernel)",
   "language": "python",
   "name": "python3"
  },
  "language_info": {
   "codemirror_mode": {
    "name": "ipython",
    "version": 3
   },
   "file_extension": ".py",
   "mimetype": "text/x-python",
   "name": "python",
   "nbconvert_exporter": "python",
   "pygments_lexer": "ipython3",
   "version": "3.10.6"
  },
  "toc": {
   "base_numbering": 1,
   "nav_menu": {},
   "number_sections": true,
   "sideBar": true,
   "skip_h1_title": false,
   "title_cell": "Table of Contents",
   "title_sidebar": "Contents",
   "toc_cell": false,
   "toc_position": {},
   "toc_section_display": true,
   "toc_window_display": false
  }
 },
 "nbformat": 4,
 "nbformat_minor": 5
}
