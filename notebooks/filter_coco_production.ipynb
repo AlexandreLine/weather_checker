{
 "cells": [
  {
   "cell_type": "code",
   "execution_count": 43,
   "id": "ede09361",
   "metadata": {},
   "outputs": [],
   "source": [
    "import pandas as pd\n",
    "from pathlib import Path\n",
    "\n",
    "path = Path('../input_csv/coco_production.csv')\n",
    "if not path.is_file():\n",
    "    print(f\"❌ GPS Locations of total weight {np.round(total_weight,8)} not found in {cache_path}\")\n",
    "df = pd.read_csv(path)"
   ]
  },
  {
   "cell_type": "code",
   "execution_count": 44,
   "id": "37bfc4ea",
   "metadata": {},
   "outputs": [
    {
     "name": "stdout",
     "output_type": "stream",
     "text": [
      "<class 'pandas.core.frame.DataFrame'>\n",
      "RangeIndex: 10110 entries, 0 to 10109\n",
      "Data columns (total 8 columns):\n",
      " #   Column      Non-Null Count  Dtype  \n",
      "---  ------      --------------  -----  \n",
      " 0   VALUE       10110 non-null  float64\n",
      " 1   ID          10110 non-null  int64  \n",
      " 2   ISO         10109 non-null  object \n",
      " 3   NAME_0      10109 non-null  object \n",
      " 4   X_lon_4326  10110 non-null  float64\n",
      " 5   Y_lat_4326  10110 non-null  float64\n",
      " 6   X_lon_3857  10110 non-null  float64\n",
      " 7   Y_lat_3857  10110 non-null  float64\n",
      "dtypes: float64(5), int64(1), object(2)\n",
      "memory usage: 632.0+ KB\n"
     ]
    }
   ],
   "source": [
    "df.info()"
   ]
  },
  {
   "cell_type": "code",
   "execution_count": 45,
   "id": "71943c79",
   "metadata": {},
   "outputs": [],
   "source": [
    "df = df[df.ISO == 'AGO']"
   ]
  },
  {
   "cell_type": "code",
   "execution_count": 47,
   "id": "b64e5f14",
   "metadata": {},
   "outputs": [],
   "source": [
    "df['percentage'] = df.VALUE / df.VALUE.sum()\n",
    "df = df.sort_values(by = \"percentage\", ascending=False)\n",
    "df.percentage = df.percentage.cumsum()"
   ]
  },
  {
   "cell_type": "code",
   "execution_count": 48,
   "id": "503d2e59",
   "metadata": {},
   "outputs": [
    {
     "name": "stderr",
     "output_type": "stream",
     "text": [
      "/var/folders/9d/ctrklp313q9dbhg5b8tf6zq00000gn/T/ipykernel_11003/2513622808.py:2: SettingWithCopyWarning: \n",
      "A value is trying to be set on a copy of a slice from a DataFrame\n",
      "\n",
      "See the caveats in the documentation: https://pandas.pydata.org/pandas-docs/stable/user_guide/indexing.html#returning-a-view-versus-a-copy\n",
      "  df_filter.drop('percentage', axis=1, inplace=True)\n"
     ]
    },
    {
     "data": {
      "text/html": [
       "<div>\n",
       "<style scoped>\n",
       "    .dataframe tbody tr th:only-of-type {\n",
       "        vertical-align: middle;\n",
       "    }\n",
       "\n",
       "    .dataframe tbody tr th {\n",
       "        vertical-align: top;\n",
       "    }\n",
       "\n",
       "    .dataframe thead th {\n",
       "        text-align: right;\n",
       "    }\n",
       "</style>\n",
       "<table border=\"1\" class=\"dataframe\">\n",
       "  <thead>\n",
       "    <tr style=\"text-align: right;\">\n",
       "      <th></th>\n",
       "      <th>VALUE</th>\n",
       "      <th>ID</th>\n",
       "      <th>ISO</th>\n",
       "      <th>NAME_0</th>\n",
       "      <th>X_lon_4326</th>\n",
       "      <th>Y_lat_4326</th>\n",
       "      <th>X_lon_3857</th>\n",
       "      <th>Y_lat_3857</th>\n",
       "    </tr>\n",
       "  </thead>\n",
       "  <tbody>\n",
       "    <tr>\n",
       "      <th>37</th>\n",
       "      <td>12.9</td>\n",
       "      <td>97411</td>\n",
       "      <td>AGO</td>\n",
       "      <td>Angola</td>\n",
       "      <td>16.207549</td>\n",
       "      <td>-9.791268</td>\n",
       "      <td>1.804216e+06</td>\n",
       "      <td>-1.095303e+06</td>\n",
       "    </tr>\n",
       "    <tr>\n",
       "      <th>48</th>\n",
       "      <td>12.8</td>\n",
       "      <td>103060</td>\n",
       "      <td>AGO</td>\n",
       "      <td>Angola</td>\n",
       "      <td>13.790892</td>\n",
       "      <td>-11.541260</td>\n",
       "      <td>1.535195e+06</td>\n",
       "      <td>-1.293545e+06</td>\n",
       "    </tr>\n",
       "    <tr>\n",
       "      <th>0</th>\n",
       "      <td>11.6</td>\n",
       "      <td>79413</td>\n",
       "      <td>AGO</td>\n",
       "      <td>Angola</td>\n",
       "      <td>12.874228</td>\n",
       "      <td>-4.457955</td>\n",
       "      <td>1.433153e+06</td>\n",
       "      <td>-4.967588e+05</td>\n",
       "    </tr>\n",
       "  </tbody>\n",
       "</table>\n",
       "</div>"
      ],
      "text/plain": [
       "    VALUE      ID  ISO  NAME_0  X_lon_4326  Y_lat_4326    X_lon_3857  \\\n",
       "37   12.9   97411  AGO  Angola   16.207549   -9.791268  1.804216e+06   \n",
       "48   12.8  103060  AGO  Angola   13.790892  -11.541260  1.535195e+06   \n",
       "0    11.6   79413  AGO  Angola   12.874228   -4.457955  1.433153e+06   \n",
       "\n",
       "      Y_lat_3857  \n",
       "37 -1.095303e+06  \n",
       "48 -1.293545e+06  \n",
       "0  -4.967588e+05  "
      ]
     },
     "execution_count": 48,
     "metadata": {},
     "output_type": "execute_result"
    }
   ],
   "source": [
    "df_filter = df[df.percentage <= .11]\n",
    "df_filter.drop('percentage', axis=1, inplace=True)\n",
    "df_filter.head()"
   ]
  }
 ],
 "metadata": {
  "kernelspec": {
   "display_name": "Python 3 (ipykernel)",
   "language": "python",
   "name": "python3"
  },
  "language_info": {
   "codemirror_mode": {
    "name": "ipython",
    "version": 3
   },
   "file_extension": ".py",
   "mimetype": "text/x-python",
   "name": "python",
   "nbconvert_exporter": "python",
   "pygments_lexer": "ipython3",
   "version": "3.10.6"
  },
  "toc": {
   "base_numbering": 1,
   "nav_menu": {},
   "number_sections": true,
   "sideBar": true,
   "skip_h1_title": false,
   "title_cell": "Table of Contents",
   "title_sidebar": "Contents",
   "toc_cell": false,
   "toc_position": {},
   "toc_section_display": true,
   "toc_window_display": false
  }
 },
 "nbformat": 4,
 "nbformat_minor": 5
}
