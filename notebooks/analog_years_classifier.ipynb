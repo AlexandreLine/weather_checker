{
 "cells": [
  {
   "cell_type": "code",
   "execution_count": 59,
   "id": "126141ec-6b08-464a-91b0-d2a953738eed",
   "metadata": {},
   "outputs": [],
   "source": [
    "import openmeteo_requests\n",
    "import requests_cache\n",
    "import pandas as pd\n",
    "import numpy as np\n",
    "from retry_requests import retry\n",
    "import json\n",
    "\n",
    "import matplotlib.pyplot as plt\n",
    "import plotly.express as px\n",
    "import plotly.graph_objects as go\n",
    "\n",
    "from sklearn.cluster import KMeans\n",
    "from sklearn.neighbors import LocalOutlierFactor\n",
    "from sklearn.preprocessing import MinMaxScaler\n",
    "\n",
    "from tslearn.utils import to_time_series_dataset\n",
    "from tslearn.clustering import TimeSeriesKMeans\n",
    "from tslearn.preprocessing import TimeSeriesScalerMeanVariance"
   ]
  },
  {
   "cell_type": "code",
   "execution_count": 2,
   "id": "13a23baf-28ce-42ea-8ac2-0225d98c182b",
   "metadata": {},
   "outputs": [],
   "source": [
    "#extracting latest weather\n",
    "# Setup the Open-Meteo API client with cache and retry on error\n",
    "cache_session = requests_cache.CachedSession('.cache', expire_after = -1)\n",
    "retry_session = retry(cache_session, retries = 5, backoff_factor = 0.2)\n",
    "openmeteo = openmeteo_requests.Client(session = retry_session)\n",
    "\n",
    "# Make sure all required weather variables are listed here\n",
    "# The order of variables in hourly or daily is important to assign them correctly below\n",
    "url = \"https://archive-api.open-meteo.com/v1/archive\"\n",
    "\n",
    "params = {\n",
    "\t\"latitude\": [5.390770,5.392571,5.324686,5.323670],\n",
    "\t\"longitude\": [-6.505318,-6.427247, -6.502779,-6.427451],\n",
    "\t\"start_date\": \"1940-01-01\",\n",
    "\t\"end_date\": \"2023-12-31\",\n",
    "\t\"daily\": [\"weather_code\",\"temperature_2m_max\", \"temperature_2m_min\",\"temperature_2m_mean\", \"precipitation_sum\", \"rain_sum\"],\n",
    "\t\"timezone\": \"GMT\"\n",
    "}\n",
    "responses = openmeteo.weather_api(url, params=params)"
   ]
  },
  {
   "cell_type": "code",
   "execution_count": 3,
   "id": "9c977088-7bb2-48f6-bff0-b30bd8b5ba72",
   "metadata": {},
   "outputs": [],
   "source": [
    "# Processing locations into a list\n",
    "def gps_location_to_weather(api_response):\n",
    "    actual_weather =[]\n",
    "    for i in range(len(params[\"latitude\"])):\n",
    "        response = responses[i]\n",
    "        print(f\"Coordinates {response.Latitude()}°E {response.Longitude()}°N\")\n",
    "        print(f\"Elevation {response.Elevation()} m asl\")\n",
    "        print(f\"Timezone {response.Timezone()} {response.TimezoneAbbreviation()}\")\n",
    "        print(f\"Timezone difference to GMT+0 {response.UtcOffsetSeconds()} s\")\n",
    "    \n",
    "        # Process daily data. The order of variables needs to be the same as requested.\n",
    "        daily = response.Daily()\n",
    "        daily_weather_code = daily.Variables(0).ValuesAsNumpy()\n",
    "        daily_temperature_2m_max = daily.Variables(1).ValuesAsNumpy()\n",
    "        daily_temperature_2m_min = daily.Variables(2).ValuesAsNumpy()\n",
    "        daily_temperature_2m_mean = daily.Variables(3).ValuesAsNumpy()\n",
    "        daily_precipitation_sum = daily.Variables(4).ValuesAsNumpy()\n",
    "        daily_rain_sum = daily.Variables(5).ValuesAsNumpy()\n",
    "        \n",
    "        daily_data = {\"date\": pd.date_range(\n",
    "        \tstart = pd.to_datetime(daily.Time(), unit = \"s\"),\n",
    "        \tend = pd.to_datetime(daily.TimeEnd(), unit = \"s\"),\n",
    "        \tfreq = pd.Timedelta(seconds = daily.Interval()),\n",
    "        \tinclusive = \"left\"\n",
    "        )}\n",
    "        daily_data[\"weather_code\"] = daily_weather_code\n",
    "        daily_data[\"temperature_2m_max\"] = daily_temperature_2m_max\n",
    "        daily_data[\"temperature_2m_min\"] = daily_temperature_2m_min\n",
    "        daily_data[\"temperature_2m_mean\"] = daily_temperature_2m_mean\n",
    "        daily_data[\"precipitation_sum\"] = daily_precipitation_sum\n",
    "        daily_data[\"rain_sum\"] = daily_rain_sum\n",
    "    \n",
    "        actual_weather.append(daily_data)\n",
    "\n",
    "    return actual_weather"
   ]
  },
  {
   "cell_type": "code",
   "execution_count": 4,
   "id": "5c839f69-312a-45dc-9adc-91bdd0deb8a1",
   "metadata": {},
   "outputs": [
    {
     "name": "stdout",
     "output_type": "stream",
     "text": [
      "Coordinates 5.3778557777404785°E -6.481781005859375°N\n",
      "Elevation 109.0 m asl\n",
      "Timezone None None\n",
      "Timezone difference to GMT+0 0 s\n",
      "Coordinates 5.3778557777404785°E -6.40728759765625°N\n",
      "Elevation 82.0 m asl\n",
      "Timezone None None\n",
      "Timezone difference to GMT+0 0 s\n",
      "Coordinates 5.307557106018066°E -6.4764404296875°N\n",
      "Elevation 97.0 m asl\n",
      "Timezone None None\n",
      "Timezone difference to GMT+0 0 s\n",
      "Coordinates 5.307557106018066°E -6.4019775390625°N\n",
      "Elevation 97.0 m asl\n",
      "Timezone None None\n",
      "Timezone difference to GMT+0 0 s\n"
     ]
    }
   ],
   "source": [
    "cocoa = gps_location_to_weather(responses)"
   ]
  },
  {
   "cell_type": "code",
   "execution_count": 5,
   "id": "fb91cb8a-3b10-4edb-afd2-9add97cb9a88",
   "metadata": {},
   "outputs": [
    {
     "data": {
      "text/plain": [
       "[{'date': DatetimeIndex(['1940-01-01', '1940-01-02', '1940-01-03', '1940-01-04',\n",
       "                 '1940-01-05', '1940-01-06', '1940-01-07', '1940-01-08',\n",
       "                 '1940-01-09', '1940-01-10',\n",
       "                 ...\n",
       "                 '2023-12-22', '2023-12-23', '2023-12-24', '2023-12-25',\n",
       "                 '2023-12-26', '2023-12-27', '2023-12-28', '2023-12-29',\n",
       "                 '2023-12-30', '2023-12-31'],\n",
       "                dtype='datetime64[ns]', length=30681, freq='D'),\n",
       "  'weather_code': array([63., 61., 53., ..., 51., 51., 51.], dtype=float32),\n",
       "  'temperature_2m_max': array([28.087   , 28.237   , 27.337   , ..., 35.424   , 33.823997,\n",
       "         35.724   ], dtype=float32),\n",
       "  'temperature_2m_min': array([21.036999, 21.337   , 20.487   , ..., 23.124   , 23.924002,\n",
       "         23.424002], dtype=float32),\n",
       "  'temperature_2m_mean': array([23.436998, 23.43492 , 22.797417, ..., 27.99275 , 27.77817 ,\n",
       "         28.05525 ], dtype=float32),\n",
       "  'precipitation_sum': array([nan, 5.3, 0.7, ..., 0.3, 0.5, 0.1], dtype=float32),\n",
       "  'rain_sum': array([nan, 5.3, 0.7, ..., 0.3, 0.5, 0.1], dtype=float32)},\n",
       " {'date': DatetimeIndex(['1940-01-01', '1940-01-02', '1940-01-03', '1940-01-04',\n",
       "                 '1940-01-05', '1940-01-06', '1940-01-07', '1940-01-08',\n",
       "                 '1940-01-09', '1940-01-10',\n",
       "                 ...\n",
       "                 '2023-12-22', '2023-12-23', '2023-12-24', '2023-12-25',\n",
       "                 '2023-12-26', '2023-12-27', '2023-12-28', '2023-12-29',\n",
       "                 '2023-12-30', '2023-12-31'],\n",
       "                dtype='datetime64[ns]', length=30681, freq='D'),\n",
       "  'weather_code': array([63., 61., 53., ..., 51., 51., 51.], dtype=float32),\n",
       "  'temperature_2m_max': array([28.2625, 28.4125, 27.5125, ..., 35.4695, 33.3695, 35.7195],\n",
       "        dtype=float32),\n",
       "  'temperature_2m_min': array([21.2125, 21.5125, 20.6625, ..., 23.1695, 23.6695, 23.5695],\n",
       "        dtype=float32),\n",
       "  'temperature_2m_mean': array([23.612501, 23.610418, 22.972918, ..., 27.884085, 27.69033 ,\n",
       "         27.957   ], dtype=float32),\n",
       "  'precipitation_sum': array([nan, 5.3, 0.7, ..., 0.1, 0.5, 0.2], dtype=float32),\n",
       "  'rain_sum': array([nan, 5.3, 0.7, ..., 0.1, 0.5, 0.2], dtype=float32)},\n",
       " {'date': DatetimeIndex(['1940-01-01', '1940-01-02', '1940-01-03', '1940-01-04',\n",
       "                 '1940-01-05', '1940-01-06', '1940-01-07', '1940-01-08',\n",
       "                 '1940-01-09', '1940-01-10',\n",
       "                 ...\n",
       "                 '2023-12-22', '2023-12-23', '2023-12-24', '2023-12-25',\n",
       "                 '2023-12-26', '2023-12-27', '2023-12-28', '2023-12-29',\n",
       "                 '2023-12-30', '2023-12-31'],\n",
       "                dtype='datetime64[ns]', length=30681, freq='D'),\n",
       "  'weather_code': array([61., 63., 61., ..., 51., 51., 51.], dtype=float32),\n",
       "  'temperature_2m_max': array([28.3045  , 28.5545  , 27.404501, ..., 36.190998, 34.041   ,\n",
       "         36.091   ], dtype=float32),\n",
       "  'temperature_2m_min': array([21.154501, 21.1045  , 20.3045  , ..., 23.041   , 24.140999,\n",
       "         23.491   ], dtype=float32),\n",
       "  'temperature_2m_mean': array([23.383667, 23.227417, 22.733665, ..., 28.020164, 27.843088,\n",
       "         28.057669], dtype=float32),\n",
       "  'precipitation_sum': array([       nan, 13.6      ,  2.6000001, ...,  0.1      ,  0.6      ,\n",
       "          0.1      ], dtype=float32),\n",
       "  'rain_sum': array([       nan, 13.6      ,  2.6000001, ...,  0.1      ,  0.6      ,\n",
       "          0.1      ], dtype=float32)},\n",
       " {'date': DatetimeIndex(['1940-01-01', '1940-01-02', '1940-01-03', '1940-01-04',\n",
       "                 '1940-01-05', '1940-01-06', '1940-01-07', '1940-01-08',\n",
       "                 '1940-01-09', '1940-01-10',\n",
       "                 ...\n",
       "                 '2023-12-22', '2023-12-23', '2023-12-24', '2023-12-25',\n",
       "                 '2023-12-26', '2023-12-27', '2023-12-28', '2023-12-29',\n",
       "                 '2023-12-30', '2023-12-31'],\n",
       "                dtype='datetime64[ns]', length=30681, freq='D'),\n",
       "  'weather_code': array([61., 63., 61., ..., 51., 51., 51.], dtype=float32),\n",
       "  'temperature_2m_max': array([28.3045  , 28.5545  , 27.404501, ..., 36.067497, 33.7175  ,\n",
       "         35.9175  ], dtype=float32),\n",
       "  'temperature_2m_min': array([21.154501, 21.1045  , 20.3045  , ..., 23.2175  , 23.9675  ,\n",
       "         23.4675  ], dtype=float32),\n",
       "  'temperature_2m_mean': array([23.383667, 23.227417, 22.733665, ..., 27.938334, 27.7425  ,\n",
       "         27.95083 ], dtype=float32),\n",
       "  'precipitation_sum': array([       nan, 13.6      ,  2.6000001, ...,  0.4      ,  0.5      ,\n",
       "          0.2      ], dtype=float32),\n",
       "  'rain_sum': array([       nan, 13.6      ,  2.6000001, ...,  0.4      ,  0.5      ,\n",
       "          0.2      ], dtype=float32)}]"
      ]
     },
     "execution_count": 5,
     "metadata": {},
     "output_type": "execute_result"
    }
   ],
   "source": [
    "cocoa"
   ]
  },
  {
   "cell_type": "code",
   "execution_count": 6,
   "id": "d093730b-e3b6-4eef-8af1-faa2be69ce09",
   "metadata": {},
   "outputs": [
    {
     "data": {
      "text/plain": [
       "[0.25, 0.25, 0.25, 0.25]"
      ]
     },
     "execution_count": 6,
     "metadata": {},
     "output_type": "execute_result"
    }
   ],
   "source": [
    "#defining the weights list for all location\n",
    "locations_weights = [1/len(cocoa) for i in range(len(cocoa))]\n",
    "locations_weights"
   ]
  },
  {
   "cell_type": "code",
   "execution_count": 7,
   "id": "7544a5c5-67d1-42e1-916e-e7edc28e907d",
   "metadata": {},
   "outputs": [],
   "source": [
    "#Building a country climatology from all gps locations\n",
    "def climatology_build(weather_per_location):\n",
    "\n",
    "    country_weather = pd.DataFrame()\n",
    "    for locations in range(len(weather_per_location)):\n",
    "        weather_point = pd.DataFrame(weather_per_location[locations])\n",
    "        \n",
    "        #adding year column and month_number column\n",
    "        weather_point['month_number'] = weather_point['date'].dt.month\n",
    "        weather_point['year'] = weather_point['date'].dt.year\n",
    "        \n",
    "        #creating rain_season rainfall, dry_season rainfall and total rainfall per year\n",
    "        weather_grouped = weather_point.groupby(['year', weather_point['month_number'].isin([5, 6, 7, 8, 9])])['precipitation_sum'].sum().unstack(fill_value=0)\n",
    "        weather_grouped.columns = weather_grouped.columns = ['dry_season', 'rain_season']\n",
    "        weather_grouped[\"total_year_rain\"] = weather_grouped[\"dry_season\"] + weather_grouped[\"rain_season\"]\n",
    "        \n",
    "        # counting the number of rain days for each year\n",
    "        yearly_rain_day = weather_point.groupby(weather_point[\"date\"].dt.to_period('Y')).agg({'precipitation_sum': lambda x: (x > 1.0).sum()})\n",
    "        yearly_rain_day = yearly_rain_day.rename(columns={\"precipitation_sum\":\"rain_days\"})\n",
    "        yearly_rain_day.index = yearly_rain_day.index.year.astype(\"int\")\n",
    "        #counting the days with intense rain (ie weather code = 64 or 65\n",
    "        intense_rain_day = weather_point.groupby(weather_point[\"date\"].dt.to_period('Y')).agg({\"weather_code\": lambda x: (x.isin([64, 65])).sum()})\n",
    "        intense_rain_day.index = intense_rain_day.index.year.astype(\"int\")\n",
    "        intense_rain_day = intense_rain_day.rename(columns={\"weather_code\":\"intense_rain_days\"})\n",
    "        \n",
    "        #creating the final dataframe for the location\n",
    "        weather_total = pd.concat([weather_grouped, yearly_rain_day,intense_rain_day], axis=1)\n",
    "        weather_total[\"latitude\"] = responses[0].Latitude()\n",
    "        weather_total[\"longitude\"] = responses[0].Longitude()\n",
    "        weather_total[\"location_weight\"] = locations_weights[locations]\n",
    "        weather_total[\"dry_season_weighted\"] = weather_total[\"dry_season\"] * weather_total[\"location_weight\"]\n",
    "        weather_total[\"rain_season_weighted\"] = weather_total[\"rain_season\"] * weather_total[\"location_weight\"]\n",
    "        weather_total[\"total_rain_year_weighted\"] = weather_total[\"total_year_rain\"] * weather_total[\"location_weight\"]\n",
    "        weather_total[\"intense_rain_days_weighted\"] = weather_total[\"intense_rain_days\"] * weather_total[\"location_weight\"]\n",
    "        #possible to weight the number of rain days\n",
    "        \n",
    "        #concatenating into the country dataframe with details per GPS point\n",
    "        country_weather = pd.concat([country_weather,weather_total])\n",
    "        \n",
    "        #building a summary dataframe for climatology per year\n",
    "        country_weather_dry_season = country_weather.groupby(country_weather.index)['dry_season_weighted'].sum()\n",
    "        country_weather_rain_season = country_weather.groupby(country_weather.index)['rain_season_weighted'].sum()\n",
    "        country_weather_rain = country_weather.groupby(country_weather.index)['total_rain_year_weighted'].sum()\n",
    "        country_weather_rain_days = country_weather.groupby(country_weather.index)['rain_days'].mean()\n",
    "        country_weather_intense_rain = country_weather.groupby(country_weather.index)['intense_rain_days_weighted'].mean()\n",
    "        country_climatology = pd.concat([country_weather_dry_season, country_weather_rain_season,country_weather_rain,country_weather_rain_days,country_weather_intense_rain], axis=1)\n",
    "\n",
    "    return country_climatology"
   ]
  },
  {
   "cell_type": "code",
   "execution_count": 8,
   "id": "2ee1ccc0-cfd8-4d03-b61b-544764b25a05",
   "metadata": {},
   "outputs": [],
   "source": [
    "cocoa_climatology = climatology_build(cocoa)"
   ]
  },
  {
   "cell_type": "code",
   "execution_count": 9,
   "id": "ce0bf751-a03b-4975-b86e-ee29ae0f9c4a",
   "metadata": {},
   "outputs": [
    {
     "data": {
      "text/html": [
       "<div>\n",
       "<style scoped>\n",
       "    .dataframe tbody tr th:only-of-type {\n",
       "        vertical-align: middle;\n",
       "    }\n",
       "\n",
       "    .dataframe tbody tr th {\n",
       "        vertical-align: top;\n",
       "    }\n",
       "\n",
       "    .dataframe thead th {\n",
       "        text-align: right;\n",
       "    }\n",
       "</style>\n",
       "<table border=\"1\" class=\"dataframe\">\n",
       "  <thead>\n",
       "    <tr style=\"text-align: right;\">\n",
       "      <th></th>\n",
       "      <th>dry_season_weighted</th>\n",
       "      <th>rain_season_weighted</th>\n",
       "      <th>total_rain_year_weighted</th>\n",
       "      <th>rain_days</th>\n",
       "      <th>intense_rain_days_weighted</th>\n",
       "    </tr>\n",
       "  </thead>\n",
       "  <tbody>\n",
       "    <tr>\n",
       "      <th>1940</th>\n",
       "      <td>875.150024</td>\n",
       "      <td>656.050018</td>\n",
       "      <td>1531.200012</td>\n",
       "      <td>288.00</td>\n",
       "      <td>1.5000</td>\n",
       "    </tr>\n",
       "    <tr>\n",
       "      <th>1941</th>\n",
       "      <td>831.449982</td>\n",
       "      <td>891.000031</td>\n",
       "      <td>1722.450012</td>\n",
       "      <td>291.50</td>\n",
       "      <td>2.2500</td>\n",
       "    </tr>\n",
       "    <tr>\n",
       "      <th>1942</th>\n",
       "      <td>651.350006</td>\n",
       "      <td>445.000000</td>\n",
       "      <td>1096.349976</td>\n",
       "      <td>236.00</td>\n",
       "      <td>1.0000</td>\n",
       "    </tr>\n",
       "    <tr>\n",
       "      <th>1943</th>\n",
       "      <td>576.500015</td>\n",
       "      <td>489.700012</td>\n",
       "      <td>1066.200073</td>\n",
       "      <td>216.00</td>\n",
       "      <td>1.0000</td>\n",
       "    </tr>\n",
       "    <tr>\n",
       "      <th>1944</th>\n",
       "      <td>676.850006</td>\n",
       "      <td>807.800018</td>\n",
       "      <td>1484.650024</td>\n",
       "      <td>273.00</td>\n",
       "      <td>1.8750</td>\n",
       "    </tr>\n",
       "    <tr>\n",
       "      <th>...</th>\n",
       "      <td>...</td>\n",
       "      <td>...</td>\n",
       "      <td>...</td>\n",
       "      <td>...</td>\n",
       "      <td>...</td>\n",
       "    </tr>\n",
       "    <tr>\n",
       "      <th>2019</th>\n",
       "      <td>825.725006</td>\n",
       "      <td>1159.824982</td>\n",
       "      <td>1985.549957</td>\n",
       "      <td>264.25</td>\n",
       "      <td>3.5000</td>\n",
       "    </tr>\n",
       "    <tr>\n",
       "      <th>2020</th>\n",
       "      <td>848.100006</td>\n",
       "      <td>905.350006</td>\n",
       "      <td>1753.450012</td>\n",
       "      <td>271.00</td>\n",
       "      <td>2.7500</td>\n",
       "    </tr>\n",
       "    <tr>\n",
       "      <th>2021</th>\n",
       "      <td>742.400009</td>\n",
       "      <td>1422.575043</td>\n",
       "      <td>2164.975037</td>\n",
       "      <td>271.75</td>\n",
       "      <td>4.3125</td>\n",
       "    </tr>\n",
       "    <tr>\n",
       "      <th>2022</th>\n",
       "      <td>837.500000</td>\n",
       "      <td>883.875015</td>\n",
       "      <td>1721.375031</td>\n",
       "      <td>244.50</td>\n",
       "      <td>5.5000</td>\n",
       "    </tr>\n",
       "    <tr>\n",
       "      <th>2023</th>\n",
       "      <td>713.074997</td>\n",
       "      <td>1046.600021</td>\n",
       "      <td>1759.674988</td>\n",
       "      <td>250.00</td>\n",
       "      <td>5.3125</td>\n",
       "    </tr>\n",
       "  </tbody>\n",
       "</table>\n",
       "<p>84 rows × 5 columns</p>\n",
       "</div>"
      ],
      "text/plain": [
       "      dry_season_weighted  rain_season_weighted  total_rain_year_weighted  \\\n",
       "1940           875.150024            656.050018               1531.200012   \n",
       "1941           831.449982            891.000031               1722.450012   \n",
       "1942           651.350006            445.000000               1096.349976   \n",
       "1943           576.500015            489.700012               1066.200073   \n",
       "1944           676.850006            807.800018               1484.650024   \n",
       "...                   ...                   ...                       ...   \n",
       "2019           825.725006           1159.824982               1985.549957   \n",
       "2020           848.100006            905.350006               1753.450012   \n",
       "2021           742.400009           1422.575043               2164.975037   \n",
       "2022           837.500000            883.875015               1721.375031   \n",
       "2023           713.074997           1046.600021               1759.674988   \n",
       "\n",
       "      rain_days  intense_rain_days_weighted  \n",
       "1940     288.00                      1.5000  \n",
       "1941     291.50                      2.2500  \n",
       "1942     236.00                      1.0000  \n",
       "1943     216.00                      1.0000  \n",
       "1944     273.00                      1.8750  \n",
       "...         ...                         ...  \n",
       "2019     264.25                      3.5000  \n",
       "2020     271.00                      2.7500  \n",
       "2021     271.75                      4.3125  \n",
       "2022     244.50                      5.5000  \n",
       "2023     250.00                      5.3125  \n",
       "\n",
       "[84 rows x 5 columns]"
      ]
     },
     "execution_count": 9,
     "metadata": {},
     "output_type": "execute_result"
    }
   ],
   "source": [
    "cocoa_climatology"
   ]
  },
  {
   "cell_type": "code",
   "execution_count": 10,
   "id": "97dd990d-c442-46f6-9408-b1fddb82ed14",
   "metadata": {},
   "outputs": [
    {
     "data": {
      "text/html": [
       "<div>\n",
       "<style scoped>\n",
       "    .dataframe tbody tr th:only-of-type {\n",
       "        vertical-align: middle;\n",
       "    }\n",
       "\n",
       "    .dataframe tbody tr th {\n",
       "        vertical-align: top;\n",
       "    }\n",
       "\n",
       "    .dataframe thead th {\n",
       "        text-align: right;\n",
       "    }\n",
       "</style>\n",
       "<table border=\"1\" class=\"dataframe\">\n",
       "  <thead>\n",
       "    <tr style=\"text-align: right;\">\n",
       "      <th></th>\n",
       "      <th>dry_season_weighted</th>\n",
       "      <th>rain_season_weighted</th>\n",
       "      <th>total_rain_year_weighted</th>\n",
       "      <th>rain_days</th>\n",
       "      <th>intense_rain_days_weighted</th>\n",
       "    </tr>\n",
       "  </thead>\n",
       "  <tbody>\n",
       "    <tr>\n",
       "      <th>1940</th>\n",
       "      <td>875.150024</td>\n",
       "      <td>656.050018</td>\n",
       "      <td>1531.200012</td>\n",
       "      <td>288.00</td>\n",
       "      <td>1.5000</td>\n",
       "    </tr>\n",
       "    <tr>\n",
       "      <th>1941</th>\n",
       "      <td>831.449982</td>\n",
       "      <td>891.000031</td>\n",
       "      <td>1722.450012</td>\n",
       "      <td>291.50</td>\n",
       "      <td>2.2500</td>\n",
       "    </tr>\n",
       "    <tr>\n",
       "      <th>1942</th>\n",
       "      <td>651.350006</td>\n",
       "      <td>445.000000</td>\n",
       "      <td>1096.349976</td>\n",
       "      <td>236.00</td>\n",
       "      <td>1.0000</td>\n",
       "    </tr>\n",
       "    <tr>\n",
       "      <th>1943</th>\n",
       "      <td>576.500015</td>\n",
       "      <td>489.700012</td>\n",
       "      <td>1066.200073</td>\n",
       "      <td>216.00</td>\n",
       "      <td>1.0000</td>\n",
       "    </tr>\n",
       "    <tr>\n",
       "      <th>1944</th>\n",
       "      <td>676.850006</td>\n",
       "      <td>807.800018</td>\n",
       "      <td>1484.650024</td>\n",
       "      <td>273.00</td>\n",
       "      <td>1.8750</td>\n",
       "    </tr>\n",
       "    <tr>\n",
       "      <th>...</th>\n",
       "      <td>...</td>\n",
       "      <td>...</td>\n",
       "      <td>...</td>\n",
       "      <td>...</td>\n",
       "      <td>...</td>\n",
       "    </tr>\n",
       "    <tr>\n",
       "      <th>2019</th>\n",
       "      <td>825.725006</td>\n",
       "      <td>1159.824982</td>\n",
       "      <td>1985.549957</td>\n",
       "      <td>264.25</td>\n",
       "      <td>3.5000</td>\n",
       "    </tr>\n",
       "    <tr>\n",
       "      <th>2020</th>\n",
       "      <td>848.100006</td>\n",
       "      <td>905.350006</td>\n",
       "      <td>1753.450012</td>\n",
       "      <td>271.00</td>\n",
       "      <td>2.7500</td>\n",
       "    </tr>\n",
       "    <tr>\n",
       "      <th>2021</th>\n",
       "      <td>742.400009</td>\n",
       "      <td>1422.575043</td>\n",
       "      <td>2164.975037</td>\n",
       "      <td>271.75</td>\n",
       "      <td>4.3125</td>\n",
       "    </tr>\n",
       "    <tr>\n",
       "      <th>2022</th>\n",
       "      <td>837.500000</td>\n",
       "      <td>883.875015</td>\n",
       "      <td>1721.375031</td>\n",
       "      <td>244.50</td>\n",
       "      <td>5.5000</td>\n",
       "    </tr>\n",
       "    <tr>\n",
       "      <th>2023</th>\n",
       "      <td>713.074997</td>\n",
       "      <td>1046.600021</td>\n",
       "      <td>1759.674988</td>\n",
       "      <td>250.00</td>\n",
       "      <td>5.3125</td>\n",
       "    </tr>\n",
       "  </tbody>\n",
       "</table>\n",
       "<p>84 rows × 5 columns</p>\n",
       "</div>"
      ],
      "text/plain": [
       "      dry_season_weighted  rain_season_weighted  total_rain_year_weighted  \\\n",
       "1940           875.150024            656.050018               1531.200012   \n",
       "1941           831.449982            891.000031               1722.450012   \n",
       "1942           651.350006            445.000000               1096.349976   \n",
       "1943           576.500015            489.700012               1066.200073   \n",
       "1944           676.850006            807.800018               1484.650024   \n",
       "...                   ...                   ...                       ...   \n",
       "2019           825.725006           1159.824982               1985.549957   \n",
       "2020           848.100006            905.350006               1753.450012   \n",
       "2021           742.400009           1422.575043               2164.975037   \n",
       "2022           837.500000            883.875015               1721.375031   \n",
       "2023           713.074997           1046.600021               1759.674988   \n",
       "\n",
       "      rain_days  intense_rain_days_weighted  \n",
       "1940     288.00                      1.5000  \n",
       "1941     291.50                      2.2500  \n",
       "1942     236.00                      1.0000  \n",
       "1943     216.00                      1.0000  \n",
       "1944     273.00                      1.8750  \n",
       "...         ...                         ...  \n",
       "2019     264.25                      3.5000  \n",
       "2020     271.00                      2.7500  \n",
       "2021     271.75                      4.3125  \n",
       "2022     244.50                      5.5000  \n",
       "2023     250.00                      5.3125  \n",
       "\n",
       "[84 rows x 5 columns]"
      ]
     },
     "execution_count": 10,
     "metadata": {},
     "output_type": "execute_result"
    }
   ],
   "source": [
    "# Fit K-means\n",
    "km = KMeans(n_clusters=5)\n",
    "km.fit(cocoa_climatology)\n",
    "cocoa_climatology"
   ]
  },
  {
   "cell_type": "code",
   "execution_count": 11,
   "id": "1bb4b960-2a91-4881-ac6b-f063d10dbbb4",
   "metadata": {},
   "outputs": [
    {
     "name": "stdout",
     "output_type": "stream",
     "text": [
      "0 [1940, 1944, 1947, 1951, 1952, 1955, 1956, 1963, 1967, 1973, 1974, 1975, 1976, 1977, 1981, 1985, 1986, 1987, 1989, 1990, 1991, 1992, 1993, 1995, 1996, 1998, 1999, 2003, 2004, 2005, 2007, 2008, 2014]\n",
      "1 [1968, 1984, 2016, 2017, 2018, 2019, 2021, 2023]\n",
      "2 [1942, 1943, 1948, 1954, 1958, 1960, 1961, 1962, 1964, 1997, 2000, 2015]\n",
      "3 [1941, 1957, 1969, 1970, 1971, 1972, 1978, 1979, 1980, 1988, 2010, 2020, 2022]\n",
      "4 [1945, 1946, 1949, 1950, 1953, 1959, 1965, 1966, 1982, 1983, 1994, 2001, 2002, 2006, 2009, 2011, 2012, 2013]\n"
     ]
    }
   ],
   "source": [
    "#translating the family groups back into lists of years\n",
    "def group_index_to_list(group):\n",
    "    return list(group.index)\n",
    "\n",
    "cocoa_similar_years = cocoa_climatology.copy()\n",
    "cocoa_similar_years[\"year_group\"] = km.labels_\n",
    "grouped_index_lists = cocoa_similar_years.groupby('year_group').apply(group_index_to_list, include_groups = False)\n",
    "\n",
    "for i in range(len(grouped_index_lists)):\n",
    "    print(f\"{i} {grouped_index_lists[i]}\")"
   ]
  },
  {
   "cell_type": "code",
   "execution_count": 12,
   "id": "e6796afd-7133-48e7-934a-4fbc8d4169cc",
   "metadata": {},
   "outputs": [
    {
     "data": {
      "text/plain": [
       "{0: 746.6045527602687,\n",
       " 1: 1171.4437656402588,\n",
       " 2: 527.3333422342936,\n",
       " 3: 817.6557840200571,\n",
       " 4: 658.4750027126736}"
      ]
     },
     "execution_count": 12,
     "metadata": {},
     "output_type": "execute_result"
    }
   ],
   "source": [
    "#building a dictionary showing a weather characteristic for each family\n",
    "rain_season_cumul = {}\n",
    "for i in range(len(grouped_index_lists)):\n",
    "    crop_years = grouped_index_lists[i]\n",
    "    rain_season_type = cocoa_similar_years[cocoa_climatology.index.isin(crop_years)]\n",
    "    rain_season_cumul[i] = rain_season_type[\"rain_season_weighted\"].mean()\n",
    "rain_season_cumul"
   ]
  },
  {
   "cell_type": "code",
   "execution_count": null,
   "id": "40544b7b-6a55-4515-b8d4-b55f387c47ac",
   "metadata": {},
   "outputs": [],
   "source": [
    "#do not package below this point"
   ]
  },
  {
   "cell_type": "code",
   "execution_count": 13,
   "id": "560e62f3-b8b6-4183-a051-588789cdebed",
   "metadata": {},
   "outputs": [
    {
     "data": {
      "text/plain": [
       "array([ 1,  1,  1,  1,  1,  1,  1,  1,  1,  1,  1,  1,  1,  1,  1,  1, -1,\n",
       "        1,  1,  1,  1,  1,  1,  1,  1,  1,  1,  1, -1,  1,  1,  1, -1,  1,\n",
       "        1,  1,  1,  1, -1,  1,  1,  1,  1,  1, -1,  1,  1,  1,  1,  1,  1,\n",
       "        1,  1,  1,  1,  1,  1,  1,  1,  1,  1,  1,  1,  1,  1,  1,  1,  1,\n",
       "        1,  1,  1,  1,  1,  1,  1,  1, -1,  1, -1, -1,  1, -1,  1,  1])"
      ]
     },
     "execution_count": 13,
     "metadata": {},
     "output_type": "execute_result"
    }
   ],
   "source": [
    "#detecting outliers from the weather dataset\n",
    "sk_outlier = LocalOutlierFactor()\n",
    "outliers = sk_outlier.fit_predict(cocoa_climatology)\n",
    "outliers"
   ]
  },
  {
   "cell_type": "code",
   "execution_count": 14,
   "id": "661a55e1-1623-43ca-a93d-00be2001ba48",
   "metadata": {},
   "outputs": [
    {
     "data": {
      "text/plain": [
       "array([-1.09533625, -1.13200705, -1.34172977, -1.4337035 , -1.03621805,\n",
       "       -1.03142355, -1.01944246, -0.95152947, -1.16904143, -1.01963096,\n",
       "       -0.97137975, -0.97118625, -1.0345338 , -0.96125007, -1.3928986 ,\n",
       "       -1.21307994, -1.59249576, -1.16497283, -1.46947319, -0.96635409,\n",
       "       -1.10445126, -1.08763867, -1.07578021, -1.2336691 , -1.10639217,\n",
       "       -1.01145597, -1.0626203 , -0.9865381 , -1.83669837, -1.17417464,\n",
       "       -1.25964693, -1.24757032, -1.58099852, -1.04523629, -1.07338436,\n",
       "       -1.22025431, -1.05118561, -0.98070972, -1.63494406, -1.14892921,\n",
       "       -1.41594537, -1.04433007, -0.98553998, -0.9792519 , -1.63186827,\n",
       "       -1.02522077, -0.96913738, -1.06737127, -1.18209371, -0.99524394,\n",
       "       -0.98055834, -0.95516895, -0.96157324, -0.95459404, -1.02523364,\n",
       "       -1.13809072, -1.07078033, -1.06052447, -0.98181473, -0.95167301,\n",
       "       -1.34290709, -0.98690789, -0.9746859 , -0.96734755, -1.03273755,\n",
       "       -0.96771826, -0.94295076, -1.25243321, -1.29633648, -0.95092189,\n",
       "       -1.1248967 , -0.9976451 , -0.99527962, -1.17051836, -1.19480645,\n",
       "       -1.03761952, -1.5201443 , -1.36524774, -1.83582442, -1.51237448,\n",
       "       -1.18931405, -2.21684505, -1.12613289, -1.37573968])"
      ]
     },
     "execution_count": 14,
     "metadata": {},
     "output_type": "execute_result"
    }
   ],
   "source": [
    "sk_outlier.negative_outlier_factor_"
   ]
  },
  {
   "cell_type": "code",
   "execution_count": 15,
   "id": "b1975372-2592-4db0-b65e-24b46b225d78",
   "metadata": {},
   "outputs": [
    {
     "data": {
      "text/plain": [
       "[1956, 1968, 1972, 1978, 1984, 2016, 2018, 2019, 2021]"
      ]
     },
     "execution_count": 15,
     "metadata": {},
     "output_type": "execute_result"
    }
   ],
   "source": [
    "#extracting the list of outliers as years\n",
    "cocoa_years = cocoa_climatology.index.tolist()\n",
    "cocoa_years_outliers = []\n",
    "for item1, item2 in zip(outliers, cocoa_years):\n",
    "    if item1 == -1:\n",
    "        cocoa_years_outliers.append(item2)\n",
    "cocoa_years_outliers"
   ]
  },
  {
   "cell_type": "code",
   "execution_count": 16,
   "id": "5d6916fe-f790-4a4e-9495-2a110df3be70",
   "metadata": {},
   "outputs": [
    {
     "data": {
      "text/html": [
       "<div>\n",
       "<style scoped>\n",
       "    .dataframe tbody tr th:only-of-type {\n",
       "        vertical-align: middle;\n",
       "    }\n",
       "\n",
       "    .dataframe tbody tr th {\n",
       "        vertical-align: top;\n",
       "    }\n",
       "\n",
       "    .dataframe thead th {\n",
       "        text-align: right;\n",
       "    }\n",
       "</style>\n",
       "<table border=\"1\" class=\"dataframe\">\n",
       "  <thead>\n",
       "    <tr style=\"text-align: right;\">\n",
       "      <th></th>\n",
       "      <th>dry_season_weighted</th>\n",
       "      <th>rain_season_weighted</th>\n",
       "      <th>total_rain_year_weighted</th>\n",
       "      <th>rain_days</th>\n",
       "      <th>intense_rain_days_weighted</th>\n",
       "    </tr>\n",
       "  </thead>\n",
       "  <tbody>\n",
       "    <tr>\n",
       "      <th>1956</th>\n",
       "      <td>991.800018</td>\n",
       "      <td>528.300003</td>\n",
       "      <td>1520.099976</td>\n",
       "      <td>273.50</td>\n",
       "      <td>1.8750</td>\n",
       "    </tr>\n",
       "    <tr>\n",
       "      <th>1968</th>\n",
       "      <td>1083.500000</td>\n",
       "      <td>1150.500000</td>\n",
       "      <td>2234.000061</td>\n",
       "      <td>320.00</td>\n",
       "      <td>3.5000</td>\n",
       "    </tr>\n",
       "    <tr>\n",
       "      <th>1972</th>\n",
       "      <td>1180.899994</td>\n",
       "      <td>795.750000</td>\n",
       "      <td>1976.650024</td>\n",
       "      <td>298.50</td>\n",
       "      <td>3.7500</td>\n",
       "    </tr>\n",
       "    <tr>\n",
       "      <th>1978</th>\n",
       "      <td>1195.800018</td>\n",
       "      <td>651.200012</td>\n",
       "      <td>1847.000122</td>\n",
       "      <td>310.50</td>\n",
       "      <td>3.3750</td>\n",
       "    </tr>\n",
       "    <tr>\n",
       "      <th>1984</th>\n",
       "      <td>815.750000</td>\n",
       "      <td>1209.650024</td>\n",
       "      <td>2025.400024</td>\n",
       "      <td>285.00</td>\n",
       "      <td>3.2500</td>\n",
       "    </tr>\n",
       "    <tr>\n",
       "      <th>2016</th>\n",
       "      <td>630.449982</td>\n",
       "      <td>1083.800018</td>\n",
       "      <td>1714.250000</td>\n",
       "      <td>236.50</td>\n",
       "      <td>2.6250</td>\n",
       "    </tr>\n",
       "    <tr>\n",
       "      <th>2018</th>\n",
       "      <td>753.750000</td>\n",
       "      <td>1275.475037</td>\n",
       "      <td>2029.225037</td>\n",
       "      <td>283.25</td>\n",
       "      <td>3.9375</td>\n",
       "    </tr>\n",
       "    <tr>\n",
       "      <th>2019</th>\n",
       "      <td>825.725006</td>\n",
       "      <td>1159.824982</td>\n",
       "      <td>1985.549957</td>\n",
       "      <td>264.25</td>\n",
       "      <td>3.5000</td>\n",
       "    </tr>\n",
       "    <tr>\n",
       "      <th>2021</th>\n",
       "      <td>742.400009</td>\n",
       "      <td>1422.575043</td>\n",
       "      <td>2164.975037</td>\n",
       "      <td>271.75</td>\n",
       "      <td>4.3125</td>\n",
       "    </tr>\n",
       "  </tbody>\n",
       "</table>\n",
       "</div>"
      ],
      "text/plain": [
       "      dry_season_weighted  rain_season_weighted  total_rain_year_weighted  \\\n",
       "1956           991.800018            528.300003               1520.099976   \n",
       "1968          1083.500000           1150.500000               2234.000061   \n",
       "1972          1180.899994            795.750000               1976.650024   \n",
       "1978          1195.800018            651.200012               1847.000122   \n",
       "1984           815.750000           1209.650024               2025.400024   \n",
       "2016           630.449982           1083.800018               1714.250000   \n",
       "2018           753.750000           1275.475037               2029.225037   \n",
       "2019           825.725006           1159.824982               1985.549957   \n",
       "2021           742.400009           1422.575043               2164.975037   \n",
       "\n",
       "      rain_days  intense_rain_days_weighted  \n",
       "1956     273.50                      1.8750  \n",
       "1968     320.00                      3.5000  \n",
       "1972     298.50                      3.7500  \n",
       "1978     310.50                      3.3750  \n",
       "1984     285.00                      3.2500  \n",
       "2016     236.50                      2.6250  \n",
       "2018     283.25                      3.9375  \n",
       "2019     264.25                      3.5000  \n",
       "2021     271.75                      4.3125  "
      ]
     },
     "execution_count": 16,
     "metadata": {},
     "output_type": "execute_result"
    }
   ],
   "source": [
    "#creating a new dataframe only showing the outlier years weather features\n",
    "climatology_outliers = cocoa_climatology.loc[cocoa_years_outliers]\n",
    "climatology_outliers"
   ]
  },
  {
   "cell_type": "code",
   "execution_count": 17,
   "id": "bc8e92f1-6abf-497d-94cc-572d34daf2c7",
   "metadata": {},
   "outputs": [
    {
     "data": {
      "text/html": [
       "<div>\n",
       "<style scoped>\n",
       "    .dataframe tbody tr th:only-of-type {\n",
       "        vertical-align: middle;\n",
       "    }\n",
       "\n",
       "    .dataframe tbody tr th {\n",
       "        vertical-align: top;\n",
       "    }\n",
       "\n",
       "    .dataframe thead th {\n",
       "        text-align: right;\n",
       "    }\n",
       "</style>\n",
       "<table border=\"1\" class=\"dataframe\">\n",
       "  <thead>\n",
       "    <tr style=\"text-align: right;\">\n",
       "      <th></th>\n",
       "      <th>0</th>\n",
       "      <th>1</th>\n",
       "      <th>2</th>\n",
       "      <th>3</th>\n",
       "      <th>4</th>\n",
       "    </tr>\n",
       "  </thead>\n",
       "  <tbody>\n",
       "    <tr>\n",
       "      <th>1956</th>\n",
       "      <td>3.195808</td>\n",
       "      <td>0.000000</td>\n",
       "      <td>0.000000</td>\n",
       "      <td>2.215569</td>\n",
       "      <td>0.000000</td>\n",
       "    </tr>\n",
       "    <tr>\n",
       "      <th>1968</th>\n",
       "      <td>4.006810</td>\n",
       "      <td>3.478796</td>\n",
       "      <td>5.000000</td>\n",
       "      <td>5.000000</td>\n",
       "      <td>3.333333</td>\n",
       "    </tr>\n",
       "    <tr>\n",
       "      <th>1972</th>\n",
       "      <td>4.868223</td>\n",
       "      <td>1.495345</td>\n",
       "      <td>3.197577</td>\n",
       "      <td>3.712575</td>\n",
       "      <td>3.846154</td>\n",
       "    </tr>\n",
       "    <tr>\n",
       "      <th>1978</th>\n",
       "      <td>5.000000</td>\n",
       "      <td>0.687149</td>\n",
       "      <td>2.289537</td>\n",
       "      <td>4.431138</td>\n",
       "      <td>3.076923</td>\n",
       "    </tr>\n",
       "    <tr>\n",
       "      <th>1984</th>\n",
       "      <td>1.638808</td>\n",
       "      <td>3.809510</td>\n",
       "      <td>3.539011</td>\n",
       "      <td>2.904192</td>\n",
       "      <td>2.820513</td>\n",
       "    </tr>\n",
       "    <tr>\n",
       "      <th>2016</th>\n",
       "      <td>0.000000</td>\n",
       "      <td>3.105868</td>\n",
       "      <td>1.359784</td>\n",
       "      <td>0.000000</td>\n",
       "      <td>1.538462</td>\n",
       "    </tr>\n",
       "    <tr>\n",
       "      <th>2018</th>\n",
       "      <td>1.090475</td>\n",
       "      <td>4.177546</td>\n",
       "      <td>3.565801</td>\n",
       "      <td>2.799401</td>\n",
       "      <td>4.230769</td>\n",
       "    </tr>\n",
       "    <tr>\n",
       "      <th>2019</th>\n",
       "      <td>1.727028</td>\n",
       "      <td>3.530933</td>\n",
       "      <td>3.259910</td>\n",
       "      <td>1.661677</td>\n",
       "      <td>3.333333</td>\n",
       "    </tr>\n",
       "    <tr>\n",
       "      <th>2021</th>\n",
       "      <td>0.990095</td>\n",
       "      <td>5.000000</td>\n",
       "      <td>4.516564</td>\n",
       "      <td>2.110778</td>\n",
       "      <td>5.000000</td>\n",
       "    </tr>\n",
       "  </tbody>\n",
       "</table>\n",
       "</div>"
      ],
      "text/plain": [
       "             0         1         2         3         4\n",
       "1956  3.195808  0.000000  0.000000  2.215569  0.000000\n",
       "1968  4.006810  3.478796  5.000000  5.000000  3.333333\n",
       "1972  4.868223  1.495345  3.197577  3.712575  3.846154\n",
       "1978  5.000000  0.687149  2.289537  4.431138  3.076923\n",
       "1984  1.638808  3.809510  3.539011  2.904192  2.820513\n",
       "2016  0.000000  3.105868  1.359784  0.000000  1.538462\n",
       "2018  1.090475  4.177546  3.565801  2.799401  4.230769\n",
       "2019  1.727028  3.530933  3.259910  1.661677  3.333333\n",
       "2021  0.990095  5.000000  4.516564  2.110778  5.000000"
      ]
     },
     "execution_count": 17,
     "metadata": {},
     "output_type": "execute_result"
    }
   ],
   "source": [
    "#scaling the features for better display in a chart\n",
    "scaler = MinMaxScaler(feature_range=(0, 5))\n",
    "climatology_outliers_scaled = pd.DataFrame(scaler.fit_transform(climatology_outliers))\n",
    "#putting back the index as the outlier years\n",
    "climatology_outliers_scaled = climatology_outliers_scaled.set_index(keys = [cocoa_years_outliers])\n",
    "climatology_outliers_scaled"
   ]
  },
  {
   "cell_type": "code",
   "execution_count": 22,
   "id": "c8722c20-19d4-4e29-82de-c5129db78fbf",
   "metadata": {},
   "outputs": [
    {
     "data": {
      "application/vnd.plotly.v1+json": {
       "config": {
        "plotlyServerURL": "https://plot.ly"
       },
       "data": [
        {
         "fill": "toself",
         "name": "1956",
         "r": [
          3.195808023474809,
          0,
          0,
          2.2155688622754486,
          0
         ],
         "theta": [
          "dry_season_weighted",
          "rain_season_weighted",
          "total_rain_year_weighted",
          "rain_days",
          "intense_rain_days_weighted"
         ],
         "type": "scatterpolar",
         "visible": "legendonly"
        },
        {
         "fill": "toself",
         "name": "1968",
         "r": [
          4.006809843139605,
          3.4787955010790568,
          5,
          5.000000000000002,
          3.333333333333333
         ],
         "theta": [
          "dry_season_weighted",
          "rain_season_weighted",
          "total_rain_year_weighted",
          "rain_days",
          "intense_rain_days_weighted"
         ],
         "type": "scatterpolar",
         "visible": "legendonly"
        },
        {
         "fill": "toself",
         "name": "1972",
         "r": [
          4.868223017167249,
          1.4953453081172996,
          3.1975766506656367,
          3.7125748502994025,
          3.846153846153846
         ],
         "theta": [
          "dry_season_weighted",
          "rain_season_weighted",
          "total_rain_year_weighted",
          "rain_days",
          "intense_rain_days_weighted"
         ],
         "type": "scatterpolar",
         "visible": "legendonly"
        },
        {
         "fill": "toself",
         "name": "1978",
         "r": [
          5,
          0.687148828397544,
          2.289537101530632,
          4.431137724550899,
          3.0769230769230766
         ],
         "theta": [
          "dry_season_weighted",
          "rain_season_weighted",
          "total_rain_year_weighted",
          "rain_days",
          "intense_rain_days_weighted"
         ],
         "type": "scatterpolar",
         "visible": "legendonly"
        },
        {
         "fill": "toself",
         "name": "1984",
         "r": [
          1.6388078739502925,
          3.8095104477676114,
          3.5390109843604165,
          2.9041916167664663,
          2.8205128205128203
         ],
         "theta": [
          "dry_season_weighted",
          "rain_season_weighted",
          "total_rain_year_weighted",
          "rain_days",
          "intense_rain_days_weighted"
         ],
         "type": "scatterpolar",
         "visible": "legendonly"
        },
        {
         "fill": "toself",
         "name": "2016",
         "r": [
          0,
          3.105867829331371,
          1.3597842917464735,
          0,
          1.5384615384615383
         ],
         "theta": [
          "dry_season_weighted",
          "rain_season_weighted",
          "total_rain_year_weighted",
          "rain_days",
          "intense_rain_days_weighted"
         ],
         "type": "scatterpolar",
         "visible": "legendonly"
        },
        {
         "fill": "toself",
         "name": "2018",
         "r": [
          1.0904750183396947,
          4.17754605922285,
          3.565800532961074,
          2.799401197604789,
          4.230769230769231
         ],
         "theta": [
          "dry_season_weighted",
          "rain_season_weighted",
          "total_rain_year_weighted",
          "rain_days",
          "intense_rain_days_weighted"
         ],
         "type": "scatterpolar",
         "visible": true
        },
        {
         "fill": "toself",
         "name": "2019",
         "r": [
          1.7270276091353542,
          3.530932602506289,
          3.2599098331566285,
          1.6616766467065869,
          3.333333333333333
         ],
         "theta": [
          "dry_season_weighted",
          "rain_season_weighted",
          "total_rain_year_weighted",
          "rain_days",
          "intense_rain_days_weighted"
         ],
         "type": "scatterpolar",
         "visible": true
        },
        {
         "fill": "toself",
         "name": "2021",
         "r": [
          0.9900948104196461,
          5,
          4.5165638314034595,
          2.1107784431137713,
          4.999999999999999
         ],
         "theta": [
          "dry_season_weighted",
          "rain_season_weighted",
          "total_rain_year_weighted",
          "rain_days",
          "intense_rain_days_weighted"
         ],
         "type": "scatterpolar",
         "visible": true
        }
       ],
       "layout": {
        "autosize": true,
        "dragmode": "select",
        "polar": {
         "angularaxis": {
          "rotation": -54.942721230315456,
          "type": "category"
         },
         "radialaxis": {
          "autorange": false,
          "range": [
           0,
           5
          ],
          "type": "linear",
          "visible": true
         }
        },
        "showlegend": true,
        "template": {
         "data": {
          "bar": [
           {
            "error_x": {
             "color": "#2a3f5f"
            },
            "error_y": {
             "color": "#2a3f5f"
            },
            "marker": {
             "line": {
              "color": "#E5ECF6",
              "width": 0.5
             },
             "pattern": {
              "fillmode": "overlay",
              "size": 10,
              "solidity": 0.2
             }
            },
            "type": "bar"
           }
          ],
          "barpolar": [
           {
            "marker": {
             "line": {
              "color": "#E5ECF6",
              "width": 0.5
             },
             "pattern": {
              "fillmode": "overlay",
              "size": 10,
              "solidity": 0.2
             }
            },
            "type": "barpolar"
           }
          ],
          "carpet": [
           {
            "aaxis": {
             "endlinecolor": "#2a3f5f",
             "gridcolor": "white",
             "linecolor": "white",
             "minorgridcolor": "white",
             "startlinecolor": "#2a3f5f"
            },
            "baxis": {
             "endlinecolor": "#2a3f5f",
             "gridcolor": "white",
             "linecolor": "white",
             "minorgridcolor": "white",
             "startlinecolor": "#2a3f5f"
            },
            "type": "carpet"
           }
          ],
          "choropleth": [
           {
            "colorbar": {
             "outlinewidth": 0,
             "ticks": ""
            },
            "type": "choropleth"
           }
          ],
          "contour": [
           {
            "colorbar": {
             "outlinewidth": 0,
             "ticks": ""
            },
            "colorscale": [
             [
              0,
              "#0d0887"
             ],
             [
              0.1111111111111111,
              "#46039f"
             ],
             [
              0.2222222222222222,
              "#7201a8"
             ],
             [
              0.3333333333333333,
              "#9c179e"
             ],
             [
              0.4444444444444444,
              "#bd3786"
             ],
             [
              0.5555555555555556,
              "#d8576b"
             ],
             [
              0.6666666666666666,
              "#ed7953"
             ],
             [
              0.7777777777777778,
              "#fb9f3a"
             ],
             [
              0.8888888888888888,
              "#fdca26"
             ],
             [
              1,
              "#f0f921"
             ]
            ],
            "type": "contour"
           }
          ],
          "contourcarpet": [
           {
            "colorbar": {
             "outlinewidth": 0,
             "ticks": ""
            },
            "type": "contourcarpet"
           }
          ],
          "heatmap": [
           {
            "colorbar": {
             "outlinewidth": 0,
             "ticks": ""
            },
            "colorscale": [
             [
              0,
              "#0d0887"
             ],
             [
              0.1111111111111111,
              "#46039f"
             ],
             [
              0.2222222222222222,
              "#7201a8"
             ],
             [
              0.3333333333333333,
              "#9c179e"
             ],
             [
              0.4444444444444444,
              "#bd3786"
             ],
             [
              0.5555555555555556,
              "#d8576b"
             ],
             [
              0.6666666666666666,
              "#ed7953"
             ],
             [
              0.7777777777777778,
              "#fb9f3a"
             ],
             [
              0.8888888888888888,
              "#fdca26"
             ],
             [
              1,
              "#f0f921"
             ]
            ],
            "type": "heatmap"
           }
          ],
          "heatmapgl": [
           {
            "colorbar": {
             "outlinewidth": 0,
             "ticks": ""
            },
            "colorscale": [
             [
              0,
              "#0d0887"
             ],
             [
              0.1111111111111111,
              "#46039f"
             ],
             [
              0.2222222222222222,
              "#7201a8"
             ],
             [
              0.3333333333333333,
              "#9c179e"
             ],
             [
              0.4444444444444444,
              "#bd3786"
             ],
             [
              0.5555555555555556,
              "#d8576b"
             ],
             [
              0.6666666666666666,
              "#ed7953"
             ],
             [
              0.7777777777777778,
              "#fb9f3a"
             ],
             [
              0.8888888888888888,
              "#fdca26"
             ],
             [
              1,
              "#f0f921"
             ]
            ],
            "type": "heatmapgl"
           }
          ],
          "histogram": [
           {
            "marker": {
             "pattern": {
              "fillmode": "overlay",
              "size": 10,
              "solidity": 0.2
             }
            },
            "type": "histogram"
           }
          ],
          "histogram2d": [
           {
            "colorbar": {
             "outlinewidth": 0,
             "ticks": ""
            },
            "colorscale": [
             [
              0,
              "#0d0887"
             ],
             [
              0.1111111111111111,
              "#46039f"
             ],
             [
              0.2222222222222222,
              "#7201a8"
             ],
             [
              0.3333333333333333,
              "#9c179e"
             ],
             [
              0.4444444444444444,
              "#bd3786"
             ],
             [
              0.5555555555555556,
              "#d8576b"
             ],
             [
              0.6666666666666666,
              "#ed7953"
             ],
             [
              0.7777777777777778,
              "#fb9f3a"
             ],
             [
              0.8888888888888888,
              "#fdca26"
             ],
             [
              1,
              "#f0f921"
             ]
            ],
            "type": "histogram2d"
           }
          ],
          "histogram2dcontour": [
           {
            "colorbar": {
             "outlinewidth": 0,
             "ticks": ""
            },
            "colorscale": [
             [
              0,
              "#0d0887"
             ],
             [
              0.1111111111111111,
              "#46039f"
             ],
             [
              0.2222222222222222,
              "#7201a8"
             ],
             [
              0.3333333333333333,
              "#9c179e"
             ],
             [
              0.4444444444444444,
              "#bd3786"
             ],
             [
              0.5555555555555556,
              "#d8576b"
             ],
             [
              0.6666666666666666,
              "#ed7953"
             ],
             [
              0.7777777777777778,
              "#fb9f3a"
             ],
             [
              0.8888888888888888,
              "#fdca26"
             ],
             [
              1,
              "#f0f921"
             ]
            ],
            "type": "histogram2dcontour"
           }
          ],
          "mesh3d": [
           {
            "colorbar": {
             "outlinewidth": 0,
             "ticks": ""
            },
            "type": "mesh3d"
           }
          ],
          "parcoords": [
           {
            "line": {
             "colorbar": {
              "outlinewidth": 0,
              "ticks": ""
             }
            },
            "type": "parcoords"
           }
          ],
          "pie": [
           {
            "automargin": true,
            "type": "pie"
           }
          ],
          "scatter": [
           {
            "fillpattern": {
             "fillmode": "overlay",
             "size": 10,
             "solidity": 0.2
            },
            "type": "scatter"
           }
          ],
          "scatter3d": [
           {
            "line": {
             "colorbar": {
              "outlinewidth": 0,
              "ticks": ""
             }
            },
            "marker": {
             "colorbar": {
              "outlinewidth": 0,
              "ticks": ""
             }
            },
            "type": "scatter3d"
           }
          ],
          "scattercarpet": [
           {
            "marker": {
             "colorbar": {
              "outlinewidth": 0,
              "ticks": ""
             }
            },
            "type": "scattercarpet"
           }
          ],
          "scattergeo": [
           {
            "marker": {
             "colorbar": {
              "outlinewidth": 0,
              "ticks": ""
             }
            },
            "type": "scattergeo"
           }
          ],
          "scattergl": [
           {
            "marker": {
             "colorbar": {
              "outlinewidth": 0,
              "ticks": ""
             }
            },
            "type": "scattergl"
           }
          ],
          "scattermapbox": [
           {
            "marker": {
             "colorbar": {
              "outlinewidth": 0,
              "ticks": ""
             }
            },
            "type": "scattermapbox"
           }
          ],
          "scatterpolar": [
           {
            "marker": {
             "colorbar": {
              "outlinewidth": 0,
              "ticks": ""
             }
            },
            "type": "scatterpolar"
           }
          ],
          "scatterpolargl": [
           {
            "marker": {
             "colorbar": {
              "outlinewidth": 0,
              "ticks": ""
             }
            },
            "type": "scatterpolargl"
           }
          ],
          "scatterternary": [
           {
            "marker": {
             "colorbar": {
              "outlinewidth": 0,
              "ticks": ""
             }
            },
            "type": "scatterternary"
           }
          ],
          "surface": [
           {
            "colorbar": {
             "outlinewidth": 0,
             "ticks": ""
            },
            "colorscale": [
             [
              0,
              "#0d0887"
             ],
             [
              0.1111111111111111,
              "#46039f"
             ],
             [
              0.2222222222222222,
              "#7201a8"
             ],
             [
              0.3333333333333333,
              "#9c179e"
             ],
             [
              0.4444444444444444,
              "#bd3786"
             ],
             [
              0.5555555555555556,
              "#d8576b"
             ],
             [
              0.6666666666666666,
              "#ed7953"
             ],
             [
              0.7777777777777778,
              "#fb9f3a"
             ],
             [
              0.8888888888888888,
              "#fdca26"
             ],
             [
              1,
              "#f0f921"
             ]
            ],
            "type": "surface"
           }
          ],
          "table": [
           {
            "cells": {
             "fill": {
              "color": "#EBF0F8"
             },
             "line": {
              "color": "white"
             }
            },
            "header": {
             "fill": {
              "color": "#C8D4E3"
             },
             "line": {
              "color": "white"
             }
            },
            "type": "table"
           }
          ]
         },
         "layout": {
          "annotationdefaults": {
           "arrowcolor": "#2a3f5f",
           "arrowhead": 0,
           "arrowwidth": 1
          },
          "autotypenumbers": "strict",
          "coloraxis": {
           "colorbar": {
            "outlinewidth": 0,
            "ticks": ""
           }
          },
          "colorscale": {
           "diverging": [
            [
             0,
             "#8e0152"
            ],
            [
             0.1,
             "#c51b7d"
            ],
            [
             0.2,
             "#de77ae"
            ],
            [
             0.3,
             "#f1b6da"
            ],
            [
             0.4,
             "#fde0ef"
            ],
            [
             0.5,
             "#f7f7f7"
            ],
            [
             0.6,
             "#e6f5d0"
            ],
            [
             0.7,
             "#b8e186"
            ],
            [
             0.8,
             "#7fbc41"
            ],
            [
             0.9,
             "#4d9221"
            ],
            [
             1,
             "#276419"
            ]
           ],
           "sequential": [
            [
             0,
             "#0d0887"
            ],
            [
             0.1111111111111111,
             "#46039f"
            ],
            [
             0.2222222222222222,
             "#7201a8"
            ],
            [
             0.3333333333333333,
             "#9c179e"
            ],
            [
             0.4444444444444444,
             "#bd3786"
            ],
            [
             0.5555555555555556,
             "#d8576b"
            ],
            [
             0.6666666666666666,
             "#ed7953"
            ],
            [
             0.7777777777777778,
             "#fb9f3a"
            ],
            [
             0.8888888888888888,
             "#fdca26"
            ],
            [
             1,
             "#f0f921"
            ]
           ],
           "sequentialminus": [
            [
             0,
             "#0d0887"
            ],
            [
             0.1111111111111111,
             "#46039f"
            ],
            [
             0.2222222222222222,
             "#7201a8"
            ],
            [
             0.3333333333333333,
             "#9c179e"
            ],
            [
             0.4444444444444444,
             "#bd3786"
            ],
            [
             0.5555555555555556,
             "#d8576b"
            ],
            [
             0.6666666666666666,
             "#ed7953"
            ],
            [
             0.7777777777777778,
             "#fb9f3a"
            ],
            [
             0.8888888888888888,
             "#fdca26"
            ],
            [
             1,
             "#f0f921"
            ]
           ]
          },
          "colorway": [
           "#636efa",
           "#EF553B",
           "#00cc96",
           "#ab63fa",
           "#FFA15A",
           "#19d3f3",
           "#FF6692",
           "#B6E880",
           "#FF97FF",
           "#FECB52"
          ],
          "font": {
           "color": "#2a3f5f"
          },
          "geo": {
           "bgcolor": "white",
           "lakecolor": "white",
           "landcolor": "#E5ECF6",
           "showlakes": true,
           "showland": true,
           "subunitcolor": "white"
          },
          "hoverlabel": {
           "align": "left"
          },
          "hovermode": "closest",
          "mapbox": {
           "style": "light"
          },
          "paper_bgcolor": "white",
          "plot_bgcolor": "#E5ECF6",
          "polar": {
           "angularaxis": {
            "gridcolor": "white",
            "linecolor": "white",
            "ticks": ""
           },
           "bgcolor": "#E5ECF6",
           "radialaxis": {
            "gridcolor": "white",
            "linecolor": "white",
            "ticks": ""
           }
          },
          "scene": {
           "xaxis": {
            "backgroundcolor": "#E5ECF6",
            "gridcolor": "white",
            "gridwidth": 2,
            "linecolor": "white",
            "showbackground": true,
            "ticks": "",
            "zerolinecolor": "white"
           },
           "yaxis": {
            "backgroundcolor": "#E5ECF6",
            "gridcolor": "white",
            "gridwidth": 2,
            "linecolor": "white",
            "showbackground": true,
            "ticks": "",
            "zerolinecolor": "white"
           },
           "zaxis": {
            "backgroundcolor": "#E5ECF6",
            "gridcolor": "white",
            "gridwidth": 2,
            "linecolor": "white",
            "showbackground": true,
            "ticks": "",
            "zerolinecolor": "white"
           }
          },
          "shapedefaults": {
           "line": {
            "color": "#2a3f5f"
           }
          },
          "ternary": {
           "aaxis": {
            "gridcolor": "white",
            "linecolor": "white",
            "ticks": ""
           },
           "baxis": {
            "gridcolor": "white",
            "linecolor": "white",
            "ticks": ""
           },
           "bgcolor": "#E5ECF6",
           "caxis": {
            "gridcolor": "white",
            "linecolor": "white",
            "ticks": ""
           }
          },
          "title": {
           "x": 0.05
          },
          "xaxis": {
           "automargin": true,
           "gridcolor": "white",
           "linecolor": "white",
           "ticks": "",
           "title": {
            "standoff": 15
           },
           "zerolinecolor": "white",
           "zerolinewidth": 2
          },
          "yaxis": {
           "automargin": true,
           "gridcolor": "white",
           "linecolor": "white",
           "ticks": "",
           "title": {
            "standoff": 15
           },
           "zerolinecolor": "white",
           "zerolinewidth": 2
          }
         }
        }
       }
      },
      "image/png": "[encoded data removed]",
      "text/html": [
       "<div>                            <div id=\"2c02bc8c-ec11-4a30-8d0d-581cbc624bf2\" class=\"plotly-graph-div\" style=\"height:525px; width:100%;\"></div>            <script type=\"text/javascript\">                require([\"plotly\"], function(Plotly) {                    window.PLOTLYENV=window.PLOTLYENV || {};                                    if (document.getElementById(\"2c02bc8c-ec11-4a30-8d0d-581cbc624bf2\")) {                    Plotly.newPlot(                        \"2c02bc8c-ec11-4a30-8d0d-581cbc624bf2\",                        [{\"fill\":\"toself\",\"name\":\"1956\",\"r\":[3.195808023474809,0.0,0.0,2.2155688622754486,0.0],\"theta\":[\"dry_season_weighted\",\"rain_season_weighted\",\"total_rain_year_weighted\",\"rain_days\",\"intense_rain_days_weighted\"],\"type\":\"scatterpolar\"},{\"fill\":\"toself\",\"name\":\"1968\",\"r\":[4.006809843139605,3.4787955010790568,5.0,5.000000000000002,3.333333333333333],\"theta\":[\"dry_season_weighted\",\"rain_season_weighted\",\"total_rain_year_weighted\",\"rain_days\",\"intense_rain_days_weighted\"],\"type\":\"scatterpolar\"},{\"fill\":\"toself\",\"name\":\"1972\",\"r\":[4.868223017167249,1.4953453081172996,3.1975766506656367,3.7125748502994025,3.846153846153846],\"theta\":[\"dry_season_weighted\",\"rain_season_weighted\",\"total_rain_year_weighted\",\"rain_days\",\"intense_rain_days_weighted\"],\"type\":\"scatterpolar\"},{\"fill\":\"toself\",\"name\":\"1978\",\"r\":[5.0,0.687148828397544,2.289537101530632,4.431137724550899,3.0769230769230766],\"theta\":[\"dry_season_weighted\",\"rain_season_weighted\",\"total_rain_year_weighted\",\"rain_days\",\"intense_rain_days_weighted\"],\"type\":\"scatterpolar\"},{\"fill\":\"toself\",\"name\":\"1984\",\"r\":[1.6388078739502925,3.8095104477676114,3.5390109843604165,2.9041916167664663,2.8205128205128203],\"theta\":[\"dry_season_weighted\",\"rain_season_weighted\",\"total_rain_year_weighted\",\"rain_days\",\"intense_rain_days_weighted\"],\"type\":\"scatterpolar\"},{\"fill\":\"toself\",\"name\":\"2016\",\"r\":[0.0,3.105867829331371,1.3597842917464735,0.0,1.5384615384615383],\"theta\":[\"dry_season_weighted\",\"rain_season_weighted\",\"total_rain_year_weighted\",\"rain_days\",\"intense_rain_days_weighted\"],\"type\":\"scatterpolar\"},{\"fill\":\"toself\",\"name\":\"2018\",\"r\":[1.0904750183396947,4.17754605922285,3.565800532961074,2.799401197604789,4.230769230769231],\"theta\":[\"dry_season_weighted\",\"rain_season_weighted\",\"total_rain_year_weighted\",\"rain_days\",\"intense_rain_days_weighted\"],\"type\":\"scatterpolar\"},{\"fill\":\"toself\",\"name\":\"2019\",\"r\":[1.7270276091353542,3.530932602506289,3.2599098331566285,1.6616766467065869,3.333333333333333],\"theta\":[\"dry_season_weighted\",\"rain_season_weighted\",\"total_rain_year_weighted\",\"rain_days\",\"intense_rain_days_weighted\"],\"type\":\"scatterpolar\"},{\"fill\":\"toself\",\"name\":\"2021\",\"r\":[0.9900948104196461,5.0,4.5165638314034595,2.1107784431137713,4.999999999999999],\"theta\":[\"dry_season_weighted\",\"rain_season_weighted\",\"total_rain_year_weighted\",\"rain_days\",\"intense_rain_days_weighted\"],\"type\":\"scatterpolar\"}],                        {\"template\":{\"data\":{\"histogram2dcontour\":[{\"type\":\"histogram2dcontour\",\"colorbar\":{\"outlinewidth\":0,\"ticks\":\"\"},\"colorscale\":[[0.0,\"#0d0887\"],[0.1111111111111111,\"#46039f\"],[0.2222222222222222,\"#7201a8\"],[0.3333333333333333,\"#9c179e\"],[0.4444444444444444,\"#bd3786\"],[0.5555555555555556,\"#d8576b\"],[0.6666666666666666,\"#ed7953\"],[0.7777777777777778,\"#fb9f3a\"],[0.8888888888888888,\"#fdca26\"],[1.0,\"#f0f921\"]]}],\"choropleth\":[{\"type\":\"choropleth\",\"colorbar\":{\"outlinewidth\":0,\"ticks\":\"\"}}],\"histogram2d\":[{\"type\":\"histogram2d\",\"colorbar\":{\"outlinewidth\":0,\"ticks\":\"\"},\"colorscale\":[[0.0,\"#0d0887\"],[0.1111111111111111,\"#46039f\"],[0.2222222222222222,\"#7201a8\"],[0.3333333333333333,\"#9c179e\"],[0.4444444444444444,\"#bd3786\"],[0.5555555555555556,\"#d8576b\"],[0.6666666666666666,\"#ed7953\"],[0.7777777777777778,\"#fb9f3a\"],[0.8888888888888888,\"#fdca26\"],[1.0,\"#f0f921\"]]}],\"heatmap\":[{\"type\":\"heatmap\",\"colorbar\":{\"outlinewidth\":0,\"ticks\":\"\"},\"colorscale\":[[0.0,\"#0d0887\"],[0.1111111111111111,\"#46039f\"],[0.2222222222222222,\"#7201a8\"],[0.3333333333333333,\"#9c179e\"],[0.4444444444444444,\"#bd3786\"],[0.5555555555555556,\"#d8576b\"],[0.6666666666666666,\"#ed7953\"],[0.7777777777777778,\"#fb9f3a\"],[0.8888888888888888,\"#fdca26\"],[1.0,\"#f0f921\"]]}],\"heatmapgl\":[{\"type\":\"heatmapgl\",\"colorbar\":{\"outlinewidth\":0,\"ticks\":\"\"},\"colorscale\":[[0.0,\"#0d0887\"],[0.1111111111111111,\"#46039f\"],[0.2222222222222222,\"#7201a8\"],[0.3333333333333333,\"#9c179e\"],[0.4444444444444444,\"#bd3786\"],[0.5555555555555556,\"#d8576b\"],[0.6666666666666666,\"#ed7953\"],[0.7777777777777778,\"#fb9f3a\"],[0.8888888888888888,\"#fdca26\"],[1.0,\"#f0f921\"]]}],\"contourcarpet\":[{\"type\":\"contourcarpet\",\"colorbar\":{\"outlinewidth\":0,\"ticks\":\"\"}}],\"contour\":[{\"type\":\"contour\",\"colorbar\":{\"outlinewidth\":0,\"ticks\":\"\"},\"colorscale\":[[0.0,\"#0d0887\"],[0.1111111111111111,\"#46039f\"],[0.2222222222222222,\"#7201a8\"],[0.3333333333333333,\"#9c179e\"],[0.4444444444444444,\"#bd3786\"],[0.5555555555555556,\"#d8576b\"],[0.6666666666666666,\"#ed7953\"],[0.7777777777777778,\"#fb9f3a\"],[0.8888888888888888,\"#fdca26\"],[1.0,\"#f0f921\"]]}],\"surface\":[{\"type\":\"surface\",\"colorbar\":{\"outlinewidth\":0,\"ticks\":\"\"},\"colorscale\":[[0.0,\"#0d0887\"],[0.1111111111111111,\"#46039f\"],[0.2222222222222222,\"#7201a8\"],[0.3333333333333333,\"#9c179e\"],[0.4444444444444444,\"#bd3786\"],[0.5555555555555556,\"#d8576b\"],[0.6666666666666666,\"#ed7953\"],[0.7777777777777778,\"#fb9f3a\"],[0.8888888888888888,\"#fdca26\"],[1.0,\"#f0f921\"]]}],\"mesh3d\":[{\"type\":\"mesh3d\",\"colorbar\":{\"outlinewidth\":0,\"ticks\":\"\"}}],\"scatter\":[{\"fillpattern\":{\"fillmode\":\"overlay\",\"size\":10,\"solidity\":0.2},\"type\":\"scatter\"}],\"parcoords\":[{\"type\":\"parcoords\",\"line\":{\"colorbar\":{\"outlinewidth\":0,\"ticks\":\"\"}}}],\"scatterpolargl\":[{\"type\":\"scatterpolargl\",\"marker\":{\"colorbar\":{\"outlinewidth\":0,\"ticks\":\"\"}}}],\"bar\":[{\"error_x\":{\"color\":\"#2a3f5f\"},\"error_y\":{\"color\":\"#2a3f5f\"},\"marker\":{\"line\":{\"color\":\"#E5ECF6\",\"width\":0.5},\"pattern\":{\"fillmode\":\"overlay\",\"size\":10,\"solidity\":0.2}},\"type\":\"bar\"}],\"scattergeo\":[{\"type\":\"scattergeo\",\"marker\":{\"colorbar\":{\"outlinewidth\":0,\"ticks\":\"\"}}}],\"scatterpolar\":[{\"type\":\"scatterpolar\",\"marker\":{\"colorbar\":{\"outlinewidth\":0,\"ticks\":\"\"}}}],\"histogram\":[{\"marker\":{\"pattern\":{\"fillmode\":\"overlay\",\"size\":10,\"solidity\":0.2}},\"type\":\"histogram\"}],\"scattergl\":[{\"type\":\"scattergl\",\"marker\":{\"colorbar\":{\"outlinewidth\":0,\"ticks\":\"\"}}}],\"scatter3d\":[{\"type\":\"scatter3d\",\"line\":{\"colorbar\":{\"outlinewidth\":0,\"ticks\":\"\"}},\"marker\":{\"colorbar\":{\"outlinewidth\":0,\"ticks\":\"\"}}}],\"scattermapbox\":[{\"type\":\"scattermapbox\",\"marker\":{\"colorbar\":{\"outlinewidth\":0,\"ticks\":\"\"}}}],\"scatterternary\":[{\"type\":\"scatterternary\",\"marker\":{\"colorbar\":{\"outlinewidth\":0,\"ticks\":\"\"}}}],\"scattercarpet\":[{\"type\":\"scattercarpet\",\"marker\":{\"colorbar\":{\"outlinewidth\":0,\"ticks\":\"\"}}}],\"carpet\":[{\"aaxis\":{\"endlinecolor\":\"#2a3f5f\",\"gridcolor\":\"white\",\"linecolor\":\"white\",\"minorgridcolor\":\"white\",\"startlinecolor\":\"#2a3f5f\"},\"baxis\":{\"endlinecolor\":\"#2a3f5f\",\"gridcolor\":\"white\",\"linecolor\":\"white\",\"minorgridcolor\":\"white\",\"startlinecolor\":\"#2a3f5f\"},\"type\":\"carpet\"}],\"table\":[{\"cells\":{\"fill\":{\"color\":\"#EBF0F8\"},\"line\":{\"color\":\"white\"}},\"header\":{\"fill\":{\"color\":\"#C8D4E3\"},\"line\":{\"color\":\"white\"}},\"type\":\"table\"}],\"barpolar\":[{\"marker\":{\"line\":{\"color\":\"#E5ECF6\",\"width\":0.5},\"pattern\":{\"fillmode\":\"overlay\",\"size\":10,\"solidity\":0.2}},\"type\":\"barpolar\"}],\"pie\":[{\"automargin\":true,\"type\":\"pie\"}]},\"layout\":{\"autotypenumbers\":\"strict\",\"colorway\":[\"#636efa\",\"#EF553B\",\"#00cc96\",\"#ab63fa\",\"#FFA15A\",\"#19d3f3\",\"#FF6692\",\"#B6E880\",\"#FF97FF\",\"#FECB52\"],\"font\":{\"color\":\"#2a3f5f\"},\"hovermode\":\"closest\",\"hoverlabel\":{\"align\":\"left\"},\"paper_bgcolor\":\"white\",\"plot_bgcolor\":\"#E5ECF6\",\"polar\":{\"bgcolor\":\"#E5ECF6\",\"angularaxis\":{\"gridcolor\":\"white\",\"linecolor\":\"white\",\"ticks\":\"\"},\"radialaxis\":{\"gridcolor\":\"white\",\"linecolor\":\"white\",\"ticks\":\"\"}},\"ternary\":{\"bgcolor\":\"#E5ECF6\",\"aaxis\":{\"gridcolor\":\"white\",\"linecolor\":\"white\",\"ticks\":\"\"},\"baxis\":{\"gridcolor\":\"white\",\"linecolor\":\"white\",\"ticks\":\"\"},\"caxis\":{\"gridcolor\":\"white\",\"linecolor\":\"white\",\"ticks\":\"\"}},\"coloraxis\":{\"colorbar\":{\"outlinewidth\":0,\"ticks\":\"\"}},\"colorscale\":{\"sequential\":[[0.0,\"#0d0887\"],[0.1111111111111111,\"#46039f\"],[0.2222222222222222,\"#7201a8\"],[0.3333333333333333,\"#9c179e\"],[0.4444444444444444,\"#bd3786\"],[0.5555555555555556,\"#d8576b\"],[0.6666666666666666,\"#ed7953\"],[0.7777777777777778,\"#fb9f3a\"],[0.8888888888888888,\"#fdca26\"],[1.0,\"#f0f921\"]],\"sequentialminus\":[[0.0,\"#0d0887\"],[0.1111111111111111,\"#46039f\"],[0.2222222222222222,\"#7201a8\"],[0.3333333333333333,\"#9c179e\"],[0.4444444444444444,\"#bd3786\"],[0.5555555555555556,\"#d8576b\"],[0.6666666666666666,\"#ed7953\"],[0.7777777777777778,\"#fb9f3a\"],[0.8888888888888888,\"#fdca26\"],[1.0,\"#f0f921\"]],\"diverging\":[[0,\"#8e0152\"],[0.1,\"#c51b7d\"],[0.2,\"#de77ae\"],[0.3,\"#f1b6da\"],[0.4,\"#fde0ef\"],[0.5,\"#f7f7f7\"],[0.6,\"#e6f5d0\"],[0.7,\"#b8e186\"],[0.8,\"#7fbc41\"],[0.9,\"#4d9221\"],[1,\"#276419\"]]},\"xaxis\":{\"gridcolor\":\"white\",\"linecolor\":\"white\",\"ticks\":\"\",\"title\":{\"standoff\":15},\"zerolinecolor\":\"white\",\"automargin\":true,\"zerolinewidth\":2},\"yaxis\":{\"gridcolor\":\"white\",\"linecolor\":\"white\",\"ticks\":\"\",\"title\":{\"standoff\":15},\"zerolinecolor\":\"white\",\"automargin\":true,\"zerolinewidth\":2},\"scene\":{\"xaxis\":{\"backgroundcolor\":\"#E5ECF6\",\"gridcolor\":\"white\",\"linecolor\":\"white\",\"showbackground\":true,\"ticks\":\"\",\"zerolinecolor\":\"white\",\"gridwidth\":2},\"yaxis\":{\"backgroundcolor\":\"#E5ECF6\",\"gridcolor\":\"white\",\"linecolor\":\"white\",\"showbackground\":true,\"ticks\":\"\",\"zerolinecolor\":\"white\",\"gridwidth\":2},\"zaxis\":{\"backgroundcolor\":\"#E5ECF6\",\"gridcolor\":\"white\",\"linecolor\":\"white\",\"showbackground\":true,\"ticks\":\"\",\"zerolinecolor\":\"white\",\"gridwidth\":2}},\"shapedefaults\":{\"line\":{\"color\":\"#2a3f5f\"}},\"annotationdefaults\":{\"arrowcolor\":\"#2a3f5f\",\"arrowhead\":0,\"arrowwidth\":1},\"geo\":{\"bgcolor\":\"white\",\"landcolor\":\"#E5ECF6\",\"subunitcolor\":\"white\",\"showland\":true,\"showlakes\":true,\"lakecolor\":\"white\"},\"title\":{\"x\":0.05},\"mapbox\":{\"style\":\"light\"}}},\"polar\":{\"radialaxis\":{\"visible\":true,\"range\":[0,5]}},\"showlegend\":true},                        {\"responsive\": true}                    ).then(function(){\n",
       "                            \n",
       "var gd = document.getElementById('2c02bc8c-ec11-4a30-8d0d-581cbc624bf2');\n",
       "var x = new MutationObserver(function (mutations, observer) {{\n",
       "        var display = window.getComputedStyle(gd).display;\n",
       "        if (!display || display === 'none') {{\n",
       "            console.log([gd, 'removed!']);\n",
       "            Plotly.purge(gd);\n",
       "            observer.disconnect();\n",
       "        }}\n",
       "}});\n",
       "\n",
       "// Listen for the removal of the full notebook cells\n",
       "var notebookContainer = gd.closest('#notebook-container');\n",
       "if (notebookContainer) {{\n",
       "    x.observe(notebookContainer, {childList: true});\n",
       "}}\n",
       "\n",
       "// Listen for the clearing of the current output cell\n",
       "var outputEl = gd.closest('.output');\n",
       "if (outputEl) {{\n",
       "    x.observe(outputEl, {childList: true});\n",
       "}}\n",
       "\n",
       "                        })                };                });            </script>        </div>"
      ]
     },
     "metadata": {},
     "output_type": "display_data"
    }
   ],
   "source": [
    "#building the list of categories to be shown on the radar chart\n",
    "categories = list(climatology_outliers.columns.values)\n",
    "#building the radar chart\n",
    "fig = go.Figure()\n",
    "\n",
    "for years in cocoa_years_outliers:\n",
    "    fig.add_trace(go.Scatterpolar(\n",
    "          r=climatology_outliers_scaled.loc[years].tolist(),\n",
    "          theta=categories,\n",
    "          fill='toself',\n",
    "          name=years\n",
    "    ))\n",
    "\n",
    "fig.update_layout(\n",
    "  polar=dict(\n",
    "    radialaxis=dict(\n",
    "      visible=True,\n",
    "      range=[0, 5]\n",
    "    )),\n",
    "  showlegend=True\n",
    ")\n",
    "\n",
    "fig.show()"
   ]
  },
  {
   "cell_type": "code",
   "execution_count": 97,
   "id": "532e2628-d1bc-4c4d-8a85-fe45c63dfd3d",
   "metadata": {},
   "outputs": [
    {
     "data": {
      "text/html": [
       "<div>\n",
       "<style scoped>\n",
       "    .dataframe tbody tr th:only-of-type {\n",
       "        vertical-align: middle;\n",
       "    }\n",
       "\n",
       "    .dataframe tbody tr th {\n",
       "        vertical-align: top;\n",
       "    }\n",
       "\n",
       "    .dataframe thead th {\n",
       "        text-align: right;\n",
       "    }\n",
       "</style>\n",
       "<table border=\"1\" class=\"dataframe\">\n",
       "  <thead>\n",
       "    <tr style=\"text-align: right;\">\n",
       "      <th></th>\n",
       "      <th>calendar_year</th>\n",
       "      <th>crop_year_ending</th>\n",
       "      <th>reported_crop</th>\n",
       "    </tr>\n",
       "    <tr>\n",
       "      <th>calendar_year</th>\n",
       "      <th></th>\n",
       "      <th></th>\n",
       "      <th></th>\n",
       "    </tr>\n",
       "  </thead>\n",
       "  <tbody>\n",
       "    <tr>\n",
       "      <th>1949</th>\n",
       "      <td>1949</td>\n",
       "      <td>1950</td>\n",
       "      <td>53</td>\n",
       "    </tr>\n",
       "    <tr>\n",
       "      <th>1950</th>\n",
       "      <td>1950</td>\n",
       "      <td>1951</td>\n",
       "      <td>57</td>\n",
       "    </tr>\n",
       "    <tr>\n",
       "      <th>1951</th>\n",
       "      <td>1951</td>\n",
       "      <td>1952</td>\n",
       "      <td>45</td>\n",
       "    </tr>\n",
       "    <tr>\n",
       "      <th>1952</th>\n",
       "      <td>1952</td>\n",
       "      <td>1953</td>\n",
       "      <td>61</td>\n",
       "    </tr>\n",
       "    <tr>\n",
       "      <th>1953</th>\n",
       "      <td>1953</td>\n",
       "      <td>1954</td>\n",
       "      <td>57</td>\n",
       "    </tr>\n",
       "    <tr>\n",
       "      <th>...</th>\n",
       "      <td>...</td>\n",
       "      <td>...</td>\n",
       "      <td>...</td>\n",
       "    </tr>\n",
       "    <tr>\n",
       "      <th>2025</th>\n",
       "      <td>2025</td>\n",
       "      <td>2026</td>\n",
       "      <td>2070</td>\n",
       "    </tr>\n",
       "    <tr>\n",
       "      <th>2026</th>\n",
       "      <td>2026</td>\n",
       "      <td>2027</td>\n",
       "      <td>2035</td>\n",
       "    </tr>\n",
       "    <tr>\n",
       "      <th>2027</th>\n",
       "      <td>2027</td>\n",
       "      <td>2028</td>\n",
       "      <td>2000</td>\n",
       "    </tr>\n",
       "    <tr>\n",
       "      <th>2028</th>\n",
       "      <td>2028</td>\n",
       "      <td>2029</td>\n",
       "      <td>1965</td>\n",
       "    </tr>\n",
       "    <tr>\n",
       "      <th>2029</th>\n",
       "      <td>2029</td>\n",
       "      <td>2030</td>\n",
       "      <td>1930</td>\n",
       "    </tr>\n",
       "  </tbody>\n",
       "</table>\n",
       "<p>81 rows × 3 columns</p>\n",
       "</div>"
      ],
      "text/plain": [
       "               calendar_year  crop_year_ending  reported_crop\n",
       "calendar_year                                                \n",
       "1949                    1949              1950             53\n",
       "1950                    1950              1951             57\n",
       "1951                    1951              1952             45\n",
       "1952                    1952              1953             61\n",
       "1953                    1953              1954             57\n",
       "...                      ...               ...            ...\n",
       "2025                    2025              2026           2070\n",
       "2026                    2026              2027           2035\n",
       "2027                    2027              2028           2000\n",
       "2028                    2028              2029           1965\n",
       "2029                    2029              2030           1930\n",
       "\n",
       "[81 rows x 3 columns]"
      ]
     },
     "execution_count": 97,
     "metadata": {},
     "output_type": "execute_result"
    }
   ],
   "source": [
    "#time series clustering\n",
    "#import the production history\n",
    "production_history =pd.read_csv (\"../raw_data/crop_size.csv\")\n",
    "production_history[\"calendar_year\"] = pd.to_datetime(production_history[\"calendar_year\"], format =\"%Y\")\n",
    "production_history[\"calendar_year\"] = production_history[\"calendar_year\"].dt.year\n",
    "production_history = production_history.set_index(keys = production_history[\"calendar_year\"])\n",
    "production_history"
   ]
  },
  {
   "cell_type": "code",
   "execution_count": 125,
   "id": "0e94151f-d845-4603-ad24-5d0d6fdce9dc",
   "metadata": {},
   "outputs": [
    {
     "data": {
      "text/html": [
       "<div>\n",
       "<style scoped>\n",
       "    .dataframe tbody tr th:only-of-type {\n",
       "        vertical-align: middle;\n",
       "    }\n",
       "\n",
       "    .dataframe tbody tr th {\n",
       "        vertical-align: top;\n",
       "    }\n",
       "\n",
       "    .dataframe thead th {\n",
       "        text-align: right;\n",
       "    }\n",
       "</style>\n",
       "<table border=\"1\" class=\"dataframe\">\n",
       "  <thead>\n",
       "    <tr style=\"text-align: right;\">\n",
       "      <th></th>\n",
       "      <th>dry_season_weighted</th>\n",
       "      <th>rain_season_weighted</th>\n",
       "      <th>total_rain_year_weighted</th>\n",
       "      <th>rain_days</th>\n",
       "      <th>intense_rain_days_weighted</th>\n",
       "      <th>calendar_year</th>\n",
       "      <th>crop_year_ending</th>\n",
       "      <th>reported_crop</th>\n",
       "    </tr>\n",
       "  </thead>\n",
       "  <tbody>\n",
       "    <tr>\n",
       "      <th>1949</th>\n",
       "      <td>720.000000</td>\n",
       "      <td>573.350006</td>\n",
       "      <td>1293.349976</td>\n",
       "      <td>260.00</td>\n",
       "      <td>1.5000</td>\n",
       "      <td>1949</td>\n",
       "      <td>1950</td>\n",
       "      <td>53</td>\n",
       "    </tr>\n",
       "    <tr>\n",
       "      <th>1950</th>\n",
       "      <td>716.250000</td>\n",
       "      <td>643.449982</td>\n",
       "      <td>1359.699951</td>\n",
       "      <td>246.50</td>\n",
       "      <td>1.7500</td>\n",
       "      <td>1950</td>\n",
       "      <td>1951</td>\n",
       "      <td>57</td>\n",
       "    </tr>\n",
       "    <tr>\n",
       "      <th>1951</th>\n",
       "      <td>787.949982</td>\n",
       "      <td>693.100006</td>\n",
       "      <td>1481.049988</td>\n",
       "      <td>259.00</td>\n",
       "      <td>2.5000</td>\n",
       "      <td>1951</td>\n",
       "      <td>1952</td>\n",
       "      <td>45</td>\n",
       "    </tr>\n",
       "    <tr>\n",
       "      <th>1952</th>\n",
       "      <td>810.149994</td>\n",
       "      <td>798.500000</td>\n",
       "      <td>1608.650024</td>\n",
       "      <td>260.50</td>\n",
       "      <td>2.3750</td>\n",
       "      <td>1952</td>\n",
       "      <td>1953</td>\n",
       "      <td>61</td>\n",
       "    </tr>\n",
       "    <tr>\n",
       "      <th>1953</th>\n",
       "      <td>688.050018</td>\n",
       "      <td>696.299988</td>\n",
       "      <td>1384.350037</td>\n",
       "      <td>255.50</td>\n",
       "      <td>2.0000</td>\n",
       "      <td>1953</td>\n",
       "      <td>1954</td>\n",
       "      <td>57</td>\n",
       "    </tr>\n",
       "    <tr>\n",
       "      <th>...</th>\n",
       "      <td>...</td>\n",
       "      <td>...</td>\n",
       "      <td>...</td>\n",
       "      <td>...</td>\n",
       "      <td>...</td>\n",
       "      <td>...</td>\n",
       "      <td>...</td>\n",
       "      <td>...</td>\n",
       "    </tr>\n",
       "    <tr>\n",
       "      <th>2019</th>\n",
       "      <td>825.725006</td>\n",
       "      <td>1159.824982</td>\n",
       "      <td>1985.549957</td>\n",
       "      <td>264.25</td>\n",
       "      <td>3.5000</td>\n",
       "      <td>2019</td>\n",
       "      <td>2020</td>\n",
       "      <td>2105</td>\n",
       "    </tr>\n",
       "    <tr>\n",
       "      <th>2020</th>\n",
       "      <td>848.100006</td>\n",
       "      <td>905.350006</td>\n",
       "      <td>1753.450012</td>\n",
       "      <td>271.00</td>\n",
       "      <td>2.7500</td>\n",
       "      <td>2020</td>\n",
       "      <td>2021</td>\n",
       "      <td>2187</td>\n",
       "    </tr>\n",
       "    <tr>\n",
       "      <th>2021</th>\n",
       "      <td>742.400009</td>\n",
       "      <td>1422.575043</td>\n",
       "      <td>2164.975037</td>\n",
       "      <td>271.75</td>\n",
       "      <td>4.3125</td>\n",
       "      <td>2021</td>\n",
       "      <td>2022</td>\n",
       "      <td>2078</td>\n",
       "    </tr>\n",
       "    <tr>\n",
       "      <th>2022</th>\n",
       "      <td>837.500000</td>\n",
       "      <td>883.875015</td>\n",
       "      <td>1721.375031</td>\n",
       "      <td>244.50</td>\n",
       "      <td>5.5000</td>\n",
       "      <td>2022</td>\n",
       "      <td>2023</td>\n",
       "      <td>2134</td>\n",
       "    </tr>\n",
       "    <tr>\n",
       "      <th>2023</th>\n",
       "      <td>713.074997</td>\n",
       "      <td>1046.600021</td>\n",
       "      <td>1759.674988</td>\n",
       "      <td>250.00</td>\n",
       "      <td>5.3125</td>\n",
       "      <td>2023</td>\n",
       "      <td>2024</td>\n",
       "      <td>1975</td>\n",
       "    </tr>\n",
       "  </tbody>\n",
       "</table>\n",
       "<p>75 rows × 8 columns</p>\n",
       "</div>"
      ],
      "text/plain": [
       "      dry_season_weighted  rain_season_weighted  total_rain_year_weighted  \\\n",
       "1949           720.000000            573.350006               1293.349976   \n",
       "1950           716.250000            643.449982               1359.699951   \n",
       "1951           787.949982            693.100006               1481.049988   \n",
       "1952           810.149994            798.500000               1608.650024   \n",
       "1953           688.050018            696.299988               1384.350037   \n",
       "...                   ...                   ...                       ...   \n",
       "2019           825.725006           1159.824982               1985.549957   \n",
       "2020           848.100006            905.350006               1753.450012   \n",
       "2021           742.400009           1422.575043               2164.975037   \n",
       "2022           837.500000            883.875015               1721.375031   \n",
       "2023           713.074997           1046.600021               1759.674988   \n",
       "\n",
       "      rain_days  intense_rain_days_weighted  calendar_year  crop_year_ending  \\\n",
       "1949     260.00                      1.5000           1949              1950   \n",
       "1950     246.50                      1.7500           1950              1951   \n",
       "1951     259.00                      2.5000           1951              1952   \n",
       "1952     260.50                      2.3750           1952              1953   \n",
       "1953     255.50                      2.0000           1953              1954   \n",
       "...         ...                         ...            ...               ...   \n",
       "2019     264.25                      3.5000           2019              2020   \n",
       "2020     271.00                      2.7500           2020              2021   \n",
       "2021     271.75                      4.3125           2021              2022   \n",
       "2022     244.50                      5.5000           2022              2023   \n",
       "2023     250.00                      5.3125           2023              2024   \n",
       "\n",
       "      reported_crop  \n",
       "1949             53  \n",
       "1950             57  \n",
       "1951             45  \n",
       "1952             61  \n",
       "1953             57  \n",
       "...             ...  \n",
       "2019           2105  \n",
       "2020           2187  \n",
       "2021           2078  \n",
       "2022           2134  \n",
       "2023           1975  \n",
       "\n",
       "[75 rows x 8 columns]"
      ]
     },
     "execution_count": 125,
     "metadata": {},
     "output_type": "execute_result"
    }
   ],
   "source": [
    "#creating a new dataframe\n",
    "cocoa_complete = cocoa_climatology.merge(production_history, left_index = True, right_index = True)\n",
    "cocoa_complete"
   ]
  },
  {
   "cell_type": "code",
   "execution_count": 126,
   "id": "20d012db-ed31-4949-99f8-13eb987385a2",
   "metadata": {},
   "outputs": [
    {
     "data": {
      "text/html": [
       "<div>\n",
       "<style scoped>\n",
       "    .dataframe tbody tr th:only-of-type {\n",
       "        vertical-align: middle;\n",
       "    }\n",
       "\n",
       "    .dataframe tbody tr th {\n",
       "        vertical-align: top;\n",
       "    }\n",
       "\n",
       "    .dataframe thead th {\n",
       "        text-align: right;\n",
       "    }\n",
       "</style>\n",
       "<table border=\"1\" class=\"dataframe\">\n",
       "  <thead>\n",
       "    <tr style=\"text-align: right;\">\n",
       "      <th></th>\n",
       "      <th>dry_season_weighted</th>\n",
       "      <th>rain_season_weighted</th>\n",
       "      <th>total_rain_year_weighted</th>\n",
       "      <th>rain_days</th>\n",
       "      <th>intense_rain_days_weighted</th>\n",
       "      <th>calendar_year</th>\n",
       "      <th>crop_year_ending</th>\n",
       "      <th>reported_crop</th>\n",
       "    </tr>\n",
       "  </thead>\n",
       "  <tbody>\n",
       "    <tr>\n",
       "      <th>dry_season_weighted</th>\n",
       "      <td>1.000000</td>\n",
       "      <td>0.132801</td>\n",
       "      <td>0.686717</td>\n",
       "      <td>0.851183</td>\n",
       "      <td>0.438169</td>\n",
       "      <td>-0.279717</td>\n",
       "      <td>-0.279717</td>\n",
       "      <td>-0.300595</td>\n",
       "    </tr>\n",
       "    <tr>\n",
       "      <th>rain_season_weighted</th>\n",
       "      <td>0.132801</td>\n",
       "      <td>1.000000</td>\n",
       "      <td>0.811683</td>\n",
       "      <td>0.323079</td>\n",
       "      <td>0.648230</td>\n",
       "      <td>0.463660</td>\n",
       "      <td>0.463660</td>\n",
       "      <td>0.494032</td>\n",
       "    </tr>\n",
       "    <tr>\n",
       "      <th>total_rain_year_weighted</th>\n",
       "      <td>0.686717</td>\n",
       "      <td>0.811683</td>\n",
       "      <td>1.000000</td>\n",
       "      <td>0.738570</td>\n",
       "      <td>0.733646</td>\n",
       "      <td>0.175215</td>\n",
       "      <td>0.175215</td>\n",
       "      <td>0.185187</td>\n",
       "    </tr>\n",
       "    <tr>\n",
       "      <th>rain_days</th>\n",
       "      <td>0.851183</td>\n",
       "      <td>0.323079</td>\n",
       "      <td>0.738570</td>\n",
       "      <td>1.000000</td>\n",
       "      <td>0.441624</td>\n",
       "      <td>-0.270977</td>\n",
       "      <td>-0.270977</td>\n",
       "      <td>-0.302751</td>\n",
       "    </tr>\n",
       "    <tr>\n",
       "      <th>intense_rain_days_weighted</th>\n",
       "      <td>0.438169</td>\n",
       "      <td>0.648230</td>\n",
       "      <td>0.733646</td>\n",
       "      <td>0.441624</td>\n",
       "      <td>1.000000</td>\n",
       "      <td>0.374799</td>\n",
       "      <td>0.374799</td>\n",
       "      <td>0.406979</td>\n",
       "    </tr>\n",
       "    <tr>\n",
       "      <th>calendar_year</th>\n",
       "      <td>-0.279717</td>\n",
       "      <td>0.463660</td>\n",
       "      <td>0.175215</td>\n",
       "      <td>-0.270977</td>\n",
       "      <td>0.374799</td>\n",
       "      <td>1.000000</td>\n",
       "      <td>1.000000</td>\n",
       "      <td>0.960330</td>\n",
       "    </tr>\n",
       "    <tr>\n",
       "      <th>crop_year_ending</th>\n",
       "      <td>-0.279717</td>\n",
       "      <td>0.463660</td>\n",
       "      <td>0.175215</td>\n",
       "      <td>-0.270977</td>\n",
       "      <td>0.374799</td>\n",
       "      <td>1.000000</td>\n",
       "      <td>1.000000</td>\n",
       "      <td>0.960330</td>\n",
       "    </tr>\n",
       "    <tr>\n",
       "      <th>reported_crop</th>\n",
       "      <td>-0.300595</td>\n",
       "      <td>0.494032</td>\n",
       "      <td>0.185187</td>\n",
       "      <td>-0.302751</td>\n",
       "      <td>0.406979</td>\n",
       "      <td>0.960330</td>\n",
       "      <td>0.960330</td>\n",
       "      <td>1.000000</td>\n",
       "    </tr>\n",
       "  </tbody>\n",
       "</table>\n",
       "</div>"
      ],
      "text/plain": [
       "                            dry_season_weighted  rain_season_weighted  \\\n",
       "dry_season_weighted                    1.000000              0.132801   \n",
       "rain_season_weighted                   0.132801              1.000000   \n",
       "total_rain_year_weighted               0.686717              0.811683   \n",
       "rain_days                              0.851183              0.323079   \n",
       "intense_rain_days_weighted             0.438169              0.648230   \n",
       "calendar_year                         -0.279717              0.463660   \n",
       "crop_year_ending                      -0.279717              0.463660   \n",
       "reported_crop                         -0.300595              0.494032   \n",
       "\n",
       "                            total_rain_year_weighted  rain_days  \\\n",
       "dry_season_weighted                         0.686717   0.851183   \n",
       "rain_season_weighted                        0.811683   0.323079   \n",
       "total_rain_year_weighted                    1.000000   0.738570   \n",
       "rain_days                                   0.738570   1.000000   \n",
       "intense_rain_days_weighted                  0.733646   0.441624   \n",
       "calendar_year                               0.175215  -0.270977   \n",
       "crop_year_ending                            0.175215  -0.270977   \n",
       "reported_crop                               0.185187  -0.302751   \n",
       "\n",
       "                            intense_rain_days_weighted  calendar_year  \\\n",
       "dry_season_weighted                           0.438169      -0.279717   \n",
       "rain_season_weighted                          0.648230       0.463660   \n",
       "total_rain_year_weighted                      0.733646       0.175215   \n",
       "rain_days                                     0.441624      -0.270977   \n",
       "intense_rain_days_weighted                    1.000000       0.374799   \n",
       "calendar_year                                 0.374799       1.000000   \n",
       "crop_year_ending                              0.374799       1.000000   \n",
       "reported_crop                                 0.406979       0.960330   \n",
       "\n",
       "                            crop_year_ending  reported_crop  \n",
       "dry_season_weighted                -0.279717      -0.300595  \n",
       "rain_season_weighted                0.463660       0.494032  \n",
       "total_rain_year_weighted            0.175215       0.185187  \n",
       "rain_days                          -0.270977      -0.302751  \n",
       "intense_rain_days_weighted          0.374799       0.406979  \n",
       "calendar_year                       1.000000       0.960330  \n",
       "crop_year_ending                    1.000000       0.960330  \n",
       "reported_crop                       0.960330       1.000000  "
      ]
     },
     "execution_count": 126,
     "metadata": {},
     "output_type": "execute_result"
    }
   ],
   "source": [
    "cocoa_complete.corr()"
   ]
  },
  {
   "cell_type": "code",
   "execution_count": 110,
   "id": "96e5c194-7f94-4f7b-a339-d7fe2924edd4",
   "metadata": {},
   "outputs": [
    {
     "data": {
      "text/plain": [
       "array([[[-1.00465571],\n",
       "        [-0.73457653],\n",
       "        [-0.24061828],\n",
       "        [ 0.27878075],\n",
       "        [-0.63423777],\n",
       "        [-0.98572768],\n",
       "        [ 0.18414107],\n",
       "        [-0.08166436],\n",
       "        [ 0.99926378],\n",
       "        [-1.15485791],\n",
       "        [-0.66680196],\n",
       "        [-1.42615819],\n",
       "        [-1.37894021],\n",
       "        [-1.34637602],\n",
       "        [ 0.17376128],\n",
       "        [-1.43491029],\n",
       "        [-0.48790262],\n",
       "        [-1.18172327],\n",
       "        [-0.088991  ],\n",
       "        [ 2.82428319],\n",
       "        [ 0.61520943],\n",
       "        [ 0.99702504],\n",
       "        [ 1.21113451],\n",
       "        [ 1.77673364],\n",
       "        [ 0.30238974],\n",
       "        [ 0.43773442],\n",
       "        [ 0.03231032],\n",
       "        [ 0.10496932],\n",
       "        [-0.12745751],\n",
       "        [ 1.24899059],\n",
       "        [ 0.8934299 ],\n",
       "        [ 1.59132107],\n",
       "        [ 0.22850963],\n",
       "        [-0.91998861],\n",
       "        [-0.90574203],\n",
       "        [ 1.9751717 ],\n",
       "        [ 0.17131907],\n",
       "        [-0.45879803],\n",
       "        [ 0.41188694],\n",
       "        [ 1.06011767],\n",
       "        [-0.01897819],\n",
       "        [-0.18668358],\n",
       "        [-0.28803974],\n",
       "        [-0.41992482],\n",
       "        [-0.43905608],\n",
       "        [-0.93952683],\n",
       "        [-0.01877496],\n",
       "        [ 0.34289151],\n",
       "        [-1.06123585],\n",
       "        [-0.02304871],\n",
       "        [-0.35540711],\n",
       "        [-1.77418813],\n",
       "        [-0.93240366],\n",
       "        [-0.80621766],\n",
       "        [-0.37535253],\n",
       "        [-0.38084789],\n",
       "        [-0.3790161 ],\n",
       "        [-0.63952965],\n",
       "        [-0.24407837],\n",
       "        [-0.27908453],\n",
       "        [-0.77711331],\n",
       "        [ 0.62416463],\n",
       "        [-0.96537506],\n",
       "        [-0.65133427],\n",
       "        [-1.30729933],\n",
       "        [ 0.02070942],\n",
       "        [-1.26089501],\n",
       "        [ 0.70862801],\n",
       "        [ 1.72229026],\n",
       "        [ 1.9907415 ],\n",
       "        [ 1.81296104],\n",
       "        [ 0.8681926 ],\n",
       "        [ 2.54331516],\n",
       "        [ 0.73763061],\n",
       "        [ 0.89353152]],\n",
       "\n",
       "       [[-1.08151135],\n",
       "        [-1.07565658],\n",
       "        [-1.09322087],\n",
       "        [-1.06980182],\n",
       "        [-1.07565658],\n",
       "        [-1.04345539],\n",
       "        [-1.05516491],\n",
       "        [-1.05370122],\n",
       "        [-1.09175718],\n",
       "        [-1.07712027],\n",
       "        [-1.06833813],\n",
       "        [-1.02150002],\n",
       "        [-1.03906431],\n",
       "        [-1.00832681],\n",
       "        [-1.01418157],\n",
       "        [-0.94246072],\n",
       "        [-0.9936899 ],\n",
       "        [-0.93953334],\n",
       "        [-0.94392441],\n",
       "        [-0.9468518 ],\n",
       "        [-0.89415893],\n",
       "        [-0.89562262],\n",
       "        [-0.82829284],\n",
       "        [-0.89415893],\n",
       "        [-0.85317559],\n",
       "        [-0.80487379],\n",
       "        [-0.82097439],\n",
       "        [-0.8195107 ],\n",
       "        [-0.71412496],\n",
       "        [-0.69363329],\n",
       "        [-0.57653803],\n",
       "        [-0.54872791],\n",
       "        [-0.47847075],\n",
       "        [-0.63215828],\n",
       "        [-0.55751005],\n",
       "        [-0.33210168],\n",
       "        [-0.34673858],\n",
       "        [-0.2647719 ],\n",
       "        [-0.18719629],\n",
       "        [ 0.0835865 ],\n",
       "        [-0.09791115],\n",
       "        [ 0.01772042],\n",
       "        [-0.06424627],\n",
       "        [-0.1388945 ],\n",
       "        [ 0.13920675],\n",
       "        [ 0.10261448],\n",
       "        [ 0.69248186],\n",
       "        [ 0.4948836 ],\n",
       "        [ 0.43633597],\n",
       "        [ 0.56074969],\n",
       "        [ 0.9076444 ],\n",
       "        [ 0.61490625],\n",
       "        [ 0.69248186],\n",
       "        [ 0.85495153],\n",
       "        [ 0.87397951],\n",
       "        [ 0.76713009],\n",
       "        [ 0.87105213],\n",
       "        [ 0.69394555],\n",
       "        [ 0.84324201],\n",
       "        [ 0.62954315],\n",
       "        [ 0.65881697],\n",
       "        [ 1.05254978],\n",
       "        [ 1.01595752],\n",
       "        [ 0.96180096],\n",
       "        [ 1.39651711],\n",
       "        [ 1.47555641],\n",
       "        [ 1.15500814],\n",
       "        [ 1.79756838],\n",
       "        [ 1.69511003],\n",
       "        [ 2.05078688],\n",
       "        [ 1.9219821 ],\n",
       "        [ 2.04200474],\n",
       "        [ 1.88246245],\n",
       "        [ 1.96442913],\n",
       "        [ 1.7317023 ]]])"
      ]
     },
     "execution_count": 110,
     "metadata": {},
     "output_type": "execute_result"
    }
   ],
   "source": [
    "#Using tslearn => not representative\n",
    "#assembling the two time series in an array for tslearn\n",
    "#time series which are compared need to be of the same dimension, ie same features\n",
    "cocoa_weather_crop = to_time_series_dataset([cocoa_complete[\"total_rain_year_weighted\"],cocoa_complete[\"reported_crop\"]])\n",
    "#normalising the time series\n",
    "cocoa_weather_crop = TimeSeriesScalerMeanVariance().fit_transform(cocoa_weather_crop)"
   ]
  },
  {
   "cell_type": "code",
   "execution_count": 127,
   "id": "eef9e6a7-2899-486c-a074-81359c36df12",
   "metadata": {},
   "outputs": [
    {
     "name": "stderr",
     "output_type": "stream",
     "text": [
      "[Parallel(n_jobs=1)]: Done  49 tasks      | elapsed:    0.0s\n",
      "[Parallel(n_jobs=1)]: Done  49 tasks      | elapsed:    0.0s\n",
      "[Parallel(n_jobs=1)]: Done 199 tasks      | elapsed:    0.0s\n",
      "[Parallel(n_jobs=1)]: Done  49 tasks      | elapsed:    0.0s\n",
      "[Parallel(n_jobs=1)]: Done 199 tasks      | elapsed:    0.0s\n",
      "[Parallel(n_jobs=1)]: Done  49 tasks      | elapsed:    0.0s\n",
      "[Parallel(n_jobs=1)]: Done 199 tasks      | elapsed:    0.0s\n",
      "[Parallel(n_jobs=1)]: Done  49 tasks      | elapsed:    0.0s\n",
      "[Parallel(n_jobs=1)]: Done 199 tasks      | elapsed:    0.0s\n",
      "[Parallel(n_jobs=1)]: Done  49 tasks      | elapsed:    0.0s\n",
      "[Parallel(n_jobs=1)]: Done 199 tasks      | elapsed:    0.0s\n",
      "[Parallel(n_jobs=1)]: Done  49 tasks      | elapsed:    0.0s\n"
     ]
    },
    {
     "name": "stdout",
     "output_type": "stream",
     "text": [
      "166367.328 --> 118838.543 --> 116362.332 --> 115114.015 --> "
     ]
    },
    {
     "name": "stderr",
     "output_type": "stream",
     "text": [
      "[Parallel(n_jobs=1)]: Done 199 tasks      | elapsed:    0.0s\n",
      "[Parallel(n_jobs=1)]: Done  49 tasks      | elapsed:    0.0s\n",
      "[Parallel(n_jobs=1)]: Done 199 tasks      | elapsed:    0.0s\n",
      "[Parallel(n_jobs=1)]: Done  49 tasks      | elapsed:    0.0s\n",
      "[Parallel(n_jobs=1)]: Done 199 tasks      | elapsed:    0.0s\n",
      "[Parallel(n_jobs=1)]: Done  49 tasks      | elapsed:    0.0s\n",
      "[Parallel(n_jobs=1)]: Done 199 tasks      | elapsed:    0.0s\n",
      "[Parallel(n_jobs=1)]: Done  49 tasks      | elapsed:    0.0s\n"
     ]
    },
    {
     "name": "stdout",
     "output_type": "stream",
     "text": [
      "113390.642 --> 112969.446 --> 109791.037 --> 107186.594 --> "
     ]
    },
    {
     "name": "stderr",
     "output_type": "stream",
     "text": [
      "[Parallel(n_jobs=1)]: Done 199 tasks      | elapsed:    0.0s\n",
      "[Parallel(n_jobs=1)]: Done  49 tasks      | elapsed:    0.0s\n",
      "[Parallel(n_jobs=1)]: Done 199 tasks      | elapsed:    0.0s\n",
      "[Parallel(n_jobs=1)]: Done  49 tasks      | elapsed:    0.0s\n",
      "[Parallel(n_jobs=1)]: Done 199 tasks      | elapsed:    0.0s\n",
      "[Parallel(n_jobs=1)]: Done  49 tasks      | elapsed:    0.0s\n",
      "[Parallel(n_jobs=1)]: Done 199 tasks      | elapsed:    0.0s\n",
      "[Parallel(n_jobs=1)]: Done  49 tasks      | elapsed:    0.0s\n"
     ]
    },
    {
     "name": "stdout",
     "output_type": "stream",
     "text": [
      "102374.773 --> 97739.701 --> 96014.026 --> 95701.073 --> "
     ]
    },
    {
     "name": "stderr",
     "output_type": "stream",
     "text": [
      "[Parallel(n_jobs=1)]: Done 199 tasks      | elapsed:    0.0s\n",
      "[Parallel(n_jobs=1)]: Done  49 tasks      | elapsed:    0.0s\n",
      "[Parallel(n_jobs=1)]: Done 199 tasks      | elapsed:    0.0s\n",
      "[Parallel(n_jobs=1)]: Done  49 tasks      | elapsed:    0.0s\n",
      "[Parallel(n_jobs=1)]: Done 199 tasks      | elapsed:    0.0s\n",
      "[Parallel(n_jobs=1)]: Done  49 tasks      | elapsed:    0.0s\n",
      "[Parallel(n_jobs=1)]: Done 199 tasks      | elapsed:    0.0s\n"
     ]
    },
    {
     "name": "stdout",
     "output_type": "stream",
     "text": [
      "95459.335 --> 95161.184 --> 95161.184 --> \n"
     ]
    },
    {
     "name": "stderr",
     "output_type": "stream",
     "text": [
      "[Parallel(n_jobs=1)]: Done  49 tasks      | elapsed:    0.0s\n",
      "[Parallel(n_jobs=1)]: Done 199 tasks      | elapsed:    0.0s\n",
      "[Parallel(n_jobs=1)]: Done  49 tasks      | elapsed:    0.0s\n",
      "[Parallel(n_jobs=1)]: Done 199 tasks      | elapsed:    0.0s\n"
     ]
    },
    {
     "data": {
      "text/plain": [
       "75"
      ]
     },
     "execution_count": 127,
     "metadata": {},
     "output_type": "execute_result"
    }
   ],
   "source": [
    "# TimeSeriesKMeans with DTW\n",
    "# Set the number of clusters\n",
    "n_clusters = 4\n",
    "#instantiating the model\n",
    "crop_model = TimeSeriesKMeans(n_clusters=n_clusters, verbose=True,metric=\"dtw\")\n",
    "# training and clustering\n",
    "y_pred = crop_model.fit_predict(cocoa_complete)\n",
    "len(y_pred)"
   ]
  },
  {
   "cell_type": "code",
   "execution_count": 128,
   "id": "8b2dde3e-28ba-416e-a4eb-15470a4c8685",
   "metadata": {},
   "outputs": [
    {
     "ename": "AttributeError",
     "evalue": "'str' object has no attribute 'ravel'",
     "output_type": "error",
     "traceback": [
      "\u001b[0;31m---------------------------------------------------------------------------\u001b[0m",
      "\u001b[0;31mAttributeError\u001b[0m                            Traceback (most recent call last)",
      "Cell \u001b[0;32mIn[128], line 7\u001b[0m\n\u001b[1;32m      5\u001b[0m plt\u001b[38;5;241m.\u001b[39msubplot(n_clusters, \u001b[38;5;241m1\u001b[39m, \u001b[38;5;241m1\u001b[39m \u001b[38;5;241m+\u001b[39m yi)\n\u001b[1;32m      6\u001b[0m \u001b[38;5;28;01mfor\u001b[39;00m xx \u001b[38;5;129;01min\u001b[39;00m cocoa_complete[y_pred \u001b[38;5;241m==\u001b[39m yi]:\n\u001b[0;32m----> 7\u001b[0m     plt\u001b[38;5;241m.\u001b[39mplot(\u001b[43mxx\u001b[49m\u001b[38;5;241;43m.\u001b[39;49m\u001b[43mravel\u001b[49m(), \u001b[38;5;124m\"\u001b[39m\u001b[38;5;124mk-\u001b[39m\u001b[38;5;124m\"\u001b[39m, alpha\u001b[38;5;241m=\u001b[39m\u001b[38;5;241m.2\u001b[39m)\n\u001b[1;32m      8\u001b[0m plt\u001b[38;5;241m.\u001b[39mplot(crop_model\u001b[38;5;241m.\u001b[39mcluster_centers_[yi]\u001b[38;5;241m.\u001b[39mravel(), \u001b[38;5;124m\"\u001b[39m\u001b[38;5;124mr-\u001b[39m\u001b[38;5;124m\"\u001b[39m)\n\u001b[1;32m      9\u001b[0m plt\u001b[38;5;241m.\u001b[39mtitle(\u001b[38;5;124m\"\u001b[39m\u001b[38;5;124mCluster \u001b[39m\u001b[38;5;132;01m%d\u001b[39;00m\u001b[38;5;124m\"\u001b[39m \u001b[38;5;241m%\u001b[39m (yi \u001b[38;5;241m+\u001b[39m \u001b[38;5;241m1\u001b[39m))\n",
      "\u001b[0;31mAttributeError\u001b[0m: 'str' object has no attribute 'ravel'"
     ]
    },
    {
     "data": {
      "text/plain": [
       "<Figure size 1600x900 with 0 Axes>"
      ]
     },
     "metadata": {},
     "output_type": "display_data"
    },
    {
     "data": {
      "image/png": "[encoded data removed]",
      "text/plain": [
       "<Figure size 1600x900 with 1 Axes>"
      ]
     },
     "metadata": {},
     "output_type": "display_data"
    }
   ],
   "source": [
    "plt.figure(figsize=(16, 9))\n",
    "# Visualizing the clustering results\n",
    "plt.figure(figsize=(16, 9))\n",
    "for yi in range(n_clusters):\n",
    "    plt.subplot(n_clusters, 1, 1 + yi)\n",
    "    for xx in cocoa_complete[y_pred == yi]:\n",
    "        plt.plot(xx.ravel(), \"k-\", alpha=.2)\n",
    "    plt.plot(crop_model.cluster_centers_[yi].ravel(), \"r-\")\n",
    "    plt.title(\"Cluster %d\" % (yi + 1))\n",
    "\n",
    "plt.tight_layout()\n",
    "plt.show()"
   ]
  },
  {
   "cell_type": "code",
   "execution_count": null,
   "id": "fbb32456-9eca-4d28-b9f4-dfc32af7d5a5",
   "metadata": {},
   "outputs": [],
   "source": []
  },
  {
   "cell_type": "code",
   "execution_count": null,
   "id": "4722f0bd-db90-4636-b28f-cf538f58f9d7",
   "metadata": {},
   "outputs": [],
   "source": []
  },
  {
   "cell_type": "code",
   "execution_count": null,
   "id": "c212a05a-6e2f-473d-b9a7-5873b2775c08",
   "metadata": {},
   "outputs": [],
   "source": [
    "####below are pieces of code used to assemble the functions at the top#######"
   ]
  },
  {
   "cell_type": "code",
   "execution_count": 220,
   "id": "bac5ddb6-63b9-4c94-83a3-508405859533",
   "metadata": {},
   "outputs": [
    {
     "data": {
      "text/plain": [
       "30681"
      ]
     },
     "execution_count": 220,
     "metadata": {},
     "output_type": "execute_result"
    }
   ],
   "source": [
    "gps_location = len(actual_weather[0][\"date\"])\n",
    "gps_location"
   ]
  },
  {
   "cell_type": "code",
   "execution_count": 221,
   "id": "15309808-756e-409f-bdbd-742690b35d74",
   "metadata": {},
   "outputs": [
    {
     "data": {
      "text/plain": [
       "30681"
      ]
     },
     "execution_count": 221,
     "metadata": {},
     "output_type": "execute_result"
    }
   ],
   "source": [
    "len(actual_weather[0][\"weather_code\"])"
   ]
  },
  {
   "cell_type": "code",
   "execution_count": 222,
   "id": "0dd92292-5180-4da1-9520-8c5e8f7d81fa",
   "metadata": {},
   "outputs": [
    {
     "data": {
      "text/plain": [
       "[61.0, 63.0, 53.0, 55.0, 51.0, 3.0, 2.0, 1.0, 0.0, 65.0]"
      ]
     },
     "execution_count": 222,
     "metadata": {},
     "output_type": "execute_result"
    }
   ],
   "source": [
    "weather_point = pd.DataFrame(actual_weather[0])\n",
    "code_count = weather_point[\"weather_code\"].nunique()\n",
    "code_list = weather_point[\"weather_code\"].unique().tolist()\n",
    "code_list"
   ]
  },
  {
   "cell_type": "code",
   "execution_count": 92,
   "id": "e6559f98-5e1a-4eb0-932a-8a42265b8733",
   "metadata": {},
   "outputs": [
    {
     "data": {
      "text/plain": [
       "dict_keys([0, 1, 2, 3, 61, 63, 65, 51, 53, 55])"
      ]
     },
     "execution_count": 92,
     "metadata": {},
     "output_type": "execute_result"
    }
   ],
   "source": [
    "code_dict ={\n",
    "    0:\"no clouds\",\n",
    "    1:\"clouds disolving\",\n",
    "    2:\"sky unchanged\",\n",
    "    3: \"clouds developping\",\n",
    "    61:\"rain slight\",\n",
    "    63:\"rain moderate\",\n",
    "    65:\"rain heavy\",\n",
    "    51:\"drizzle, slight\",\n",
    "    53:\"drizzle, moderate\",\n",
    "    55:\"drizzle, heavy\"\n",
    "}\n",
    "\n",
    "code_dict.keys()"
   ]
  },
  {
   "cell_type": "code",
   "execution_count": 224,
   "id": "84530b4f-c6ae-4e17-b11f-7b4573aa7c3b",
   "metadata": {},
   "outputs": [
    {
     "data": {
      "text/html": [
       "<div>\n",
       "<style scoped>\n",
       "    .dataframe tbody tr th:only-of-type {\n",
       "        vertical-align: middle;\n",
       "    }\n",
       "\n",
       "    .dataframe tbody tr th {\n",
       "        vertical-align: top;\n",
       "    }\n",
       "\n",
       "    .dataframe thead th {\n",
       "        text-align: right;\n",
       "    }\n",
       "</style>\n",
       "<table border=\"1\" class=\"dataframe\">\n",
       "  <thead>\n",
       "    <tr style=\"text-align: right;\">\n",
       "      <th></th>\n",
       "      <th>date</th>\n",
       "      <th>weather_code</th>\n",
       "      <th>temperature_2m_max</th>\n",
       "      <th>temperature_2m_min</th>\n",
       "      <th>temperature_2m_mean</th>\n",
       "      <th>precipitation_sum</th>\n",
       "      <th>rain_sum</th>\n",
       "      <th>month_number</th>\n",
       "      <th>year</th>\n",
       "    </tr>\n",
       "  </thead>\n",
       "  <tbody>\n",
       "    <tr>\n",
       "      <th>0</th>\n",
       "      <td>1940-01-01</td>\n",
       "      <td>61.0</td>\n",
       "      <td>26.761000</td>\n",
       "      <td>23.061001</td>\n",
       "      <td>24.358917</td>\n",
       "      <td>NaN</td>\n",
       "      <td>NaN</td>\n",
       "      <td>1</td>\n",
       "      <td>1940</td>\n",
       "    </tr>\n",
       "    <tr>\n",
       "      <th>1</th>\n",
       "      <td>1940-01-02</td>\n",
       "      <td>63.0</td>\n",
       "      <td>26.611000</td>\n",
       "      <td>22.961000</td>\n",
       "      <td>24.375582</td>\n",
       "      <td>12.0</td>\n",
       "      <td>12.0</td>\n",
       "      <td>1</td>\n",
       "      <td>1940</td>\n",
       "    </tr>\n",
       "    <tr>\n",
       "      <th>2</th>\n",
       "      <td>1940-01-03</td>\n",
       "      <td>53.0</td>\n",
       "      <td>26.511000</td>\n",
       "      <td>22.661001</td>\n",
       "      <td>24.177666</td>\n",
       "      <td>1.7</td>\n",
       "      <td>1.7</td>\n",
       "      <td>1</td>\n",
       "      <td>1940</td>\n",
       "    </tr>\n",
       "    <tr>\n",
       "      <th>3</th>\n",
       "      <td>1940-01-04</td>\n",
       "      <td>61.0</td>\n",
       "      <td>27.211000</td>\n",
       "      <td>23.611000</td>\n",
       "      <td>24.935999</td>\n",
       "      <td>4.0</td>\n",
       "      <td>4.0</td>\n",
       "      <td>1</td>\n",
       "      <td>1940</td>\n",
       "    </tr>\n",
       "    <tr>\n",
       "      <th>4</th>\n",
       "      <td>1940-01-05</td>\n",
       "      <td>55.0</td>\n",
       "      <td>27.211000</td>\n",
       "      <td>24.261000</td>\n",
       "      <td>25.406832</td>\n",
       "      <td>2.5</td>\n",
       "      <td>2.5</td>\n",
       "      <td>1</td>\n",
       "      <td>1940</td>\n",
       "    </tr>\n",
       "    <tr>\n",
       "      <th>...</th>\n",
       "      <td>...</td>\n",
       "      <td>...</td>\n",
       "      <td>...</td>\n",
       "      <td>...</td>\n",
       "      <td>...</td>\n",
       "      <td>...</td>\n",
       "      <td>...</td>\n",
       "      <td>...</td>\n",
       "      <td>...</td>\n",
       "    </tr>\n",
       "    <tr>\n",
       "      <th>30676</th>\n",
       "      <td>2023-12-27</td>\n",
       "      <td>51.0</td>\n",
       "      <td>31.563000</td>\n",
       "      <td>24.513000</td>\n",
       "      <td>27.708834</td>\n",
       "      <td>1.2</td>\n",
       "      <td>1.2</td>\n",
       "      <td>12</td>\n",
       "      <td>2023</td>\n",
       "    </tr>\n",
       "    <tr>\n",
       "      <th>30677</th>\n",
       "      <td>2023-12-28</td>\n",
       "      <td>3.0</td>\n",
       "      <td>32.663002</td>\n",
       "      <td>24.213001</td>\n",
       "      <td>27.583832</td>\n",
       "      <td>0.0</td>\n",
       "      <td>0.0</td>\n",
       "      <td>12</td>\n",
       "      <td>2023</td>\n",
       "    </tr>\n",
       "    <tr>\n",
       "      <th>30678</th>\n",
       "      <td>2023-12-29</td>\n",
       "      <td>63.0</td>\n",
       "      <td>31.763000</td>\n",
       "      <td>23.813000</td>\n",
       "      <td>27.169252</td>\n",
       "      <td>4.4</td>\n",
       "      <td>4.4</td>\n",
       "      <td>12</td>\n",
       "      <td>2023</td>\n",
       "    </tr>\n",
       "    <tr>\n",
       "      <th>30679</th>\n",
       "      <td>2023-12-30</td>\n",
       "      <td>55.0</td>\n",
       "      <td>31.013000</td>\n",
       "      <td>24.113001</td>\n",
       "      <td>27.125504</td>\n",
       "      <td>3.0</td>\n",
       "      <td>3.0</td>\n",
       "      <td>12</td>\n",
       "      <td>2023</td>\n",
       "    </tr>\n",
       "    <tr>\n",
       "      <th>30680</th>\n",
       "      <td>2023-12-31</td>\n",
       "      <td>53.0</td>\n",
       "      <td>31.263000</td>\n",
       "      <td>23.563000</td>\n",
       "      <td>27.083838</td>\n",
       "      <td>2.1</td>\n",
       "      <td>2.1</td>\n",
       "      <td>12</td>\n",
       "      <td>2023</td>\n",
       "    </tr>\n",
       "  </tbody>\n",
       "</table>\n",
       "<p>30681 rows × 9 columns</p>\n",
       "</div>"
      ],
      "text/plain": [
       "            date  weather_code  temperature_2m_max  temperature_2m_min  \\\n",
       "0     1940-01-01          61.0           26.761000           23.061001   \n",
       "1     1940-01-02          63.0           26.611000           22.961000   \n",
       "2     1940-01-03          53.0           26.511000           22.661001   \n",
       "3     1940-01-04          61.0           27.211000           23.611000   \n",
       "4     1940-01-05          55.0           27.211000           24.261000   \n",
       "...          ...           ...                 ...                 ...   \n",
       "30676 2023-12-27          51.0           31.563000           24.513000   \n",
       "30677 2023-12-28           3.0           32.663002           24.213001   \n",
       "30678 2023-12-29          63.0           31.763000           23.813000   \n",
       "30679 2023-12-30          55.0           31.013000           24.113001   \n",
       "30680 2023-12-31          53.0           31.263000           23.563000   \n",
       "\n",
       "       temperature_2m_mean  precipitation_sum  rain_sum  month_number  year  \n",
       "0                24.358917                NaN       NaN             1  1940  \n",
       "1                24.375582               12.0      12.0             1  1940  \n",
       "2                24.177666                1.7       1.7             1  1940  \n",
       "3                24.935999                4.0       4.0             1  1940  \n",
       "4                25.406832                2.5       2.5             1  1940  \n",
       "...                    ...                ...       ...           ...   ...  \n",
       "30676            27.708834                1.2       1.2            12  2023  \n",
       "30677            27.583832                0.0       0.0            12  2023  \n",
       "30678            27.169252                4.4       4.4            12  2023  \n",
       "30679            27.125504                3.0       3.0            12  2023  \n",
       "30680            27.083838                2.1       2.1            12  2023  \n",
       "\n",
       "[30681 rows x 9 columns]"
      ]
     },
     "execution_count": 224,
     "metadata": {},
     "output_type": "execute_result"
    }
   ],
   "source": [
    "weather_point['month_number'] = weather_point['date'].dt.month\n",
    "weather_point['year'] = weather_point['date'].dt.year\n",
    "weather_point"
   ]
  },
  {
   "cell_type": "code",
   "execution_count": 384,
   "id": "720da29d-56ed-4d8a-a550-bfb5800ce4d2",
   "metadata": {},
   "outputs": [
    {
     "data": {
      "text/html": [
       "<div>\n",
       "<style scoped>\n",
       "    .dataframe tbody tr th:only-of-type {\n",
       "        vertical-align: middle;\n",
       "    }\n",
       "\n",
       "    .dataframe tbody tr th {\n",
       "        vertical-align: top;\n",
       "    }\n",
       "\n",
       "    .dataframe thead th {\n",
       "        text-align: right;\n",
       "    }\n",
       "</style>\n",
       "<table border=\"1\" class=\"dataframe\">\n",
       "  <thead>\n",
       "    <tr style=\"text-align: right;\">\n",
       "      <th></th>\n",
       "      <th>dry_season</th>\n",
       "      <th>rain_season</th>\n",
       "      <th>total_year_rain</th>\n",
       "    </tr>\n",
       "    <tr>\n",
       "      <th>year</th>\n",
       "      <th></th>\n",
       "      <th></th>\n",
       "      <th></th>\n",
       "    </tr>\n",
       "  </thead>\n",
       "  <tbody>\n",
       "    <tr>\n",
       "      <th>1940</th>\n",
       "      <td>1039.900024</td>\n",
       "      <td>697.100037</td>\n",
       "      <td>1737.000000</td>\n",
       "    </tr>\n",
       "    <tr>\n",
       "      <th>1941</th>\n",
       "      <td>952.799988</td>\n",
       "      <td>983.200012</td>\n",
       "      <td>1936.000000</td>\n",
       "    </tr>\n",
       "    <tr>\n",
       "      <th>1942</th>\n",
       "      <td>776.700012</td>\n",
       "      <td>495.000000</td>\n",
       "      <td>1271.699951</td>\n",
       "    </tr>\n",
       "    <tr>\n",
       "      <th>1943</th>\n",
       "      <td>712.400024</td>\n",
       "      <td>516.200012</td>\n",
       "      <td>1228.600098</td>\n",
       "    </tr>\n",
       "    <tr>\n",
       "      <th>1944</th>\n",
       "      <td>777.500000</td>\n",
       "      <td>903.200012</td>\n",
       "      <td>1680.699951</td>\n",
       "    </tr>\n",
       "    <tr>\n",
       "      <th>...</th>\n",
       "      <td>...</td>\n",
       "      <td>...</td>\n",
       "      <td>...</td>\n",
       "    </tr>\n",
       "    <tr>\n",
       "      <th>2019</th>\n",
       "      <td>809.099976</td>\n",
       "      <td>1091.199951</td>\n",
       "      <td>1900.299927</td>\n",
       "    </tr>\n",
       "    <tr>\n",
       "      <th>2020</th>\n",
       "      <td>824.299988</td>\n",
       "      <td>920.799988</td>\n",
       "      <td>1745.099976</td>\n",
       "    </tr>\n",
       "    <tr>\n",
       "      <th>2021</th>\n",
       "      <td>695.500000</td>\n",
       "      <td>1376.300049</td>\n",
       "      <td>2071.800049</td>\n",
       "    </tr>\n",
       "    <tr>\n",
       "      <th>2022</th>\n",
       "      <td>839.900024</td>\n",
       "      <td>834.900024</td>\n",
       "      <td>1674.800049</td>\n",
       "    </tr>\n",
       "    <tr>\n",
       "      <th>2023</th>\n",
       "      <td>707.099976</td>\n",
       "      <td>998.299988</td>\n",
       "      <td>1705.399902</td>\n",
       "    </tr>\n",
       "  </tbody>\n",
       "</table>\n",
       "<p>84 rows × 3 columns</p>\n",
       "</div>"
      ],
      "text/plain": [
       "       dry_season  rain_season  total_year_rain\n",
       "year                                           \n",
       "1940  1039.900024   697.100037      1737.000000\n",
       "1941   952.799988   983.200012      1936.000000\n",
       "1942   776.700012   495.000000      1271.699951\n",
       "1943   712.400024   516.200012      1228.600098\n",
       "1944   777.500000   903.200012      1680.699951\n",
       "...           ...          ...              ...\n",
       "2019   809.099976  1091.199951      1900.299927\n",
       "2020   824.299988   920.799988      1745.099976\n",
       "2021   695.500000  1376.300049      2071.800049\n",
       "2022   839.900024   834.900024      1674.800049\n",
       "2023   707.099976   998.299988      1705.399902\n",
       "\n",
       "[84 rows x 3 columns]"
      ]
     },
     "execution_count": 384,
     "metadata": {},
     "output_type": "execute_result"
    }
   ],
   "source": [
    "weather_grouped = weather_point.groupby(['year', weather_point['month_number'].isin([5, 6, 7, 8, 9])])['precipitation_sum'].sum().unstack(fill_value=0)\n",
    "weather_grouped.columns = ['dry_season', 'rain_season']\n",
    "weather_grouped[\"total_year_rain\"] = weather_grouped[\"dry_season\"] + weather_grouped[\"rain_season\"]\n",
    "weather_grouped"
   ]
  },
  {
   "cell_type": "code",
   "execution_count": 272,
   "id": "91065c40-e307-4352-aceb-38d61cb1bab0",
   "metadata": {},
   "outputs": [
    {
     "data": {
      "text/plain": [
       "pandas.core.indexes.base.Index"
      ]
     },
     "execution_count": 272,
     "metadata": {},
     "output_type": "execute_result"
    }
   ],
   "source": [
    "type(weather_grouped.index)"
   ]
  },
  {
   "cell_type": "code",
   "execution_count": 226,
   "id": "e104a462-4f5b-4a3e-9ea4-5300b89814c9",
   "metadata": {},
   "outputs": [
    {
     "data": {
      "text/plain": [
       "713.88135"
      ]
     },
     "execution_count": 226,
     "metadata": {},
     "output_type": "execute_result"
    }
   ],
   "source": [
    "#average dry season\n",
    "dry_season_rainfall = weather_grouped[\"dry_season\"][:-30].mean()\n",
    "dry_season_rainfall"
   ]
  },
  {
   "cell_type": "code",
   "execution_count": 227,
   "id": "5a2f4da0-d499-4f57-9312-f697036cedc7",
   "metadata": {},
   "outputs": [
    {
     "data": {
      "text/plain": [
       "783.95"
      ]
     },
     "execution_count": 227,
     "metadata": {},
     "output_type": "execute_result"
    }
   ],
   "source": [
    "#average rain season\n",
    "rain_season_rainfall = weather_grouped[\"rain_season\"][:-30].mean()\n",
    "rain_season_rainfall"
   ]
  },
  {
   "cell_type": "code",
   "execution_count": 228,
   "id": "14abba8e-907f-473b-be7b-9b21a74cbeaa",
   "metadata": {},
   "outputs": [
    {
     "data": {
      "text/html": [
       "<div>\n",
       "<style scoped>\n",
       "    .dataframe tbody tr th:only-of-type {\n",
       "        vertical-align: middle;\n",
       "    }\n",
       "\n",
       "    .dataframe tbody tr th {\n",
       "        vertical-align: top;\n",
       "    }\n",
       "\n",
       "    .dataframe thead th {\n",
       "        text-align: right;\n",
       "    }\n",
       "</style>\n",
       "<table border=\"1\" class=\"dataframe\">\n",
       "  <thead>\n",
       "    <tr style=\"text-align: right;\">\n",
       "      <th></th>\n",
       "      <th>date</th>\n",
       "      <th>precipitation_sum</th>\n",
       "    </tr>\n",
       "  </thead>\n",
       "  <tbody>\n",
       "    <tr>\n",
       "      <th>0</th>\n",
       "      <td>1940</td>\n",
       "      <td>1565.199951</td>\n",
       "    </tr>\n",
       "    <tr>\n",
       "      <th>1</th>\n",
       "      <td>1941</td>\n",
       "      <td>1595.699951</td>\n",
       "    </tr>\n",
       "    <tr>\n",
       "      <th>2</th>\n",
       "      <td>1942</td>\n",
       "      <td>946.799988</td>\n",
       "    </tr>\n",
       "    <tr>\n",
       "      <th>3</th>\n",
       "      <td>1943</td>\n",
       "      <td>1102.300049</td>\n",
       "    </tr>\n",
       "    <tr>\n",
       "      <th>4</th>\n",
       "      <td>1944</td>\n",
       "      <td>1666.400024</td>\n",
       "    </tr>\n",
       "    <tr>\n",
       "      <th>...</th>\n",
       "      <td>...</td>\n",
       "      <td>...</td>\n",
       "    </tr>\n",
       "    <tr>\n",
       "      <th>79</th>\n",
       "      <td>2019</td>\n",
       "      <td>1798.699951</td>\n",
       "    </tr>\n",
       "    <tr>\n",
       "      <th>80</th>\n",
       "      <td>2020</td>\n",
       "      <td>1683.300049</td>\n",
       "    </tr>\n",
       "    <tr>\n",
       "      <th>81</th>\n",
       "      <td>2021</td>\n",
       "      <td>2202.899902</td>\n",
       "    </tr>\n",
       "    <tr>\n",
       "      <th>82</th>\n",
       "      <td>2022</td>\n",
       "      <td>1615.800049</td>\n",
       "    </tr>\n",
       "    <tr>\n",
       "      <th>83</th>\n",
       "      <td>2023</td>\n",
       "      <td>1734.500000</td>\n",
       "    </tr>\n",
       "  </tbody>\n",
       "</table>\n",
       "<p>84 rows × 2 columns</p>\n",
       "</div>"
      ],
      "text/plain": [
       "    date  precipitation_sum\n",
       "0   1940        1565.199951\n",
       "1   1941        1595.699951\n",
       "2   1942         946.799988\n",
       "3   1943        1102.300049\n",
       "4   1944        1666.400024\n",
       "..   ...                ...\n",
       "79  2019        1798.699951\n",
       "80  2020        1683.300049\n",
       "81  2021        2202.899902\n",
       "82  2022        1615.800049\n",
       "83  2023        1734.500000\n",
       "\n",
       "[84 rows x 2 columns]"
      ]
     },
     "execution_count": 228,
     "metadata": {},
     "output_type": "execute_result"
    }
   ],
   "source": [
    "monthly_cumul_rain = weather_point.groupby(weather_point[\"date\"].dt.to_period('Y')).agg({'precipitation_sum': \"sum\"})\n",
    "monthly_cumul_rain = monthly_cumul_rain.reset_index()\n",
    "monthly_cumul_rain"
   ]
  },
  {
   "cell_type": "code",
   "execution_count": 229,
   "id": "7654e7a4-3022-4d4e-81dc-039153cf3e96",
   "metadata": {},
   "outputs": [
    {
     "data": {
      "text/plain": [
       "2023"
      ]
     },
     "execution_count": 229,
     "metadata": {},
     "output_type": "execute_result"
    }
   ],
   "source": [
    "year = pd.Period(monthly_cumul_rain[\"date\"][83],freq = \"Y\")\n",
    "year.year"
   ]
  },
  {
   "cell_type": "code",
   "execution_count": 186,
   "id": "1e626eaf-22ae-4549-8d09-60f571ac1af8",
   "metadata": {},
   "outputs": [
    {
     "data": {
      "text/plain": [
       "2023"
      ]
     },
     "execution_count": 186,
     "metadata": {},
     "output_type": "execute_result"
    }
   ],
   "source": [
    "monthly_cumul_rain[\"date\"][83].year"
   ]
  },
  {
   "cell_type": "code",
   "execution_count": 394,
   "id": "a01dc032-4c93-4aa2-a115-e6b929201895",
   "metadata": {},
   "outputs": [
    {
     "name": "stderr",
     "output_type": "stream",
     "text": [
      "/tmp/ipykernel_95321/4120808980.py:3: UserWarning: Pandas doesn't allow columns to be created via a new attribute name - see https://pandas.pydata.org/pandas-docs/stable/indexing.html#attribute-access\n",
      "  yearly_rain_day.column = [\"rain_days\"]\n"
     ]
    }
   ],
   "source": [
    "#yearly_rain_day = weather_point.groupby(weather_point[\"date\"].dt.to_period('Y')).agg({'precipitation_sum': lambda x: (x != 0).sum()})\n",
    "yearly_rain_day = weather_point.groupby(weather_point[\"date\"].dt.to_period('Y')).agg({'precipitation_sum': lambda x: (x > 1.0).sum()})\n"
   ]
  },
  {
   "cell_type": "code",
   "execution_count": 396,
   "id": "8488d8f2-9d57-4a15-9518-a87d6b8dfabf",
   "metadata": {},
   "outputs": [
    {
     "data": {
      "text/html": [
       "<div>\n",
       "<style scoped>\n",
       "    .dataframe tbody tr th:only-of-type {\n",
       "        vertical-align: middle;\n",
       "    }\n",
       "\n",
       "    .dataframe tbody tr th {\n",
       "        vertical-align: top;\n",
       "    }\n",
       "\n",
       "    .dataframe thead th {\n",
       "        text-align: right;\n",
       "    }\n",
       "</style>\n",
       "<table border=\"1\" class=\"dataframe\">\n",
       "  <thead>\n",
       "    <tr style=\"text-align: right;\">\n",
       "      <th></th>\n",
       "      <th>rain_days</th>\n",
       "    </tr>\n",
       "    <tr>\n",
       "      <th>date</th>\n",
       "      <th></th>\n",
       "    </tr>\n",
       "  </thead>\n",
       "  <tbody>\n",
       "    <tr>\n",
       "      <th>1940</th>\n",
       "      <td>312</td>\n",
       "    </tr>\n",
       "    <tr>\n",
       "      <th>1941</th>\n",
       "      <td>317</td>\n",
       "    </tr>\n",
       "    <tr>\n",
       "      <th>1942</th>\n",
       "      <td>264</td>\n",
       "    </tr>\n",
       "    <tr>\n",
       "      <th>1943</th>\n",
       "      <td>235</td>\n",
       "    </tr>\n",
       "    <tr>\n",
       "      <th>1944</th>\n",
       "      <td>290</td>\n",
       "    </tr>\n",
       "    <tr>\n",
       "      <th>...</th>\n",
       "      <td>...</td>\n",
       "    </tr>\n",
       "    <tr>\n",
       "      <th>2019</th>\n",
       "      <td>263</td>\n",
       "    </tr>\n",
       "    <tr>\n",
       "      <th>2020</th>\n",
       "      <td>270</td>\n",
       "    </tr>\n",
       "    <tr>\n",
       "      <th>2021</th>\n",
       "      <td>272</td>\n",
       "    </tr>\n",
       "    <tr>\n",
       "      <th>2022</th>\n",
       "      <td>243</td>\n",
       "    </tr>\n",
       "    <tr>\n",
       "      <th>2023</th>\n",
       "      <td>252</td>\n",
       "    </tr>\n",
       "  </tbody>\n",
       "</table>\n",
       "<p>84 rows × 1 columns</p>\n",
       "</div>"
      ],
      "text/plain": [
       "      rain_days\n",
       "date           \n",
       "1940        312\n",
       "1941        317\n",
       "1942        264\n",
       "1943        235\n",
       "1944        290\n",
       "...         ...\n",
       "2019        263\n",
       "2020        270\n",
       "2021        272\n",
       "2022        243\n",
       "2023        252\n",
       "\n",
       "[84 rows x 1 columns]"
      ]
     },
     "execution_count": 396,
     "metadata": {},
     "output_type": "execute_result"
    }
   ],
   "source": [
    "yearly_rain_day.index = yearly_rain_day.index.year.astype(\"int\")\n",
    "yearly_rain_day = yearly_rain_day.rename(columns={\"precipitation_sum\":\"rain_days\"})\n",
    "yearly_rain_day"
   ]
  },
  {
   "cell_type": "code",
   "execution_count": 342,
   "id": "deb25f38-67db-48c8-8ac5-4ba8dbe1cee3",
   "metadata": {},
   "outputs": [
    {
     "data": {
      "text/html": [
       "<div>\n",
       "<style scoped>\n",
       "    .dataframe tbody tr th:only-of-type {\n",
       "        vertical-align: middle;\n",
       "    }\n",
       "\n",
       "    .dataframe tbody tr th {\n",
       "        vertical-align: top;\n",
       "    }\n",
       "\n",
       "    .dataframe thead th {\n",
       "        text-align: right;\n",
       "    }\n",
       "</style>\n",
       "<table border=\"1\" class=\"dataframe\">\n",
       "  <thead>\n",
       "    <tr style=\"text-align: right;\">\n",
       "      <th></th>\n",
       "      <th>weather_code</th>\n",
       "    </tr>\n",
       "    <tr>\n",
       "      <th>date</th>\n",
       "      <th></th>\n",
       "    </tr>\n",
       "  </thead>\n",
       "  <tbody>\n",
       "    <tr>\n",
       "      <th>1940</th>\n",
       "      <td>0</td>\n",
       "    </tr>\n",
       "    <tr>\n",
       "      <th>1941</th>\n",
       "      <td>0</td>\n",
       "    </tr>\n",
       "    <tr>\n",
       "      <th>1942</th>\n",
       "      <td>0</td>\n",
       "    </tr>\n",
       "    <tr>\n",
       "      <th>1943</th>\n",
       "      <td>0</td>\n",
       "    </tr>\n",
       "    <tr>\n",
       "      <th>1944</th>\n",
       "      <td>4</td>\n",
       "    </tr>\n",
       "    <tr>\n",
       "      <th>...</th>\n",
       "      <td>...</td>\n",
       "    </tr>\n",
       "    <tr>\n",
       "      <th>2019</th>\n",
       "      <td>10</td>\n",
       "    </tr>\n",
       "    <tr>\n",
       "      <th>2020</th>\n",
       "      <td>6</td>\n",
       "    </tr>\n",
       "    <tr>\n",
       "      <th>2021</th>\n",
       "      <td>16</td>\n",
       "    </tr>\n",
       "    <tr>\n",
       "      <th>2022</th>\n",
       "      <td>16</td>\n",
       "    </tr>\n",
       "    <tr>\n",
       "      <th>2023</th>\n",
       "      <td>18</td>\n",
       "    </tr>\n",
       "  </tbody>\n",
       "</table>\n",
       "<p>84 rows × 1 columns</p>\n",
       "</div>"
      ],
      "text/plain": [
       "      weather_code\n",
       "date              \n",
       "1940             0\n",
       "1941             0\n",
       "1942             0\n",
       "1943             0\n",
       "1944             4\n",
       "...            ...\n",
       "2019            10\n",
       "2020             6\n",
       "2021            16\n",
       "2022            16\n",
       "2023            18\n",
       "\n",
       "[84 rows x 1 columns]"
      ]
     },
     "execution_count": 342,
     "metadata": {},
     "output_type": "execute_result"
    }
   ],
   "source": [
    "#counting the days with intense rain (ie weather code = 64 or 65\n",
    "intense_rain_day = weather_point.groupby(weather_point[\"date\"].dt.to_period('Y')).agg({\"weather_code\": lambda x: (x.isin([64, 65])).sum()})\n",
    "intense_rain_day.index = intense_rain_day.index.year.astype(\"int\")\n",
    "intense_rain_day"
   ]
  },
  {
   "cell_type": "code",
   "execution_count": 343,
   "id": "7b490496-f5ca-40d3-9ef5-785c834feab1",
   "metadata": {},
   "outputs": [
    {
     "data": {
      "text/html": [
       "<div>\n",
       "<style scoped>\n",
       "    .dataframe tbody tr th:only-of-type {\n",
       "        vertical-align: middle;\n",
       "    }\n",
       "\n",
       "    .dataframe tbody tr th {\n",
       "        vertical-align: top;\n",
       "    }\n",
       "\n",
       "    .dataframe thead th {\n",
       "        text-align: right;\n",
       "    }\n",
       "</style>\n",
       "<table border=\"1\" class=\"dataframe\">\n",
       "  <thead>\n",
       "    <tr style=\"text-align: right;\">\n",
       "      <th></th>\n",
       "      <th>dry_season</th>\n",
       "      <th>rain_season</th>\n",
       "      <th>total_year_rain</th>\n",
       "      <th>precipitation_sum</th>\n",
       "      <th>weather_code</th>\n",
       "    </tr>\n",
       "  </thead>\n",
       "  <tbody>\n",
       "    <tr>\n",
       "      <th>1940</th>\n",
       "      <td>809.199951</td>\n",
       "      <td>756.000000</td>\n",
       "      <td>1565.199951</td>\n",
       "      <td>310</td>\n",
       "      <td>0</td>\n",
       "    </tr>\n",
       "    <tr>\n",
       "      <th>1941</th>\n",
       "      <td>644.400024</td>\n",
       "      <td>951.299988</td>\n",
       "      <td>1595.699951</td>\n",
       "      <td>303</td>\n",
       "      <td>0</td>\n",
       "    </tr>\n",
       "    <tr>\n",
       "      <th>1942</th>\n",
       "      <td>569.899963</td>\n",
       "      <td>376.899994</td>\n",
       "      <td>946.799927</td>\n",
       "      <td>241</td>\n",
       "      <td>0</td>\n",
       "    </tr>\n",
       "    <tr>\n",
       "      <th>1943</th>\n",
       "      <td>553.500000</td>\n",
       "      <td>548.799988</td>\n",
       "      <td>1102.300049</td>\n",
       "      <td>238</td>\n",
       "      <td>0</td>\n",
       "    </tr>\n",
       "    <tr>\n",
       "      <th>1944</th>\n",
       "      <td>524.200012</td>\n",
       "      <td>1142.200073</td>\n",
       "      <td>1666.400146</td>\n",
       "      <td>275</td>\n",
       "      <td>4</td>\n",
       "    </tr>\n",
       "    <tr>\n",
       "      <th>...</th>\n",
       "      <td>...</td>\n",
       "      <td>...</td>\n",
       "      <td>...</td>\n",
       "      <td>...</td>\n",
       "      <td>...</td>\n",
       "    </tr>\n",
       "    <tr>\n",
       "      <th>2019</th>\n",
       "      <td>820.600037</td>\n",
       "      <td>978.099976</td>\n",
       "      <td>1798.699951</td>\n",
       "      <td>287</td>\n",
       "      <td>10</td>\n",
       "    </tr>\n",
       "    <tr>\n",
       "      <th>2020</th>\n",
       "      <td>781.200012</td>\n",
       "      <td>902.099976</td>\n",
       "      <td>1683.300049</td>\n",
       "      <td>279</td>\n",
       "      <td>6</td>\n",
       "    </tr>\n",
       "    <tr>\n",
       "      <th>2021</th>\n",
       "      <td>721.200012</td>\n",
       "      <td>1481.699951</td>\n",
       "      <td>2202.899902</td>\n",
       "      <td>287</td>\n",
       "      <td>16</td>\n",
       "    </tr>\n",
       "    <tr>\n",
       "      <th>2022</th>\n",
       "      <td>775.299988</td>\n",
       "      <td>840.500000</td>\n",
       "      <td>1615.800049</td>\n",
       "      <td>263</td>\n",
       "      <td>16</td>\n",
       "    </tr>\n",
       "    <tr>\n",
       "      <th>2023</th>\n",
       "      <td>709.100037</td>\n",
       "      <td>1025.400024</td>\n",
       "      <td>1734.500000</td>\n",
       "      <td>273</td>\n",
       "      <td>18</td>\n",
       "    </tr>\n",
       "  </tbody>\n",
       "</table>\n",
       "<p>84 rows × 5 columns</p>\n",
       "</div>"
      ],
      "text/plain": [
       "      dry_season  rain_season  total_year_rain  precipitation_sum  \\\n",
       "1940  809.199951   756.000000      1565.199951                310   \n",
       "1941  644.400024   951.299988      1595.699951                303   \n",
       "1942  569.899963   376.899994       946.799927                241   \n",
       "1943  553.500000   548.799988      1102.300049                238   \n",
       "1944  524.200012  1142.200073      1666.400146                275   \n",
       "...          ...          ...              ...                ...   \n",
       "2019  820.600037   978.099976      1798.699951                287   \n",
       "2020  781.200012   902.099976      1683.300049                279   \n",
       "2021  721.200012  1481.699951      2202.899902                287   \n",
       "2022  775.299988   840.500000      1615.800049                263   \n",
       "2023  709.100037  1025.400024      1734.500000                273   \n",
       "\n",
       "      weather_code  \n",
       "1940             0  \n",
       "1941             0  \n",
       "1942             0  \n",
       "1943             0  \n",
       "1944             4  \n",
       "...            ...  \n",
       "2019            10  \n",
       "2020             6  \n",
       "2021            16  \n",
       "2022            16  \n",
       "2023            18  \n",
       "\n",
       "[84 rows x 5 columns]"
      ]
     },
     "execution_count": 343,
     "metadata": {},
     "output_type": "execute_result"
    }
   ],
   "source": [
    "#weather_total = pd.merge(weather_grouped.reset_index(), yearly_rain_day, left_on=\"year\", right_index=True, how='inner')\n",
    "#weather_total\n",
    "weather_total = pd.concat([weather_grouped, yearly_rain_day,intense_rain_day], axis=1)\n",
    "weather_total"
   ]
  },
  {
   "cell_type": "code",
   "execution_count": 360,
   "id": "ac2fde5d-8ddf-4191-ae8a-69c8a5335603",
   "metadata": {},
   "outputs": [
    {
     "data": {
      "text/html": [
       "<div>\n",
       "<style scoped>\n",
       "    .dataframe tbody tr th:only-of-type {\n",
       "        vertical-align: middle;\n",
       "    }\n",
       "\n",
       "    .dataframe tbody tr th {\n",
       "        vertical-align: top;\n",
       "    }\n",
       "\n",
       "    .dataframe thead th {\n",
       "        text-align: right;\n",
       "    }\n",
       "</style>\n",
       "<table border=\"1\" class=\"dataframe\">\n",
       "  <thead>\n",
       "    <tr style=\"text-align: right;\">\n",
       "      <th></th>\n",
       "      <th>dry_season</th>\n",
       "      <th>rain_season</th>\n",
       "      <th>total_year_rain</th>\n",
       "      <th>precipitation_sum</th>\n",
       "      <th>weather_code</th>\n",
       "      <th>latitude</th>\n",
       "      <th>longitude</th>\n",
       "    </tr>\n",
       "  </thead>\n",
       "  <tbody>\n",
       "    <tr>\n",
       "      <th>1940</th>\n",
       "      <td>809.199951</td>\n",
       "      <td>756.000000</td>\n",
       "      <td>1565.199951</td>\n",
       "      <td>310</td>\n",
       "      <td>0</td>\n",
       "      <td>5.377856</td>\n",
       "      <td>-6.481781</td>\n",
       "    </tr>\n",
       "    <tr>\n",
       "      <th>1941</th>\n",
       "      <td>644.400024</td>\n",
       "      <td>951.299988</td>\n",
       "      <td>1595.699951</td>\n",
       "      <td>303</td>\n",
       "      <td>0</td>\n",
       "      <td>5.377856</td>\n",
       "      <td>-6.481781</td>\n",
       "    </tr>\n",
       "    <tr>\n",
       "      <th>1942</th>\n",
       "      <td>569.899963</td>\n",
       "      <td>376.899994</td>\n",
       "      <td>946.799927</td>\n",
       "      <td>241</td>\n",
       "      <td>0</td>\n",
       "      <td>5.377856</td>\n",
       "      <td>-6.481781</td>\n",
       "    </tr>\n",
       "    <tr>\n",
       "      <th>1943</th>\n",
       "      <td>553.500000</td>\n",
       "      <td>548.799988</td>\n",
       "      <td>1102.300049</td>\n",
       "      <td>238</td>\n",
       "      <td>0</td>\n",
       "      <td>5.377856</td>\n",
       "      <td>-6.481781</td>\n",
       "    </tr>\n",
       "    <tr>\n",
       "      <th>1944</th>\n",
       "      <td>524.200012</td>\n",
       "      <td>1142.200073</td>\n",
       "      <td>1666.400146</td>\n",
       "      <td>275</td>\n",
       "      <td>4</td>\n",
       "      <td>5.377856</td>\n",
       "      <td>-6.481781</td>\n",
       "    </tr>\n",
       "    <tr>\n",
       "      <th>...</th>\n",
       "      <td>...</td>\n",
       "      <td>...</td>\n",
       "      <td>...</td>\n",
       "      <td>...</td>\n",
       "      <td>...</td>\n",
       "      <td>...</td>\n",
       "      <td>...</td>\n",
       "    </tr>\n",
       "    <tr>\n",
       "      <th>2019</th>\n",
       "      <td>820.600037</td>\n",
       "      <td>978.099976</td>\n",
       "      <td>1798.699951</td>\n",
       "      <td>287</td>\n",
       "      <td>10</td>\n",
       "      <td>5.377856</td>\n",
       "      <td>-6.481781</td>\n",
       "    </tr>\n",
       "    <tr>\n",
       "      <th>2020</th>\n",
       "      <td>781.200012</td>\n",
       "      <td>902.099976</td>\n",
       "      <td>1683.300049</td>\n",
       "      <td>279</td>\n",
       "      <td>6</td>\n",
       "      <td>5.377856</td>\n",
       "      <td>-6.481781</td>\n",
       "    </tr>\n",
       "    <tr>\n",
       "      <th>2021</th>\n",
       "      <td>721.200012</td>\n",
       "      <td>1481.699951</td>\n",
       "      <td>2202.899902</td>\n",
       "      <td>287</td>\n",
       "      <td>16</td>\n",
       "      <td>5.377856</td>\n",
       "      <td>-6.481781</td>\n",
       "    </tr>\n",
       "    <tr>\n",
       "      <th>2022</th>\n",
       "      <td>775.299988</td>\n",
       "      <td>840.500000</td>\n",
       "      <td>1615.800049</td>\n",
       "      <td>263</td>\n",
       "      <td>16</td>\n",
       "      <td>5.377856</td>\n",
       "      <td>-6.481781</td>\n",
       "    </tr>\n",
       "    <tr>\n",
       "      <th>2023</th>\n",
       "      <td>709.100037</td>\n",
       "      <td>1025.400024</td>\n",
       "      <td>1734.500000</td>\n",
       "      <td>273</td>\n",
       "      <td>18</td>\n",
       "      <td>5.377856</td>\n",
       "      <td>-6.481781</td>\n",
       "    </tr>\n",
       "  </tbody>\n",
       "</table>\n",
       "<p>84 rows × 7 columns</p>\n",
       "</div>"
      ],
      "text/plain": [
       "      dry_season  rain_season  total_year_rain  precipitation_sum  \\\n",
       "1940  809.199951   756.000000      1565.199951                310   \n",
       "1941  644.400024   951.299988      1595.699951                303   \n",
       "1942  569.899963   376.899994       946.799927                241   \n",
       "1943  553.500000   548.799988      1102.300049                238   \n",
       "1944  524.200012  1142.200073      1666.400146                275   \n",
       "...          ...          ...              ...                ...   \n",
       "2019  820.600037   978.099976      1798.699951                287   \n",
       "2020  781.200012   902.099976      1683.300049                279   \n",
       "2021  721.200012  1481.699951      2202.899902                287   \n",
       "2022  775.299988   840.500000      1615.800049                263   \n",
       "2023  709.100037  1025.400024      1734.500000                273   \n",
       "\n",
       "      weather_code  latitude  longitude  \n",
       "1940             0  5.377856  -6.481781  \n",
       "1941             0  5.377856  -6.481781  \n",
       "1942             0  5.377856  -6.481781  \n",
       "1943             0  5.377856  -6.481781  \n",
       "1944             4  5.377856  -6.481781  \n",
       "...            ...       ...        ...  \n",
       "2019            10  5.377856  -6.481781  \n",
       "2020             6  5.377856  -6.481781  \n",
       "2021            16  5.377856  -6.481781  \n",
       "2022            16  5.377856  -6.481781  \n",
       "2023            18  5.377856  -6.481781  \n",
       "\n",
       "[84 rows x 7 columns]"
      ]
     },
     "execution_count": 360,
     "metadata": {},
     "output_type": "execute_result"
    }
   ],
   "source": [
    "weather_total[\"latitude\"] = responses[0].Latitude()\n",
    "weather_total[\"longitude\"] = responses[0].Longitude()\n",
    "weather_total"
   ]
  },
  {
   "cell_type": "code",
   "execution_count": 413,
   "id": "2bddb439-2302-4536-974d-ab12c2178ba5",
   "metadata": {},
   "outputs": [
    {
     "data": {
      "text/plain": [
       "array([1, 4, 3, 3, 1, 3, 3, 1, 3, 3, 3, 1, 4, 1, 3, 2, 2, 4, 3, 3, 3, 3,\n",
       "       3, 1, 3, 1, 3, 1, 0, 2, 2, 2, 2, 4, 4, 2, 1, 1, 2, 4, 2, 4, 3, 3,\n",
       "       0, 1, 1, 4, 4, 1, 1, 1, 1, 1, 3, 1, 4, 3, 1, 1, 3, 3, 3, 1, 1, 1,\n",
       "       1, 1, 1, 3, 4, 3, 1, 3, 1, 3, 4, 0, 0, 0, 4, 0, 4, 4], dtype=int32)"
      ]
     },
     "execution_count": 413,
     "metadata": {},
     "output_type": "execute_result"
    }
   ],
   "source": []
  },
  {
   "cell_type": "code",
   "execution_count": 414,
   "id": "13feedf5-09e3-4c2a-87f3-ad59af5b1033",
   "metadata": {},
   "outputs": [
    {
     "data": {
      "text/plain": [
       "84"
      ]
     },
     "execution_count": 414,
     "metadata": {},
     "output_type": "execute_result"
    }
   ],
   "source": []
  },
  {
   "cell_type": "code",
   "execution_count": 415,
   "id": "ae373509-b209-4861-8c09-4563c72528c3",
   "metadata": {},
   "outputs": [
    {
     "data": {
      "image/png": "[encoded data removed]",
      "text/plain": [
       "<Figure size 640x480 with 1 Axes>"
      ]
     },
     "metadata": {},
     "output_type": "display_data"
    }
   ],
   "source": [
    "plt.scatter(weather_grouped.iloc[:,0], weather_grouped.iloc[:,1], c=km.labels_)\n",
    "plt.title('KMeans clustering'); plt.xlabel('dry_season'); plt.ylabel('rain_season');"
   ]
  },
  {
   "cell_type": "code",
   "execution_count": 287,
   "id": "89be51b6-c394-4cb2-960c-0aaec3e0ca90",
   "metadata": {},
   "outputs": [
    {
     "data": {
      "text/plain": [
       "0     False\n",
       "1     False\n",
       "2     False\n",
       "3     False\n",
       "4     False\n",
       "      ...  \n",
       "79    False\n",
       "80    False\n",
       "81    False\n",
       "82    False\n",
       "83     True\n",
       "Name: date, Length: 84, dtype: bool"
      ]
     },
     "execution_count": 287,
     "metadata": {},
     "output_type": "execute_result"
    }
   ],
   "source": [
    "monthly_cumul_rain[\"date\"].dt.year==2023"
   ]
  },
  {
   "cell_type": "code",
   "execution_count": 208,
   "id": "94adf016-65ea-4fe8-aed5-39f3adddf353",
   "metadata": {},
   "outputs": [
    {
     "name": "stdout",
     "output_type": "stream",
     "text": [
      "0\n",
      "4\n"
     ]
    }
   ],
   "source": [
    "index_number = monthly_cumul_rain.index.get_loc(monthly_cumul_rain[monthly_cumul_rain[\"date\"].dt.year==1940].index[0])\n",
    "print(index_number)\n",
    "print(km.labels_[index_number])\n",
    "print("
   ]
  },
  {
   "cell_type": "code",
   "execution_count": null,
   "id": "a075f3fc-1294-47a2-b8fa-248440108322",
   "metadata": {},
   "outputs": [],
   "source": []
  },
  {
   "cell_type": "code",
   "execution_count": 163,
   "id": "8735e2a8-e254-4bf7-b355-4e82d1b42e36",
   "metadata": {},
   "outputs": [
    {
     "data": {
      "text/html": [
       "<div>\n",
       "<style scoped>\n",
       "    .dataframe tbody tr th:only-of-type {\n",
       "        vertical-align: middle;\n",
       "    }\n",
       "\n",
       "    .dataframe tbody tr th {\n",
       "        vertical-align: top;\n",
       "    }\n",
       "\n",
       "    .dataframe thead th {\n",
       "        text-align: right;\n",
       "    }\n",
       "</style>\n",
       "<table border=\"1\" class=\"dataframe\">\n",
       "  <thead>\n",
       "    <tr style=\"text-align: right;\">\n",
       "      <th></th>\n",
       "      <th>date</th>\n",
       "      <th>temperature_2m_min</th>\n",
       "    </tr>\n",
       "  </thead>\n",
       "  <tbody>\n",
       "    <tr>\n",
       "      <th>0</th>\n",
       "      <td>1940-01</td>\n",
       "      <td>20.386999</td>\n",
       "    </tr>\n",
       "    <tr>\n",
       "      <th>1</th>\n",
       "      <td>1940-02</td>\n",
       "      <td>20.636999</td>\n",
       "    </tr>\n",
       "    <tr>\n",
       "      <th>2</th>\n",
       "      <td>1940-03</td>\n",
       "      <td>20.937000</td>\n",
       "    </tr>\n",
       "    <tr>\n",
       "      <th>3</th>\n",
       "      <td>1940-04</td>\n",
       "      <td>21.487000</td>\n",
       "    </tr>\n",
       "    <tr>\n",
       "      <th>4</th>\n",
       "      <td>1940-05</td>\n",
       "      <td>21.136999</td>\n",
       "    </tr>\n",
       "    <tr>\n",
       "      <th>...</th>\n",
       "      <td>...</td>\n",
       "      <td>...</td>\n",
       "    </tr>\n",
       "    <tr>\n",
       "      <th>1003</th>\n",
       "      <td>2023-08</td>\n",
       "      <td>21.374001</td>\n",
       "    </tr>\n",
       "    <tr>\n",
       "      <th>1004</th>\n",
       "      <td>2023-09</td>\n",
       "      <td>21.424002</td>\n",
       "    </tr>\n",
       "    <tr>\n",
       "      <th>1005</th>\n",
       "      <td>2023-10</td>\n",
       "      <td>21.724001</td>\n",
       "    </tr>\n",
       "    <tr>\n",
       "      <th>1006</th>\n",
       "      <td>2023-11</td>\n",
       "      <td>21.824001</td>\n",
       "    </tr>\n",
       "    <tr>\n",
       "      <th>1007</th>\n",
       "      <td>2023-12</td>\n",
       "      <td>18.174002</td>\n",
       "    </tr>\n",
       "  </tbody>\n",
       "</table>\n",
       "<p>1008 rows × 2 columns</p>\n",
       "</div>"
      ],
      "text/plain": [
       "         date  temperature_2m_min\n",
       "0     1940-01           20.386999\n",
       "1     1940-02           20.636999\n",
       "2     1940-03           20.937000\n",
       "3     1940-04           21.487000\n",
       "4     1940-05           21.136999\n",
       "...       ...                 ...\n",
       "1003  2023-08           21.374001\n",
       "1004  2023-09           21.424002\n",
       "1005  2023-10           21.724001\n",
       "1006  2023-11           21.824001\n",
       "1007  2023-12           18.174002\n",
       "\n",
       "[1008 rows x 2 columns]"
      ]
     },
     "execution_count": 163,
     "metadata": {},
     "output_type": "execute_result"
    }
   ],
   "source": [
    "monthly_min_temp = weather_point.groupby(weather_point[\"date\"].dt.to_period('M')).agg({'temperature_2m_min': \"min\"})\n",
    "monthly_min_temp = monthly_min_temp.reset_index()\n",
    "monthly_min_temp"
   ]
  },
  {
   "cell_type": "code",
   "execution_count": 97,
   "id": "4f9a2f28-73ec-47a3-8f50-92d9cf201ee5",
   "metadata": {},
   "outputs": [
    {
     "data": {
      "text/html": [
       "<div>\n",
       "<style scoped>\n",
       "    .dataframe tbody tr th:only-of-type {\n",
       "        vertical-align: middle;\n",
       "    }\n",
       "\n",
       "    .dataframe tbody tr th {\n",
       "        vertical-align: top;\n",
       "    }\n",
       "\n",
       "    .dataframe thead th {\n",
       "        text-align: right;\n",
       "    }\n",
       "</style>\n",
       "<table border=\"1\" class=\"dataframe\">\n",
       "  <thead>\n",
       "    <tr style=\"text-align: right;\">\n",
       "      <th></th>\n",
       "      <th>temperature_2m_mean</th>\n",
       "    </tr>\n",
       "    <tr>\n",
       "      <th>date</th>\n",
       "      <th></th>\n",
       "    </tr>\n",
       "  </thead>\n",
       "  <tbody>\n",
       "    <tr>\n",
       "      <th>1940-01</th>\n",
       "      <td>24.107967</td>\n",
       "    </tr>\n",
       "    <tr>\n",
       "      <th>1940-02</th>\n",
       "      <td>24.813076</td>\n",
       "    </tr>\n",
       "    <tr>\n",
       "      <th>1940-03</th>\n",
       "      <td>25.053936</td>\n",
       "    </tr>\n",
       "    <tr>\n",
       "      <th>1940-04</th>\n",
       "      <td>25.159153</td>\n",
       "    </tr>\n",
       "    <tr>\n",
       "      <th>1940-05</th>\n",
       "      <td>24.884512</td>\n",
       "    </tr>\n",
       "    <tr>\n",
       "      <th>...</th>\n",
       "      <td>...</td>\n",
       "    </tr>\n",
       "    <tr>\n",
       "      <th>2023-08</th>\n",
       "      <td>25.007467</td>\n",
       "    </tr>\n",
       "    <tr>\n",
       "      <th>2023-09</th>\n",
       "      <td>24.937819</td>\n",
       "    </tr>\n",
       "    <tr>\n",
       "      <th>2023-10</th>\n",
       "      <td>25.018490</td>\n",
       "    </tr>\n",
       "    <tr>\n",
       "      <th>2023-11</th>\n",
       "      <td>25.592821</td>\n",
       "    </tr>\n",
       "    <tr>\n",
       "      <th>2023-12</th>\n",
       "      <td>27.065195</td>\n",
       "    </tr>\n",
       "  </tbody>\n",
       "</table>\n",
       "<p>1008 rows × 1 columns</p>\n",
       "</div>"
      ],
      "text/plain": [
       "         temperature_2m_mean\n",
       "date                        \n",
       "1940-01            24.107967\n",
       "1940-02            24.813076\n",
       "1940-03            25.053936\n",
       "1940-04            25.159153\n",
       "1940-05            24.884512\n",
       "...                      ...\n",
       "2023-08            25.007467\n",
       "2023-09            24.937819\n",
       "2023-10            25.018490\n",
       "2023-11            25.592821\n",
       "2023-12            27.065195\n",
       "\n",
       "[1008 rows x 1 columns]"
      ]
     },
     "execution_count": 97,
     "metadata": {},
     "output_type": "execute_result"
    }
   ],
   "source": [
    "monthly_mean_temp = weather_point.groupby(weather_point[\"date\"].dt.to_period('M')).agg({'temperature_2m_mean': \"mean\"})\n",
    "monthly_mean_temp"
   ]
  },
  {
   "cell_type": "code",
   "execution_count": 165,
   "id": "e2a837c4-84fe-4b40-b5b5-26888747677b",
   "metadata": {},
   "outputs": [
    {
     "data": {
      "text/html": [
       "<div>\n",
       "<style scoped>\n",
       "    .dataframe tbody tr th:only-of-type {\n",
       "        vertical-align: middle;\n",
       "    }\n",
       "\n",
       "    .dataframe tbody tr th {\n",
       "        vertical-align: top;\n",
       "    }\n",
       "\n",
       "    .dataframe thead th {\n",
       "        text-align: right;\n",
       "    }\n",
       "</style>\n",
       "<table border=\"1\" class=\"dataframe\">\n",
       "  <thead>\n",
       "    <tr style=\"text-align: right;\">\n",
       "      <th></th>\n",
       "      <th>date</th>\n",
       "      <th>precipitation_sum</th>\n",
       "    </tr>\n",
       "  </thead>\n",
       "  <tbody>\n",
       "    <tr>\n",
       "      <th>0</th>\n",
       "      <td>1940-01</td>\n",
       "      <td>80.200005</td>\n",
       "    </tr>\n",
       "    <tr>\n",
       "      <th>1</th>\n",
       "      <td>1940-02</td>\n",
       "      <td>92.599998</td>\n",
       "    </tr>\n",
       "    <tr>\n",
       "      <th>2</th>\n",
       "      <td>1940-03</td>\n",
       "      <td>115.400002</td>\n",
       "    </tr>\n",
       "    <tr>\n",
       "      <th>3</th>\n",
       "      <td>1940-04</td>\n",
       "      <td>165.100006</td>\n",
       "    </tr>\n",
       "    <tr>\n",
       "      <th>4</th>\n",
       "      <td>1940-05</td>\n",
       "      <td>136.800003</td>\n",
       "    </tr>\n",
       "    <tr>\n",
       "      <th>...</th>\n",
       "      <td>...</td>\n",
       "      <td>...</td>\n",
       "    </tr>\n",
       "    <tr>\n",
       "      <th>1003</th>\n",
       "      <td>2023-08</td>\n",
       "      <td>117.100006</td>\n",
       "    </tr>\n",
       "    <tr>\n",
       "      <th>1004</th>\n",
       "      <td>2023-09</td>\n",
       "      <td>229.800003</td>\n",
       "    </tr>\n",
       "    <tr>\n",
       "      <th>1005</th>\n",
       "      <td>2023-10</td>\n",
       "      <td>252.500000</td>\n",
       "    </tr>\n",
       "    <tr>\n",
       "      <th>1006</th>\n",
       "      <td>2023-11</td>\n",
       "      <td>107.599998</td>\n",
       "    </tr>\n",
       "    <tr>\n",
       "      <th>1007</th>\n",
       "      <td>2023-12</td>\n",
       "      <td>23.700001</td>\n",
       "    </tr>\n",
       "  </tbody>\n",
       "</table>\n",
       "<p>1008 rows × 2 columns</p>\n",
       "</div>"
      ],
      "text/plain": [
       "         date  precipitation_sum\n",
       "0     1940-01          80.200005\n",
       "1     1940-02          92.599998\n",
       "2     1940-03         115.400002\n",
       "3     1940-04         165.100006\n",
       "4     1940-05         136.800003\n",
       "...       ...                ...\n",
       "1003  2023-08         117.100006\n",
       "1004  2023-09         229.800003\n",
       "1005  2023-10         252.500000\n",
       "1006  2023-11         107.599998\n",
       "1007  2023-12          23.700001\n",
       "\n",
       "[1008 rows x 2 columns]"
      ]
     },
     "execution_count": 165,
     "metadata": {},
     "output_type": "execute_result"
    }
   ],
   "source": [
    "monthly_avg = monthly_cumul_rain.groupby('date')['precipitation_sum'].mean().reset_index()\n",
    "monthly_avg"
   ]
  },
  {
   "cell_type": "code",
   "execution_count": 117,
   "id": "0995042a-ca2e-4338-8d43-b61c49bb56a6",
   "metadata": {},
   "outputs": [
    {
     "ename": "ValueError",
     "evalue": "The number of FixedLocator locations (13), usually from a call to set_ticks, does not match the number of labels (12).",
     "output_type": "error",
     "traceback": [
      "\u001b[0;31m---------------------------------------------------------------------------\u001b[0m",
      "\u001b[0;31mValueError\u001b[0m                                Traceback (most recent call last)",
      "Cell \u001b[0;32mIn[117], line 6\u001b[0m\n\u001b[1;32m      4\u001b[0m plt\u001b[38;5;241m.\u001b[39mxlabel(\u001b[38;5;124m'\u001b[39m\u001b[38;5;124mPrecipitation\u001b[39m\u001b[38;5;124m'\u001b[39m)\n\u001b[1;32m      5\u001b[0m plt\u001b[38;5;241m.\u001b[39mylabel(\u001b[38;5;124m'\u001b[39m\u001b[38;5;124mFrequency\u001b[39m\u001b[38;5;124m'\u001b[39m)\n\u001b[0;32m----> 6\u001b[0m \u001b[43mplt\u001b[49m\u001b[38;5;241;43m.\u001b[39;49m\u001b[43mxticks\u001b[49m\u001b[43m(\u001b[49m\u001b[38;5;28;43mrange\u001b[39;49m\u001b[43m(\u001b[49m\u001b[38;5;241;43m13\u001b[39;49m\u001b[43m)\u001b[49m\u001b[43m,\u001b[49m\u001b[43m \u001b[49m\u001b[38;5;28;43mlist\u001b[39;49m\u001b[43m(\u001b[49m\u001b[43mmonthly_cumul_rain\u001b[49m\u001b[43m[\u001b[49m\u001b[38;5;124;43m'\u001b[39;49m\u001b[38;5;124;43mmonth_number\u001b[39;49m\u001b[38;5;124;43m'\u001b[39;49m\u001b[43m]\u001b[49m\u001b[38;5;241;43m.\u001b[39;49m\u001b[43munique\u001b[49m\u001b[43m(\u001b[49m\u001b[43m)\u001b[49m\u001b[43m)\u001b[49m\u001b[43m)\u001b[49m  \n\u001b[1;32m      7\u001b[0m plt\u001b[38;5;241m.\u001b[39mshow()\n",
      "File \u001b[0;32m~/.pyenv/versions/3.10.6/envs/weather_checker/lib/python3.10/site-packages/matplotlib/pyplot.py:2053\u001b[0m, in \u001b[0;36mxticks\u001b[0;34m(ticks, labels, minor, **kwargs)\u001b[0m\n\u001b[1;32m   2051\u001b[0m         l\u001b[38;5;241m.\u001b[39m_internal_update(kwargs)\n\u001b[1;32m   2052\u001b[0m \u001b[38;5;28;01melse\u001b[39;00m:\n\u001b[0;32m-> 2053\u001b[0m     labels_out \u001b[38;5;241m=\u001b[39m \u001b[43max\u001b[49m\u001b[38;5;241;43m.\u001b[39;49m\u001b[43mset_xticklabels\u001b[49m\u001b[43m(\u001b[49m\u001b[43mlabels\u001b[49m\u001b[43m,\u001b[49m\u001b[43m \u001b[49m\u001b[43mminor\u001b[49m\u001b[38;5;241;43m=\u001b[39;49m\u001b[43mminor\u001b[49m\u001b[43m,\u001b[49m\u001b[43m \u001b[49m\u001b[38;5;241;43m*\u001b[39;49m\u001b[38;5;241;43m*\u001b[39;49m\u001b[43mkwargs\u001b[49m\u001b[43m)\u001b[49m\n\u001b[1;32m   2055\u001b[0m \u001b[38;5;28;01mreturn\u001b[39;00m locs, labels_out\n",
      "File \u001b[0;32m~/.pyenv/versions/3.10.6/envs/weather_checker/lib/python3.10/site-packages/matplotlib/axes/_base.py:73\u001b[0m, in \u001b[0;36m_axis_method_wrapper.__set_name__.<locals>.wrapper\u001b[0;34m(self, *args, **kwargs)\u001b[0m\n\u001b[1;32m     72\u001b[0m \u001b[38;5;28;01mdef\u001b[39;00m \u001b[38;5;21mwrapper\u001b[39m(\u001b[38;5;28mself\u001b[39m, \u001b[38;5;241m*\u001b[39margs, \u001b[38;5;241m*\u001b[39m\u001b[38;5;241m*\u001b[39mkwargs):\n\u001b[0;32m---> 73\u001b[0m     \u001b[38;5;28;01mreturn\u001b[39;00m \u001b[43mget_method\u001b[49m\u001b[43m(\u001b[49m\u001b[38;5;28;43mself\u001b[39;49m\u001b[43m)\u001b[49m\u001b[43m(\u001b[49m\u001b[38;5;241;43m*\u001b[39;49m\u001b[43margs\u001b[49m\u001b[43m,\u001b[49m\u001b[43m \u001b[49m\u001b[38;5;241;43m*\u001b[39;49m\u001b[38;5;241;43m*\u001b[39;49m\u001b[43mkwargs\u001b[49m\u001b[43m)\u001b[49m\n",
      "File \u001b[0;32m~/.pyenv/versions/3.10.6/envs/weather_checker/lib/python3.10/site-packages/matplotlib/_api/deprecation.py:297\u001b[0m, in \u001b[0;36mrename_parameter.<locals>.wrapper\u001b[0;34m(*args, **kwargs)\u001b[0m\n\u001b[1;32m    292\u001b[0m     warn_deprecated(\n\u001b[1;32m    293\u001b[0m         since, message\u001b[38;5;241m=\u001b[39m\u001b[38;5;124mf\u001b[39m\u001b[38;5;124m\"\u001b[39m\u001b[38;5;124mThe \u001b[39m\u001b[38;5;132;01m{\u001b[39;00mold\u001b[38;5;132;01m!r}\u001b[39;00m\u001b[38;5;124m parameter of \u001b[39m\u001b[38;5;132;01m{\u001b[39;00mfunc\u001b[38;5;241m.\u001b[39m\u001b[38;5;18m__name__\u001b[39m\u001b[38;5;132;01m}\u001b[39;00m\u001b[38;5;124m() \u001b[39m\u001b[38;5;124m\"\u001b[39m\n\u001b[1;32m    294\u001b[0m         \u001b[38;5;124mf\u001b[39m\u001b[38;5;124m\"\u001b[39m\u001b[38;5;124mhas been renamed \u001b[39m\u001b[38;5;132;01m{\u001b[39;00mnew\u001b[38;5;132;01m!r}\u001b[39;00m\u001b[38;5;124m since Matplotlib \u001b[39m\u001b[38;5;132;01m{\u001b[39;00msince\u001b[38;5;132;01m}\u001b[39;00m\u001b[38;5;124m; support \u001b[39m\u001b[38;5;124m\"\u001b[39m\n\u001b[1;32m    295\u001b[0m         \u001b[38;5;124mf\u001b[39m\u001b[38;5;124m\"\u001b[39m\u001b[38;5;124mfor the old name will be dropped %(removal)s.\u001b[39m\u001b[38;5;124m\"\u001b[39m)\n\u001b[1;32m    296\u001b[0m     kwargs[new] \u001b[38;5;241m=\u001b[39m kwargs\u001b[38;5;241m.\u001b[39mpop(old)\n\u001b[0;32m--> 297\u001b[0m \u001b[38;5;28;01mreturn\u001b[39;00m \u001b[43mfunc\u001b[49m\u001b[43m(\u001b[49m\u001b[38;5;241;43m*\u001b[39;49m\u001b[43margs\u001b[49m\u001b[43m,\u001b[49m\u001b[43m \u001b[49m\u001b[38;5;241;43m*\u001b[39;49m\u001b[38;5;241;43m*\u001b[39;49m\u001b[43mkwargs\u001b[49m\u001b[43m)\u001b[49m\n",
      "File \u001b[0;32m~/.pyenv/versions/3.10.6/envs/weather_checker/lib/python3.10/site-packages/matplotlib/axis.py:2025\u001b[0m, in \u001b[0;36mAxis.set_ticklabels\u001b[0;34m(self, labels, minor, fontdict, **kwargs)\u001b[0m\n\u001b[1;32m   2021\u001b[0m \u001b[38;5;28;01melif\u001b[39;00m \u001b[38;5;28misinstance\u001b[39m(locator, mticker\u001b[38;5;241m.\u001b[39mFixedLocator):\n\u001b[1;32m   2022\u001b[0m     \u001b[38;5;66;03m# Passing [] as a list of labels is often used as a way to\u001b[39;00m\n\u001b[1;32m   2023\u001b[0m     \u001b[38;5;66;03m# remove all tick labels, so only error for > 0 labels\u001b[39;00m\n\u001b[1;32m   2024\u001b[0m     \u001b[38;5;28;01mif\u001b[39;00m \u001b[38;5;28mlen\u001b[39m(locator\u001b[38;5;241m.\u001b[39mlocs) \u001b[38;5;241m!=\u001b[39m \u001b[38;5;28mlen\u001b[39m(labels) \u001b[38;5;129;01mand\u001b[39;00m \u001b[38;5;28mlen\u001b[39m(labels) \u001b[38;5;241m!=\u001b[39m \u001b[38;5;241m0\u001b[39m:\n\u001b[0;32m-> 2025\u001b[0m         \u001b[38;5;28;01mraise\u001b[39;00m \u001b[38;5;167;01mValueError\u001b[39;00m(\n\u001b[1;32m   2026\u001b[0m             \u001b[38;5;124m\"\u001b[39m\u001b[38;5;124mThe number of FixedLocator locations\u001b[39m\u001b[38;5;124m\"\u001b[39m\n\u001b[1;32m   2027\u001b[0m             \u001b[38;5;124mf\u001b[39m\u001b[38;5;124m\"\u001b[39m\u001b[38;5;124m (\u001b[39m\u001b[38;5;132;01m{\u001b[39;00m\u001b[38;5;28mlen\u001b[39m(locator\u001b[38;5;241m.\u001b[39mlocs)\u001b[38;5;132;01m}\u001b[39;00m\u001b[38;5;124m), usually from a call to\u001b[39m\u001b[38;5;124m\"\u001b[39m\n\u001b[1;32m   2028\u001b[0m             \u001b[38;5;124m\"\u001b[39m\u001b[38;5;124m set_ticks, does not match\u001b[39m\u001b[38;5;124m\"\u001b[39m\n\u001b[1;32m   2029\u001b[0m             \u001b[38;5;124mf\u001b[39m\u001b[38;5;124m\"\u001b[39m\u001b[38;5;124m the number of labels (\u001b[39m\u001b[38;5;132;01m{\u001b[39;00m\u001b[38;5;28mlen\u001b[39m(labels)\u001b[38;5;132;01m}\u001b[39;00m\u001b[38;5;124m).\u001b[39m\u001b[38;5;124m\"\u001b[39m)\n\u001b[1;32m   2030\u001b[0m     tickd \u001b[38;5;241m=\u001b[39m {loc: lab \u001b[38;5;28;01mfor\u001b[39;00m loc, lab \u001b[38;5;129;01min\u001b[39;00m \u001b[38;5;28mzip\u001b[39m(locator\u001b[38;5;241m.\u001b[39mlocs, labels)}\n\u001b[1;32m   2031\u001b[0m     func \u001b[38;5;241m=\u001b[39m functools\u001b[38;5;241m.\u001b[39mpartial(\u001b[38;5;28mself\u001b[39m\u001b[38;5;241m.\u001b[39m_format_with_dict, tickd)\n",
      "\u001b[0;31mValueError\u001b[0m: The number of FixedLocator locations (13), usually from a call to set_ticks, does not match the number of labels (12)."
     ]
    },
    {
     "data": {
      "image/png": "[encoded data removed]",
      "text/plain": [
       "<Figure size 1000x600 with 1 Axes>"
      ]
     },
     "metadata": {},
     "output_type": "display_data"
    }
   ],
   "source": [
    "plt.figure(figsize=(10, 6))\n",
    "plt.hist(monthly_cumul_rain['precipitation_sum'], bins=12, edgecolor='black', alpha=0.7)\n",
    "plt.title('Monthly Precipitation Histogram')\n",
    "plt.xlabel('Precipitation')\n",
    "plt.ylabel('Frequency')\n",
    "plt.xticks(range(13), list(monthly_cumul_rain['month_number'].unique()))  \n",
    "plt.show()"
   ]
  },
  {
   "cell_type": "code",
   "execution_count": 116,
   "id": "de8b3471-2368-4f19-83f0-0c0544b83215",
   "metadata": {},
   "outputs": [
    {
     "data": {
      "text/plain": [
       "[1, 2, 3, 4, 5, 6, 7, 8, 9, 10, 11, 12]"
      ]
     },
     "execution_count": 116,
     "metadata": {},
     "output_type": "execute_result"
    }
   ],
   "source": [
    "list(monthly_cumul_rain['month_number'].unique())"
   ]
  },
  {
   "cell_type": "code",
   "execution_count": 104,
   "id": "1d291e00-fe6a-484f-9cc5-29b1a7b3b3e2",
   "metadata": {},
   "outputs": [
    {
     "data": {
      "text/html": [
       "<div>\n",
       "<style scoped>\n",
       "    .dataframe tbody tr th:only-of-type {\n",
       "        vertical-align: middle;\n",
       "    }\n",
       "\n",
       "    .dataframe tbody tr th {\n",
       "        vertical-align: top;\n",
       "    }\n",
       "\n",
       "    .dataframe thead th {\n",
       "        text-align: right;\n",
       "    }\n",
       "</style>\n",
       "<table border=\"1\" class=\"dataframe\">\n",
       "  <thead>\n",
       "    <tr style=\"text-align: right;\">\n",
       "      <th></th>\n",
       "      <th>date</th>\n",
       "      <th>precipitation_sum</th>\n",
       "    </tr>\n",
       "  </thead>\n",
       "  <tbody>\n",
       "    <tr>\n",
       "      <th>0</th>\n",
       "      <td>1940-01</td>\n",
       "      <td>30</td>\n",
       "    </tr>\n",
       "    <tr>\n",
       "      <th>1</th>\n",
       "      <td>1940-02</td>\n",
       "      <td>29</td>\n",
       "    </tr>\n",
       "    <tr>\n",
       "      <th>2</th>\n",
       "      <td>1940-03</td>\n",
       "      <td>31</td>\n",
       "    </tr>\n",
       "    <tr>\n",
       "      <th>3</th>\n",
       "      <td>1940-04</td>\n",
       "      <td>30</td>\n",
       "    </tr>\n",
       "    <tr>\n",
       "      <th>4</th>\n",
       "      <td>1940-05</td>\n",
       "      <td>30</td>\n",
       "    </tr>\n",
       "    <tr>\n",
       "      <th>...</th>\n",
       "      <td>...</td>\n",
       "      <td>...</td>\n",
       "    </tr>\n",
       "    <tr>\n",
       "      <th>1003</th>\n",
       "      <td>2023-08</td>\n",
       "      <td>31</td>\n",
       "    </tr>\n",
       "    <tr>\n",
       "      <th>1004</th>\n",
       "      <td>2023-09</td>\n",
       "      <td>30</td>\n",
       "    </tr>\n",
       "    <tr>\n",
       "      <th>1005</th>\n",
       "      <td>2023-10</td>\n",
       "      <td>31</td>\n",
       "    </tr>\n",
       "    <tr>\n",
       "      <th>1006</th>\n",
       "      <td>2023-11</td>\n",
       "      <td>29</td>\n",
       "    </tr>\n",
       "    <tr>\n",
       "      <th>1007</th>\n",
       "      <td>2023-12</td>\n",
       "      <td>14</td>\n",
       "    </tr>\n",
       "  </tbody>\n",
       "</table>\n",
       "<p>1008 rows × 2 columns</p>\n",
       "</div>"
      ],
      "text/plain": [
       "         date  precipitation_sum\n",
       "0     1940-01                 30\n",
       "1     1940-02                 29\n",
       "2     1940-03                 31\n",
       "3     1940-04                 30\n",
       "4     1940-05                 30\n",
       "...       ...                ...\n",
       "1003  2023-08                 31\n",
       "1004  2023-09                 30\n",
       "1005  2023-10                 31\n",
       "1006  2023-11                 29\n",
       "1007  2023-12                 14\n",
       "\n",
       "[1008 rows x 2 columns]"
      ]
     },
     "execution_count": 104,
     "metadata": {},
     "output_type": "execute_result"
    }
   ],
   "source": [
    "monthly_rain_day = weather_point.groupby(weather_point[\"date\"].dt.to_period('M')).agg({'precipitation_sum': lambda x: (x != 0).sum()})\n",
    "monthly_rain_day = monthly_rain_day.reset_index()\n",
    "monthly_rain_day"
   ]
  },
  {
   "cell_type": "code",
   "execution_count": null,
   "id": "1a864bd2-8d63-46fe-b8a7-aea397db965e",
   "metadata": {},
   "outputs": [],
   "source": []
  }
 ],
 "metadata": {
  "kernelspec": {
   "display_name": "Python 3 (ipykernel)",
   "language": "python",
   "name": "python3"
  },
  "language_info": {
   "codemirror_mode": {
    "name": "ipython",
    "version": 3
   },
   "file_extension": ".py",
   "mimetype": "text/x-python",
   "name": "python",
   "nbconvert_exporter": "python",
   "pygments_lexer": "ipython3",
   "version": "3.10.6"
  }
 },
 "nbformat": 4,
 "nbformat_minor": 5
}
