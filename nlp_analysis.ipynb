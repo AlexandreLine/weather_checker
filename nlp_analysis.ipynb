{
 "cells": [
  {
   "cell_type": "code",
   "execution_count": 85,
   "id": "9f5a7673-a0b4-46e7-a97b-5bf12d04608c",
   "metadata": {},
   "outputs": [],
   "source": [
    "from io import StringIO\n",
    "\n",
    "# To read the PDF\n",
    "import PyPDF2\n",
    "# To analyze the PDF layout and extract text\n",
    "from pdfminer.high_level import extract_pages, extract_text,extract_text_to_fp\n",
    "from pdfminer.layout import LTTextContainer, LTChar, LTRect, LTFigure, LAParams\n",
    "\n",
    "# To extract text from tables in PDF\n",
    "import pdfplumber\n",
    "# To remove the additional created files\n",
    "import os\n",
    "\n",
    "import string"
   ]
  },
  {
   "cell_type": "code",
   "execution_count": 110,
   "id": "0ee2bca6-36fc-4e98-b60c-09f4652fb51b",
   "metadata": {},
   "outputs": [
    {
     "data": {
      "text/plain": [
       "['160108.pdf',\n",
       " '160205.pdf',\n",
       " '160104.pdf',\n",
       " '160302.pdf',\n",
       " '160111.pdf',\n",
       " '160210.pdf',\n",
       " '160226.pdf',\n",
       " '160314.pdf',\n",
       " '160118.pdf',\n",
       " '160308.pdf',\n",
       " '160307.pdf',\n",
       " '160121.pdf',\n",
       " '160128.pdf',\n",
       " '160122.pdf',\n",
       " '160303.pdf',\n",
       " '160217.pdf',\n",
       " '160224.pdf',\n",
       " '160209.pdf',\n",
       " '160211.pdf',\n",
       " '160119.pdf',\n",
       " '160218.pdf',\n",
       " '160120.pdf',\n",
       " '160129.pdf',\n",
       " '160315.pdf',\n",
       " '160203.pdf',\n",
       " '160105.pdf',\n",
       " '160219.pdf',\n",
       " '160204.pdf',\n",
       " '160125.pdf',\n",
       " '160106.pdf',\n",
       " '160225.pdf',\n",
       " '160222.pdf',\n",
       " '160112.pdf',\n",
       " '160126.pdf',\n",
       " '160202.pdf',\n",
       " '160208.pdf',\n",
       " '160216.pdf',\n",
       " '160127.pdf',\n",
       " '160107.pdf',\n",
       " '160115.pdf',\n",
       " '160223.pdf',\n",
       " '160301.pdf',\n",
       " '160201.pdf',\n",
       " '160113.pdf',\n",
       " '160304.pdf',\n",
       " '160212.pdf',\n",
       " '160311.pdf',\n",
       " '160229.pdf',\n",
       " '160309.pdf',\n",
       " '160310.pdf']"
      ]
     },
     "execution_count": 110,
     "metadata": {},
     "output_type": "execute_result"
    }
   ],
   "source": [
    "#listing the files from a specific folder\n",
    "from os import listdir\n",
    "from os.path import isfile, join\n",
    "onlyfiles = [f for f in listdir(\"raw_data/pdf_reports/2016\") if isfile(join(\"raw_data/pdf_reports/2016\", f))]\n",
    "onlyfiles"
   ]
  },
  {
   "cell_type": "code",
   "execution_count": 134,
   "id": "3e87e005-e796-40af-9174-56fe7ba4b2de",
   "metadata": {},
   "outputs": [
    {
     "name": "stdout",
     "output_type": "stream",
     "text": [
      "CPU times: user 15.6 s, sys: 0 ns, total: 15.6 s\n",
      "Wall time: 15.6 s\n"
     ]
    }
   ],
   "source": [
    "%%time\n",
    "comments_db = []\n",
    "for files in onlyfiles[:25]:\n",
    "    text = extract_text(f\"raw_data/pdf_reports/2016/{files}\", maxpages = 1)\n",
    "    comment = text.partition(\"COT\")[2]\n",
    "    comment = comment.lower()\n",
    "    comment = ''.join(char for char in comment if not char.isdigit())\n",
    "    for punctuation in string.punctuation:\n",
    "       comment = comment.replace(punctuation, '') \n",
    "    comment = comment.replace('\\n',\" \")\n",
    "    comments_db.append(comment)"
   ]
  },
  {
   "cell_type": "code",
   "execution_count": 135,
   "id": "1f00c0de-e442-4dc5-a7d5-aea191f70df8",
   "metadata": {},
   "outputs": [
    {
     "data": {
      "text/plain": [
       "' fut only wopt us cot widx wopt eu cot fut only wopt  feb feb  ls    ls   com  feb  feb   feb  sdu  mts nontend   ls     ls   com     live   total     net ls   net ls   com net    swp     valid   sprd   sprd  swp     exp   ldu  mts nontend   live   total   valid   bdu  mts nontend   live   exp   total   valid   exp   total nontend   com     com     com  com    swp net mng        net com  mng      index   mng  net    net com    nr     nr    index  net index nr     othr  othr net othr         nr   nr     net nr   net nr  nr     oi   oi   nr net    oi    live   net spec   net spec    net spec    all   change   change  change         after  a  seemingly  quiet  start  to  the  session  prices  in  london  resurrected  momentum  off  yesterday’s  technical  breakout to rally more than  in good volume  with the chart looking constructive prices accelerated through  the  retracement level of the latest and massive £ peak to trough decline  the next key resistance points reside up near  basis the second month continuation chart which coincides with both the  retracement of  the  aforementioned  range  as  well  as  the    day  moving  average    the  day  moving  average  sits  just  beneath  those  levels  that  could  create  another  speed  bump  should  prices  continue  higher    of  course  macroeconomic  headwinds could easily derail this projection however a firming structure  maymay moved £ higher today  alone    served  as  another  fundamental  indicator  that  the  path  of  least  resistance  remains  to  the  upside    though  arbitrage values narrowed slightly on the back end of the curve dealings in the  positions remained thin relative  to the more than  contracts that changed hands today suggesting the recent rally has yet to arouse any material  forward hedging  options activity was brisk led by the trading of more than  mar  call spreads  two strikes that have more than  lots open in each with  days to expiration  other noteworthy transactions included nearly  may  call spreads vs the  puts  may  fences and   jul  puts – all of which traded laid up       in new york fresh discretionary fund buying was seen on the official open quickly penetrating the psychological resistance level of  basis may eventually breaking through  the previous day’s high  a steady barrage of  commercial selling soon ensued preventing further upside momentum for the duration of the trading session despite another  tranche  of  fund  buying  on  the  close  similar  to  yesterday  in  the  post  settlement  trading  session  a  steady barrage of system related selling erased the majority of the day’s gains as the aforementioned buyers became absent from the marketplace   it should also be noted the open interest rose by  lots which is surprising considering that  yesterday’s rally appeared to be a short  covering event  it  was  a  usually quiet day  in  the  greater  commodity complex as the reuters jefferies crb index closed  points lower      this report is prepared for you daily by the cocoa group of newedge usa llc             new york office  f       p    london office  p   f          email your replies to newedgecocoanewedgecom     joseph p mallaney    michael juliano  todd c lunstead devon dinneen  michael dann jamie ball  jonathan proctor  andrew proctor graham phillips  \\x0c'"
      ]
     },
     "execution_count": 135,
     "metadata": {},
     "output_type": "execute_result"
    }
   ],
   "source": [
    "comments_db[20]"
   ]
  },
  {
   "cell_type": "code",
   "execution_count": 132,
   "id": "95eed810-9a14-452c-b8fb-c93d6551c851",
   "metadata": {},
   "outputs": [
    {
     "data": {
      "text/plain": [
       "25"
      ]
     },
     "execution_count": 132,
     "metadata": {},
     "output_type": "execute_result"
    }
   ],
   "source": [
    "len(comments_db)"
   ]
  },
  {
   "cell_type": "code",
   "execution_count": 137,
   "id": "838ec113-2b29-45cb-a321-3d564d245037",
   "metadata": {},
   "outputs": [
    {
     "name": "stdout",
     "output_type": "stream",
     "text": [
      "CPU times: user 118 ms, sys: 27.1 ms, total: 145 ms\n",
      "Wall time: 115 ms\n"
     ]
    }
   ],
   "source": [
    "%%time\n",
    "from gensim.models import Word2Vec\n",
    "word2vec = Word2Vec(sentences=comments_db)\n",
    "wv = word2vec.wv"
   ]
  },
  {
   "cell_type": "code",
   "execution_count": 138,
   "id": "c3b108a3-e067-4df9-83d5-7b0c6af38b7e",
   "metadata": {},
   "outputs": [
    {
     "data": {
      "text/plain": [
       "{' ': 0,\n",
       " 'e': 1,\n",
       " 't': 2,\n",
       " 'n': 3,\n",
       " 'o': 4,\n",
       " 'a': 5,\n",
       " 'i': 6,\n",
       " 'r': 7,\n",
       " 's': 8,\n",
       " 'l': 9,\n",
       " 'd': 10,\n",
       " 'h': 11,\n",
       " 'c': 12,\n",
       " 'p': 13,\n",
       " 'm': 14,\n",
       " 'u': 15,\n",
       " 'g': 16,\n",
       " 'f': 17,\n",
       " 'y': 18,\n",
       " 'w': 19,\n",
       " 'v': 20,\n",
       " 'b': 21,\n",
       " 'k': 22,\n",
       " 'x': 23,\n",
       " 'j': 24,\n",
       " 'q': 25,\n",
       " '’': 26,\n",
       " '£': 27,\n",
       " '\\x0c': 28,\n",
       " 'z': 29,\n",
       " '–': 30}"
      ]
     },
     "execution_count": 138,
     "metadata": {},
     "output_type": "execute_result"
    }
   ],
   "source": [
    "wv.key_to_index"
   ]
  },
  {
   "cell_type": "code",
   "execution_count": null,
   "id": "0f3036c6-4292-4e8b-83c7-ac9d3d092f09",
   "metadata": {},
   "outputs": [],
   "source": [
    "#below are trials to extract text from the PDFs"
   ]
  },
  {
   "cell_type": "code",
   "execution_count": 66,
   "id": "a2cae95b-5bd9-4b63-8308-fa3819147b0a",
   "metadata": {},
   "outputs": [
    {
     "data": {
      "text/plain": [
       "'COCOA MARKET REPORT\\n\\n   Arb Settle Basis Ldn Close on 20-12-24\\n\\nWednesday, January 13, 2021\\n\\nSource:  Bloomberg and the I.C.E.\\n\\nI.C.E EU\\nCLOSE\\n1703\\n1648\\n1631\\n1619\\n1626\\n1623\\n1625\\n1627\\n1629\\n1636\\n\\nMAR 21\\nMAY 21\\nJUL 21\\nSEP 21\\nDEC 21\\nMAR 22\\nMAY 22\\nJUL 22\\nSEP 22\\nDEC 22\\nLondon Due: \\n\\n9\\n7\\n3\\n0\\n1\\n1\\n0\\n-1\\n-1\\n-1\\nMAY 21\\n\\nHI\\n1,721\\n1,663\\n1,644\\n1,632\\n1,637\\n1,634\\n1,635\\n1,636\\n\\nLOW\\n1,683\\n1,633\\n1,620\\n1,614\\n1,619\\n1,618\\n1,624\\n1,630\\n\\n-£8\\n\\nLower\\n\\nVOLUME\\n5252\\n5058\\n3610\\n1340\\n862\\n170\\n90\\n50\\n\\nOPEN INTEREST \\n248\\n-734\\n92\\n376\\n-99\\n67\\n-9\\n22\\n\\n73,478\\n39,523\\n29,528\\n27,699\\n34,104\\n10,766\\n4,240\\n2,074\\n406\\n18\\n221,836\\n\\n4\\n-33\\n\\n16,432\\nStock Market Indices\\n31060.47\\nDJIA\\n3809.84\\nS&P500\\nNASDAQ\\n13128.95\\nFTSE 100 IDX  6745.52\\nNIKKEI225\\n28456.6\\nCommodity Indices:\\n471.72\\nCCI\\n\\nBCOM\\n\\nGSCI\\n\\nTRJ CRB\\n\\nBltc Frt Idx\\n\\n80.61\\n\\n432.40\\n\\n175.19\\n\\n1849\\n\\n90.343\\n\\nDXY\\nCommodities (2nd Pos.):\\nSugar\\n\\n14.95\\n\\nLDN VOLUMES\\nFinal:\\nSprds:\\n EFP:\\nEFS:\\nCalls:\\nPuts: \\n\\n45.36\\n44.34\\n\\n16,432 Switch\\n5,936 H1/K1\\n199\\nH1/N1\\n0\\nH1/U1\\n670\\nH1/Z1\\nH1/H2\\nK1/N1\\nK1/U1\\nK1/Z1\\nK1/H2\\nK1/K2\\n42.60 N1/U1\\n42.73 N1/Z1\\nN1/H2\\n1643 N1/K2\\n1651 N1/N2\\n1656 U1/Z1\\n1699 U1/H2\\n1717 U1/K2\\nK2/N2\\n1729\\n\\n  2nd Mth Cont.\\nLDN RSI\\n  9-Day = \\n14-Day =\\nSTOCHASTIC  \\n\\n%K  =\\n%D  =\\n\\nMOVING AVE. \\n  5-Day = \\n10-Day = \\n20-Day = \\n50-Day = \\n100-Day= \\n200-Day=\\n\\n~    LONDON  SPREADS    ~  \\n\\nBid/Ask Hi  Low Volume\\n60     49\\n78     62\\n89     76\\n84     80\\n85     75\\n21     12\\n32     22\\n27     24\\n27     27\\n25     25\\n13     9\\n6     3\\n\\n1596 \\n104 \\n50 \\n197 \\n114 \\n1937 \\n199 \\n13 \\n3 \\n33 \\n725 \\n47 \\n\\n56/57\\n74/76\\n86/89\\n80/82\\n82/85\\n18/19\\n30/32\\n23/26\\n25/29\\n22/27\\n12/13\\n5/7\\n7/10\\n4/8\\n1/7\\n-7/-6\\n-5/-3\\n-8/-5\\n-4/-1\\n\\nGBP @ LDN CLOSE\\n\\nEUR @ LDN CLOSE\\n\\nUSD:\\nEUR:\\nCHF:\\nJPY:\\nCAN:\\nRUB:\\n\\n0.7337\\n0.8922\\n0.8268\\n141.60\\n1.7326\\n100.50\\n\\n-0.006\\n-0.008\\n-0.005\\n0.83\\n0.006\\n-0.34\\n\\nUSD:\\nGBP:\\nCHF:\\nJPY:\\nCAN:\\nRUB:\\n\\n0.8224\\n1.1208\\n0.9267\\n126.33\\n1.5458\\n89.666\\n\\n0.0005\\n0.0102\\n0.0032\\n-0.4200\\n-0.0085\\n-1.1313\\n\\n  I.C.E US STOCKS in CERTIFIED WAREHOUSEs  (~145 lb. BAGS)\\nNew York\\n227,884\\n  I.C.E EU COCOA STOCKS - In Exchange Nominated Warehouses\\n\\nDate\\n13-Jan-21\\n\\nDelaware\\n2,987,382\\n\\n7     7\\n\\n12 \\n\\n-5     -7\\n-4     -4\\n-6     -6\\n-1     -2\\n\\n669 \\n2 \\n2 \\n11 \\n\\nCoffee\\n\\nCrude\\n\\nGold\\n\\n3 mth\\nLIBOR\\nRates\\n\\n127.25\\n\\n52.96\\n\\n1858.80\\n\\nUSD\\n\\nGBP\\n\\nEUR\\n\\nSEP 21\\n\\nGBP\\n-130 MAR 21\\n-154 MAY 21\\n-165\\nJUL 21\\n-173\\n-161\\nDEC 21\\n-157 MAR 22\\n-152 MAY 22\\n-147\\nJUL 22\\n-146\\n-138\\n\\nDEC 22\\n\\nSEP 22\\n\\nI.C.E. US\\nCLOSE/REF\\n2499\\n2457\\n2450\\n2445\\n2440\\n2433\\n2429\\n2426\\n2429\\n2429\\n\\n1\\n9\\n7\\n6\\n6\\n8\\n8\\n8\\n8\\n8\\n\\nICE TAS\\n(Trade at Settlement)\\n\\nMAY 21\\n\\nMAR 21\\n\\nUS\\n2530\\n2510\\n2483\\n2463\\n2436\\n2416\\n2369\\n Change NY ATM \\n3-MTH\\n\\nJUL 21\\n\\nH1/N1\\n\\nK1/N1\\n\\nH1/K1\\n\\n-0.63\\n\\n6-MTH\\n\\nLdn\\n7\\n\\nImp Vol\\n\\n29.19\\n\\n26.61\\n\\nUS\\n719\\n435\\n201\\n143\\n201\\n0\\n Change\\n\\n-0.20\\n\\nVALUE\\nDATE\\n\\n03/17/21\\n\\n05/19/21\\n\\n07/21/21\\n\\n09/15/21\\n\\n12/15/21\\n\\n03/16/22\\n\\n05/18/22\\n\\n07/20/22\\n\\n09/21/22\\n\\n12/21/22\\n\\nGBP/USD       ARB\\n\\n1.3628\\n1.3633\\n1.3638\\n1.3642\\n1.3647\\n1.3654\\n1.3666\\n1.3673\\n1.3678\\n1.3682\\n1.3691\\n\\nUSD\\n-177\\n-209\\n-225\\n-236\\n-220\\n-215\\n-207\\n-201\\n-200\\n-189\\n\\nSUPRT & RES.\\n\\nLDN\\n1693\\n1678\\n1663\\n1648\\n1633\\n1618\\n1588\\nImp Vol\\n\\n25.01\\n\\n23.09\\n\\n292.25\\n\\n-8.22 MAY 21\\n8.65 3rd Res.\\n56.52 2nd Res.\\n-8.59 1st Res.\\nPivot\\n1st Sup.\\n2nd Sup.\\n3rd Sup.\\nLDN ATM \\n3-MTH\\n\\n3.08\\n\\n-0.01\\n\\n-0.90\\n\\n0.24\\n\\n6-MTH\\n\\n88\\n\\n0.250\\n\\n0.34\\n\\n3.80\\n\\n-0.32\\n\\n7.00\\n\\n0.234\\n\\n0.031\\n\\n0.062\\n\\nHI\\n2,538\\n2,489\\n2,481\\n2,471\\n2,460\\n2,446\\n2,445\\n\\nLOW\\n2,486\\n2,442\\n2,438\\n2,433\\n2,434\\n2,429\\n2,420\\n\\nN.Y. VOLUMES  \\nFinal:\\nSprds:\\n EFP:\\n EFS:\\nCalls:\\nPuts:\\n  2nd Mth Cont.\\nNY RSI\\n\\n31,357\\n10,698\\n364\\n0\\n6,714\\n191\\n\\n  9-Day =\\n 14-Day =\\nSTOCHASTIC\\n\\n %K = \\n %D = \\nMOVING AVE. \\n  5-Day =\\n10-Day =\\n20-Day =\\n50-Day =\\n100-Day=\\n200-Day=\\n\\n44.19\\n44.88\\n\\n19.78\\n28.09\\n\\n2457\\n2476\\n2483\\n2517\\n2510\\n2419\\n\\nNY\\nLAST\\n2,489\\n2,446\\n2,440\\n2,433\\n2,436\\n2,429\\n2,420\\n2,413\\n2,467\\n\\nSwitch\\nH1/K1\\nH1/N1\\nH1/U1\\nH1/Z1\\nH1/H2\\nK1/N1\\nK1/U1\\nK1/Z1\\nK1/H2\\nK1/K2\\nN1/U1\\nN1/Z1\\nN1/H2\\nN1/K2\\nN1/N2\\nU1/Z1\\nU1/H2\\nU1/K2\\nZ1/H2\\n\\nVOL.\\n15,200\\n9,356\\n4,146\\n1,316\\n958\\n347\\n34\\n\\nOPEN INTEREST \\n88,085\\n-1,450\\n-27\\n59,741\\n1,339\\n29,884\\n161\\n19,480\\n-168\\n11,668\\n131\\n5,624\\n32\\n701\\n279\\n1\\n5,201\\n\\n31,357\\n\\n220,663\\n\\n19\\n\\n~    NEW  YORK  SPREADS    ~  \\n\\nBid/Ask\\n42/43\\n48/49\\n53/55\\n58/61\\n65/69\\n6/7\\n11/13\\n16/19\\n23/27\\n27/32\\n5/6\\n10/12\\n17/20\\n20/25\\n21/29\\n5/6\\n12/14\\n15/19\\n7/8\\n\\nHi  Low\\n52     42\\n58     47\\n65     55\\n66     66\\n\\n8     4\\n14     9\\n18     17\\n26     21\\n34     27\\n7     4\\n10     10\\n19     16\\n23     23\\n\\n6     5\\n13     12\\n19     19\\n10     6\\n\\nVolume\\n5438 \\n221 \\n40 \\n1 \\n\\n3013 \\n321\\n29 \\n84 \\n33 \\n450 \\n1 \\n52 \\n17 \\n\\n854 \\n102 \\n2 \\n241 \\n\\n0.186\\n19.96\\n\\nUSD @ LDN CLOSE\\n1.3628\\n1.2159\\n0.8875\\n103.90\\n1.2713\\n73.746\\n\\n0.0116\\n-0.0008\\n-0.0025\\n-0.28\\n-0.0061\\n-0.881\\n\\nGBP:\\nEUR:\\nCHF:\\nJPY:\\nCAN:\\nRUB:\\n\\nKEY RATES\\n\\nUSD @ LDN CLOSE        \\n\\nUS Fed\\nBOE\\nPBOC\\nECB\\nSwiss NB\\nBOJ\\n\\n0.25\\n0.10\\n1.39\\n(0.50)\\n(0.78)\\n(0.10)\\n\\nAUD: \\nIND:\\nSGD:\\nMYR:\\nINR:\\nCNY:\\n\\n0.7740\\n14110.0\\n1.3264\\n\\n73.15\\n6.465\\n\\n0.0034\\n-108.0\\n-0.0033\\n\\n-0.2439\\n-0.0089\\n\\nMXP:\\nDKK:\\nSEK:\\nNOK:\\nVND:\\nPNG:\\n\\nUSD @ LDN CLOSE\\n19.794\\n6.118\\n8.336\\n8.489\\n\\n-0.300\\n0.005\\n0.048\\n-0.040\\n\\nBRZ:\\nARP:\\nCLP:\\nVEB:\\nDOP:\\nXOF:\\n\\nUSD @ LDN CLOSE\\n\\n85.560\\n740.67\\n2.597\\n\\n539.48\\n\\n-0.23\\n\\nHampton Roads\\n0\\n\\n    Albany\\n0\\n\\nBaltimore\\n0\\n\\nTOTAL\\n3,215,266\\n\\nNet Chng.\\n22,495\\n\\nValid Certs\\n136,406\\n\\nPassed\\n0\\n\\nPending\\n126\\n\\nDate\\n13-Jan\\n\\nUS COT\\nw/Opt.\\n\\nEU COT\\nw/Opt.\\n\\nValid\\n2,000\\n\\n5-Jan\\n\\nExp\\n3,290\\n\\nCom +\\n69,872\\n\\nCom +\\n5-Jan 155,804\\n\\nSDU (10 mts)\\nNon-Tend\\n254\\n\\nLive\\n\\nCom -\\n135,389\\n\\nCom -\\n176,155\\n\\nCom Net\\n-65,517\\n\\nCom Net\\n-20,351\\n\\nTotal\\n5,708\\n\\nSwp +\\n22,873\\n\\nSwp +\\n17,953\\n\\nValid\\n20\\n\\nSwp -\\n4,646\\n\\nSwp -\\n17,527\\n\\nExp\\n73\\n\\nSwp Net\\n18,227\\n\\nSwp Net\\n426\\n\\nLDU (100 mts)\\nNon-Tend\\n6\\n\\nMng $ +\\n50,955\\n\\nMng $ +\\n19,741\\n\\nLive\\n\\nMng $ -\\n23,808\\n\\nMng $ -\\n3,074\\n\\nTotal\\n99\\n\\nValid\\n32\\nMng $ Net\\n27,147\\n\\nMng $ Net\\n16,667\\n\\nExp\\n32\\n\\nOthr +\\n18,893\\n\\nOthr +\\n3,360\\n\\nBDU (1,000 mts)\\nNon-Tend\\n\\nOthr -\\n5,963\\n\\nOthr -\\n884\\n\\nLive\\n1\\n\\nOthr Net\\n12,930\\n\\nOthr Net\\n2,476\\n\\nTotal\\n65\\n\\nNR +\\n14,778\\n\\nNR +\\n3,680\\n\\nValid\\n54,000\\n\\nNR -\\n7,564\\n\\nNR -\\n2,898\\n\\nExp\\n72,200\\n\\nNR Net\\n7,214\\n\\nNR Net\\n782\\n\\nTotal\\nNon-Tend\\n3,140\\n\\nOI\\n254,195\\n\\nOI\\n253,288\\n\\nLive\\n1,000\\n\\nNet Spec\\n65,518\\n\\nNet Spec\\n20,351\\n\\nALL\\n130,340\\n\\nChange\\n1,854\\n\\nChange\\n-5,765\\n\\n.\\n\\n     Although a rare bird, industry selling is a feature which occasionally flutters into view even on cocoa’s wilder moors – but best\\nto have the high strength binoculars at the ready though as it does not tend to indulge its hides of twitchers for too long. Even rarer –\\nin fact ornithologically speaking a brand-new species – the market was treated to the sight of origin buying today as a Bloomberg \\nstory winged its way across the newswires reporting the possibility of an Ivorian government purchase of 50,000 tons (not ‘tonnes’ \\naccording to the text) from farmers and cooperatives who are still long. It is true that when the wind blows even a turkey can fly and \\nmaybe  they  are  only  flying  a  kite but  perhaps  one  of  the  questions  any old  buzzard  might  ask  – there  could  be  a  few  -  to  those \\n‘familiar with the matter’ might be their intentions for the other 150,000 tons allegedly dotted around the place or where that falls \\nwithin the plans to ‘roll’ more than 200,000 tons of unsold main crop into the mid.  After that light relief, the fun stopped abruptly \\nas one’s focus returned to a London market whose non-descript performances of late – despite a nod in the direction of yesterday’s \\nbullish candle – continued. Pale volume is often a feature which develops in these stagnant scenarios and while it is not the only \\nharbinger, when periods of low turnover extend, they can herald a sharp move for which only a few are prepared. If so, this may \\nmanifest itself by way of thrusts out of some loose triangles (no doubt rationalised by the slew of grind data that is on its way), but \\nthose of a bullish bent – surely there must be some out there – should remember that markets like to fill gaps and the ones left on \\nvarious contracts on November 14th remain open. \\n     Given the recent pace of trading a quick glance at the settlements in New York would be enough for most to just as quickly look \\naway.  Yet under the surface there were some interesting trading flows that might be worth a few minutes of attention… hopefully.  \\nFirst, prices opened firm and spent the majority of the session trading about 1% higher testing a short-term ceiling that has been in \\nplace for the last seven sessions.  While the market has endured numerous rallies and retreats, as well as the opposite oscillations, \\nthroughout this latest stretch of range bound trading, interestingly today’s reversal came in tandem with a besiege of options trading\\nthat included more than 2,300 Mar21 2800-2950 calls spreads and nearly 1,500 additional 2800 calls.  Judging solely by the uptick \\nin  implied  volatility  and the  fact  that  each  continued  to  trade  the  same  price,  8  and  10 pts  respectively,  as  prices  fell,  both  were \\npresumably initiated from the buy side…again as prices fell a decline that continued throughout the 90 minutes that transpired for \\nthose volumes to transact as well as into the post settlement hours.  Perhaps it was just coincidence, tied to the positive inflation data \\nout of the US and the generally buoyant commodity sector in which cocoa has yet to participate, but the inverse nature of the futures \\nmovements  and  options  flow  was  curious.    Structure  too  landed  at  an  interesting  spot  after  firming  in  early  dealings  with \\nMar21/May21  trading  back  to  the  low  +$40s,  an  area  that  has  been  a  support  point  over  the  last  weeks.    Will  similar  strength\\nreemerge or will the uptick in exchange stocks and pending grading activity help move the pair lower?  Have a good evening. \\n\\nNEW YORK OFFICE\\nTODD C. LUNSTEAD\\nMICHAEL JULIANO\\n\\nP:  212-278-4836\\n\\n   THIS REPORT IS PREPARED FOR YOU DAILY BY THE COCOA GROUP OF SOCIETE GENERALE        \\nEmail your replies to:\\nSocieteGenerale-CocoaDesk@sgcib.com\\nDisclaimer Attached\\n\\nLONDON OFFICE\\nJONATHAN PROCTOR\\nANDREW PROCTOR\\n\\nP: 207-780-6677\\nJAMIE BALL\\n\\n     \\n     \\n     \\n     \\n \\n \\n \\n \\n \\n \\n\\x0c'"
      ]
     },
     "execution_count": 66,
     "metadata": {},
     "output_type": "execute_result"
    }
   ],
   "source": [
    "text = extract_text('raw_data/pdf_reports/210113.pdf', maxpages = 1)\n",
    "text"
   ]
  },
  {
   "cell_type": "code",
   "execution_count": 67,
   "id": "3b8fd5de-4468-45da-b474-37d0c885b4e4",
   "metadata": {},
   "outputs": [
    {
     "data": {
      "text/plain": [
       "9739"
      ]
     },
     "execution_count": 67,
     "metadata": {},
     "output_type": "execute_result"
    }
   ],
   "source": [
    "len(text)"
   ]
  },
  {
   "cell_type": "code",
   "execution_count": 99,
   "id": "18eed0f2-63fe-4881-b607-461e0a067c06",
   "metadata": {},
   "outputs": [
    {
     "data": {
      "text/plain": [
       "'\\nw/Opt.\\n\\nEU COT\\nw/Opt.\\n\\nValid\\n2,000\\n\\n5-Jan\\n\\nExp\\n3,290\\n\\nCom +\\n69,872\\n\\nCom +\\n5-Jan 155,804\\n\\nSDU (10 mts)\\nNon-Tend\\n254\\n\\nLive\\n\\nCom -\\n135,389\\n\\nCom -\\n176,155\\n\\nCom Net\\n-65,517\\n\\nCom Net\\n-20,351\\n\\nTotal\\n5,708\\n\\nSwp +\\n22,873\\n\\nSwp +\\n17,953\\n\\nValid\\n20\\n\\nSwp -\\n4,646\\n\\nSwp -\\n17,527\\n\\nExp\\n73\\n\\nSwp Net\\n18,227\\n\\nSwp Net\\n426\\n\\nLDU (100 mts)\\nNon-Tend\\n6\\n\\nMng $ +\\n50,955\\n\\nMng $ +\\n19,741\\n\\nLive\\n\\nMng $ -\\n23,808\\n\\nMng $ -\\n3,074\\n\\nTotal\\n99\\n\\nValid\\n32\\nMng $ Net\\n27,147\\n\\nMng $ Net\\n16,667\\n\\nExp\\n32\\n\\nOthr +\\n18,893\\n\\nOthr +\\n3,360\\n\\nBDU (1,000 mts)\\nNon-Tend\\n\\nOthr -\\n5,963\\n\\nOthr -\\n884\\n\\nLive\\n1\\n\\nOthr Net\\n12,930\\n\\nOthr Net\\n2,476\\n\\nTotal\\n65\\n\\nNR +\\n14,778\\n\\nNR +\\n3,680\\n\\nValid\\n54,000\\n\\nNR -\\n7,564\\n\\nNR -\\n2,898\\n\\nExp\\n72,200\\n\\nNR Net\\n7,214\\n\\nNR Net\\n782\\n\\nTotal\\nNon-Tend\\n3,140\\n\\nOI\\n254,195\\n\\nOI\\n253,288\\n\\nLive\\n1,000\\n\\nNet Spec\\n65,518\\n\\nNet Spec\\n20,351\\n\\nALL\\n130,340\\n\\nChange\\n1,854\\n\\nChange\\n-5,765\\n\\n.\\n\\n     Although a rare bird, industry selling is a feature which occasionally flutters into view even on cocoa’s wilder moors – but best\\nto have the high strength binoculars at the ready though as it does not tend to indulge its hides of twitchers for too long. Even rarer –\\nin fact ornithologically speaking a brand-new species – the market was treated to the sight of origin buying today as a Bloomberg \\nstory winged its way across the newswires reporting the possibility of an Ivorian government purchase of 50,000 tons (not ‘tonnes’ \\naccording to the text) from farmers and cooperatives who are still long. It is true that when the wind blows even a turkey can fly and \\nmaybe  they  are  only  flying  a  kite but  perhaps  one  of  the  questions  any old  buzzard  might  ask  – there  could  be  a  few  -  to  those \\n‘familiar with the matter’ might be their intentions for the other 150,000 tons allegedly dotted around the place or where that falls \\nwithin the plans to ‘roll’ more than 200,000 tons of unsold main crop into the mid.  After that light relief, the fun stopped abruptly \\nas one’s focus returned to a London market whose non-descript performances of late – despite a nod in the direction of yesterday’s \\nbullish candle – continued. Pale volume is often a feature which develops in these stagnant scenarios and while it is not the only \\nharbinger, when periods of low turnover extend, they can herald a sharp move for which only a few are prepared. If so, this may \\nmanifest itself by way of thrusts out of some loose triangles (no doubt rationalised by the slew of grind data that is on its way), but \\nthose of a bullish bent – surely there must be some out there – should remember that markets like to fill gaps and the ones left on \\nvarious contracts on November 14th remain open. \\n     Given the recent pace of trading a quick glance at the settlements in New York would be enough for most to just as quickly look \\naway.  Yet under the surface there were some interesting trading flows that might be worth a few minutes of attention… hopefully.  \\nFirst, prices opened firm and spent the majority of the session trading about 1% higher testing a short-term ceiling that has been in \\nplace for the last seven sessions.  While the market has endured numerous rallies and retreats, as well as the opposite oscillations, \\nthroughout this latest stretch of range bound trading, interestingly today’s reversal came in tandem with a besiege of options trading\\nthat included more than 2,300 Mar21 2800-2950 calls spreads and nearly 1,500 additional 2800 calls.  Judging solely by the uptick \\nin  implied  volatility  and the  fact  that  each  continued  to  trade  the  same  price,  8  and  10 pts  respectively,  as  prices  fell,  both  were \\npresumably initiated from the buy side…again as prices fell a decline that continued throughout the 90 minutes that transpired for \\nthose volumes to transact as well as into the post settlement hours.  Perhaps it was just coincidence, tied to the positive inflation data \\nout of the US and the generally buoyant commodity sector in which cocoa has yet to participate, but the inverse nature of the futures \\nmovements  and  options  flow  was  curious.    Structure  too  landed  at  an  interesting  spot  after  firming  in  early  dealings  with \\nMar21/May21  trading  back  to  the  low  +$40s,  an  area  that  has  been  a  support  point  over  the  last  weeks.    Will  similar  strength\\nreemerge or will the uptick in exchange stocks and pending grading activity help move the pair lower?  Have a good evening. \\n\\nNEW YORK OFFICE\\nTODD C. LUNSTEAD\\nMICHAEL JULIANO\\n\\nP:  212-278-4836\\n\\n   THIS REPORT IS PREPARED FOR YOU DAILY BY THE COCOA GROUP OF SOCIETE GENERALE        \\nEmail your replies to:\\nSocieteGenerale-CocoaDesk@sgcib.com\\nDisclaimer Attached\\n\\nLONDON OFFICE\\nJONATHAN PROCTOR\\nANDREW PROCTOR\\n\\nP: 207-780-6677\\nJAMIE BALL\\n\\n     \\n     \\n     \\n     \\n \\n \\n \\n \\n \\n \\n\\x0c'"
      ]
     },
     "execution_count": 99,
     "metadata": {},
     "output_type": "execute_result"
    }
   ],
   "source": [
    "comment = text.partition(\"COT\")[2]\n",
    "comment"
   ]
  },
  {
   "cell_type": "code",
   "execution_count": 104,
   "id": "e3f8dc64-cd0e-4999-b569-7f191da7378c",
   "metadata": {},
   "outputs": [
    {
     "data": {
      "text/plain": [
       "4076"
      ]
     },
     "execution_count": 104,
     "metadata": {},
     "output_type": "execute_result"
    }
   ],
   "source": [
    "comment = comment.lower()\n",
    "comment = ''.join(char for char in comment if not char.isdigit())\n",
    "\n",
    "for punctuation in string.punctuation:\n",
    "   comment = comment.replace(punctuation, '') \n",
    "\n",
    "comment = comment.replace('\\n',\"\")\n",
    "len(comment)"
   ]
  },
  {
   "cell_type": "code",
   "execution_count": 105,
   "id": "14f20681-ee2c-4ddd-a445-4d553400dbb0",
   "metadata": {},
   "outputs": [
    {
     "data": {
      "text/plain": [
       "'wopteu cotwoptvalidjanexpcom com jan sdu  mtsnontendlivecom com com netcom nettotalswp swp validswp swp expswp netswp netldu  mtsnontendmng  mng  livemng  mng  totalvalidmng  netmng  netexpothr othr bdu  mtsnontendothr othr liveothr netothr nettotalnr nr validnr nr expnr netnr nettotalnontendoioilivenet specnet specallchangechange     although a rare bird industry selling is a feature which occasionally flutters into view even on cocoa’s wilder moors – but bestto have the high strength binoculars at the ready though as it does not tend to indulge its hides of twitchers for too long even rarer –in fact ornithologically speaking a brandnew species – the market was treated to the sight of origin buying today as a bloomberg story winged its way across the newswires reporting the possibility of an ivorian government purchase of  tons not ‘tonnes’ according to the text from farmers and cooperatives who are still long it is true that when the wind blows even a turkey can fly and maybe  they  are  only  flying  a  kite but  perhaps  one  of  the  questions  any old  buzzard  might  ask  – there  could  be  a  few    to  those ‘familiar with the matter’ might be their intentions for the other  tons allegedly dotted around the place or where that falls within the plans to ‘roll’ more than  tons of unsold main crop into the mid  after that light relief the fun stopped abruptly as one’s focus returned to a london market whose nondescript performances of late – despite a nod in the direction of yesterday’s bullish candle – continued pale volume is often a feature which develops in these stagnant scenarios and while it is not the only harbinger when periods of low turnover extend they can herald a sharp move for which only a few are prepared if so this may manifest itself by way of thrusts out of some loose triangles no doubt rationalised by the slew of grind data that is on its way but those of a bullish bent – surely there must be some out there – should remember that markets like to fill gaps and the ones left on various contracts on november th remain open      given the recent pace of trading a quick glance at the settlements in new york would be enough for most to just as quickly look away  yet under the surface there were some interesting trading flows that might be worth a few minutes of attention… hopefully  first prices opened firm and spent the majority of the session trading about  higher testing a shortterm ceiling that has been in place for the last seven sessions  while the market has endured numerous rallies and retreats as well as the opposite oscillations throughout this latest stretch of range bound trading interestingly today’s reversal came in tandem with a besiege of options tradingthat included more than  mar  calls spreads and nearly  additional  calls  judging solely by the uptick in  implied  volatility  and the  fact  that  each  continued  to  trade  the  same  price    and   pts  respectively  as  prices  fell  both  were presumably initiated from the buy side…again as prices fell a decline that continued throughout the  minutes that transpired for those volumes to transact as well as into the post settlement hours  perhaps it was just coincidence tied to the positive inflation data out of the us and the generally buoyant commodity sector in which cocoa has yet to participate but the inverse nature of the futures movements  and  options  flow  was  curious    structure  too  landed  at  an  interesting  spot  after  firming  in  early  dealings  with marmay  trading  back  to  the  low  s  an  area  that  has  been  a  support  point  over  the  last  weeks    will  similar  strengthreemerge or will the uptick in exchange stocks and pending grading activity help move the pair lower  have a good evening new york officetodd c lunsteadmichael julianop     this report is prepared for you daily by the cocoa group of societe generale        email your replies tosocietegeneralecocoadesksgcibcomdisclaimer attachedlondon officejonathan proctorandrew proctorp jamie ball                          \\x0c'"
      ]
     },
     "execution_count": 105,
     "metadata": {},
     "output_type": "execute_result"
    }
   ],
   "source": [
    "comment"
   ]
  },
  {
   "cell_type": "code",
   "execution_count": 102,
   "id": "ca17096a-5810-43b7-9c8d-911c753abeef",
   "metadata": {},
   "outputs": [
    {
     "name": "stderr",
     "output_type": "stream",
     "text": [
      "config.json: 100%|██████████████████████████████████████████████████████████| 1.49k/1.49k [00:00<00:00, 2.73MB/s]\n",
      "model.safetensors: 100%|██████████████████████████████████████████████████████| 242M/242M [00:24<00:00, 9.89MB/s]\n",
      "generation_config.json: 100%|████████████████████████████████████████████████████| 112/112 [00:00<00:00, 306kB/s]\n",
      "tokenizer_config.json: 100%|████████████████████████████████████████████████| 2.32k/2.32k [00:00<00:00, 5.84MB/s]\n",
      "spiece.model: 100%|███████████████████████████████████████████████████████████| 792k/792k [00:00<00:00, 8.18MB/s]\n",
      "tokenizer.json: 100%|███████████████████████████████████████████████████████| 2.42M/2.42M [00:00<00:00, 3.42MB/s]\n",
      "special_tokens_map.json: 100%|██████████████████████████████████████████████| 2.20k/2.20k [00:00<00:00, 9.01MB/s]\n"
     ]
    }
   ],
   "source": [
    "from transformers import pipeline\n",
    "summarizer = pipeline(\"summarization\", model=\"Falconsai/text_summarization\")"
   ]
  },
  {
   "cell_type": "code",
   "execution_count": 103,
   "id": "7bec8ed1-895c-48cd-8610-b954bab894c1",
   "metadata": {},
   "outputs": [
    {
     "name": "stderr",
     "output_type": "stream",
     "text": [
      "Token indices sequence length is longer than the specified maximum sequence length for this model (996 > 512). Running this sequence through the model will result in indexing errors\n"
     ]
    },
    {
     "name": "stdout",
     "output_type": "stream",
     "text": [
      "[{'summary_text': 'the market was treated to the sight of origin buying today as a bloomberg story winged its way across the newswires reporting the possibility of an ivorian government purchase of tons not ‘tonnes’ according to the text from farmers and cooperatives who are still long . there could be a few to those ‘familiar with the matter’ might be their intentions for the other tons allegedly dotted around the place or where that falls within the plans to ‘roll’ more than tons of unsold main crop into the'}]\n"
     ]
    }
   ],
   "source": [
    "print(summarizer(comment, max_length=230, min_length=30, do_sample=False))"
   ]
  },
  {
   "cell_type": "code",
   "execution_count": 123,
   "id": "292b72be-3e03-450c-9342-c7930e98de6a",
   "metadata": {},
   "outputs": [
    {
     "ename": "FileNotFoundError",
     "evalue": "[Errno 2] No such file or directory: 'raw_data/pdf_reports/210113.pdf'",
     "output_type": "error",
     "traceback": [
      "\u001b[0;31m---------------------------------------------------------------------------\u001b[0m",
      "\u001b[0;31mFileNotFoundError\u001b[0m                         Traceback (most recent call last)",
      "Cell \u001b[0;32mIn[123], line 2\u001b[0m\n\u001b[1;32m      1\u001b[0m output_string \u001b[38;5;241m=\u001b[39m StringIO()\n\u001b[0;32m----> 2\u001b[0m \u001b[38;5;28;01mwith\u001b[39;00m \u001b[38;5;28;43mopen\u001b[39;49m\u001b[43m(\u001b[49m\u001b[38;5;124;43m'\u001b[39;49m\u001b[38;5;124;43mraw_data/pdf_reports/210113.pdf\u001b[39;49m\u001b[38;5;124;43m'\u001b[39;49m\u001b[43m,\u001b[49m\u001b[43m \u001b[49m\u001b[38;5;124;43m'\u001b[39;49m\u001b[38;5;124;43mrb\u001b[39;49m\u001b[38;5;124;43m'\u001b[39;49m\u001b[43m)\u001b[49m \u001b[38;5;28;01mas\u001b[39;00m fin:\n\u001b[1;32m      3\u001b[0m     extract_text_to_fp(fin, output_string, laparams\u001b[38;5;241m=\u001b[39mLAParams(),\n\u001b[1;32m      4\u001b[0m                        output_type\u001b[38;5;241m=\u001b[39m\u001b[38;5;124m'\u001b[39m\u001b[38;5;124mtext\u001b[39m\u001b[38;5;124m'\u001b[39m, codec\u001b[38;5;241m=\u001b[39m\u001b[38;5;28;01mNone\u001b[39;00m, maxpages\u001b[38;5;241m=\u001b[39m\u001b[38;5;241m1\u001b[39m)\n\u001b[1;32m      5\u001b[0m output_string\u001b[38;5;241m.\u001b[39mgetvalue()\n",
      "File \u001b[0;32m~/.pyenv/versions/3.10.6/envs/weather_checker/lib/python3.10/site-packages/IPython/core/interactiveshell.py:310\u001b[0m, in \u001b[0;36m_modified_open\u001b[0;34m(file, *args, **kwargs)\u001b[0m\n\u001b[1;32m    303\u001b[0m \u001b[38;5;28;01mif\u001b[39;00m file \u001b[38;5;129;01min\u001b[39;00m {\u001b[38;5;241m0\u001b[39m, \u001b[38;5;241m1\u001b[39m, \u001b[38;5;241m2\u001b[39m}:\n\u001b[1;32m    304\u001b[0m     \u001b[38;5;28;01mraise\u001b[39;00m \u001b[38;5;167;01mValueError\u001b[39;00m(\n\u001b[1;32m    305\u001b[0m         \u001b[38;5;124mf\u001b[39m\u001b[38;5;124m\"\u001b[39m\u001b[38;5;124mIPython won\u001b[39m\u001b[38;5;124m'\u001b[39m\u001b[38;5;124mt let you open fd=\u001b[39m\u001b[38;5;132;01m{\u001b[39;00mfile\u001b[38;5;132;01m}\u001b[39;00m\u001b[38;5;124m by default \u001b[39m\u001b[38;5;124m\"\u001b[39m\n\u001b[1;32m    306\u001b[0m         \u001b[38;5;124m\"\u001b[39m\u001b[38;5;124mas it is likely to crash IPython. If you know what you are doing, \u001b[39m\u001b[38;5;124m\"\u001b[39m\n\u001b[1;32m    307\u001b[0m         \u001b[38;5;124m\"\u001b[39m\u001b[38;5;124myou can use builtins\u001b[39m\u001b[38;5;124m'\u001b[39m\u001b[38;5;124m open.\u001b[39m\u001b[38;5;124m\"\u001b[39m\n\u001b[1;32m    308\u001b[0m     )\n\u001b[0;32m--> 310\u001b[0m \u001b[38;5;28;01mreturn\u001b[39;00m \u001b[43mio_open\u001b[49m\u001b[43m(\u001b[49m\u001b[43mfile\u001b[49m\u001b[43m,\u001b[49m\u001b[43m \u001b[49m\u001b[38;5;241;43m*\u001b[39;49m\u001b[43margs\u001b[49m\u001b[43m,\u001b[49m\u001b[43m \u001b[49m\u001b[38;5;241;43m*\u001b[39;49m\u001b[38;5;241;43m*\u001b[39;49m\u001b[43mkwargs\u001b[49m\u001b[43m)\u001b[49m\n",
      "\u001b[0;31mFileNotFoundError\u001b[0m: [Errno 2] No such file or directory: 'raw_data/pdf_reports/210113.pdf'"
     ]
    }
   ],
   "source": [
    "output_string = StringIO()\n",
    "with open('raw_data/pdf_reports/210113.pdf', 'rb') as fin:\n",
    "    extract_text_to_fp(fin, output_string, laparams=LAParams(),\n",
    "                       output_type='text', codec=None, maxpages=1)\n",
    "output_string.getvalue()"
   ]
  },
  {
   "cell_type": "code",
   "execution_count": 15,
   "id": "b751bb47-045d-4da1-9e25-398aa2c95b9a",
   "metadata": {},
   "outputs": [],
   "source": [
    "# Create a function to extract text\n",
    "def text_extraction(element):\n",
    "    # Extracting the text from the in-line text element\n",
    "    line_text = element.get_text()\n",
    "    \n",
    "    # Find the formats of the text\n",
    "    # Initialize the list with all the formats that appeared in the line of text\n",
    "    line_formats = []\n",
    "    for text_line in element:\n",
    "        if isinstance(text_line, LTTextContainer):\n",
    "            # Iterating through each character in the line of text\n",
    "            for character in text_line:\n",
    "                if isinstance(character, LTChar):\n",
    "                    # Append the font name of the character\n",
    "                    line_formats.append(character.fontname)\n",
    "                    # Append the font size of the character\n",
    "                    line_formats.append(character.size)\n",
    "    # Find the unique font sizes and names in the line\n",
    "    format_per_line = list(set(line_formats))\n",
    "    \n",
    "    # Return a tuple with the text in each line along with its format\n",
    "    return (line_text, format_per_line)"
   ]
  },
  {
   "cell_type": "code",
   "execution_count": 22,
   "id": "8db09dd0-858a-4412-af2e-70beca64729a",
   "metadata": {},
   "outputs": [],
   "source": [
    "# Extracting tables from the page\n",
    "\n",
    "def extract_table(pdf_path, page_num, table_num):\n",
    "    # Open the pdf file\n",
    "    pdf = pdfplumber.open(pdf_path)\n",
    "    # Find the examined page\n",
    "    table_page = pdf.pages[page_num]\n",
    "    # Extract the appropriate table\n",
    "    table = table_page.extract_tables()[table_num]\n",
    "    return table\n",
    "\n",
    "# Convert table into the appropriate format\n",
    "def table_converter(table):\n",
    "    table_string = ''\n",
    "    # Iterate through each row of the table\n",
    "    for row_num in range(len(table)):\n",
    "        row = table[row_num]\n",
    "        # Remove the line breaker from the wrapped texts\n",
    "        cleaned_row = [item.replace('\\n', ' ') if item is not None and '\\n' in item else 'None' if item is None else item for item in row]\n",
    "        # Convert the table into a string \n",
    "        table_string+=('|'+'|'.join(cleaned_row)+'|'+'\\n')\n",
    "    # Removing the last line break\n",
    "    table_string = table_string[:-1]\n",
    "    return table_string"
   ]
  },
  {
   "cell_type": "code",
   "execution_count": 23,
   "id": "52921ae6-fa33-414f-b38f-5ba1878151d9",
   "metadata": {},
   "outputs": [],
   "source": [
    "# Find the PDF path\n",
    "pdf_path = 'raw_data/pdf_reports/210113.pdf'\n",
    "# create a PDF file object\n",
    "pdfFileObj = open(pdf_path, 'rb')\n",
    "# create a PDF reader object\n",
    "pdfReaded = PyPDF2.PdfReader(pdfFileObj)\n",
    "\n",
    "# Create the dictionary to extract text from each image\n",
    "text_per_page = {}\n",
    "\n",
    "# We extract the pages from the PDF\n",
    "for pagenum, page in enumerate(extract_pages(pdf_path)):\n",
    "    #Initialize the variables needed for the text extraction from the page\n",
    "    pageObj = pdfReaded.pages[pagenum]\n",
    "    page_text = []\n",
    "    line_format = []  \n",
    "    text_from_tables = []\n",
    "    page_content = []\n",
    "    # Initialize the number of the examined tables\n",
    "    table_num = 0\n",
    "    first_element= True\n",
    "    table_extraction_flag= False\n",
    "    #Open the pdf file\n",
    "    pdf = pdfplumber.open(pdf_path)\n",
    "    #Find the examined page\n",
    "    page_tables = pdf.pages[pagenum]\n",
    "    # Find the number of tables on the page\n",
    "    tables = page_tables.find_tables()\n",
    "    \n",
    "    # Find all the elements\n",
    "    page_elements = [(element.y1, element) for element in page._objs]\n",
    "    # Sort all the elements as they appear in the page \n",
    "    page_elements.sort(key=lambda a: a[0], reverse=True)\n",
    "    # Find the elements that composed a page\n",
    "    for i,component in enumerate(page_elements):\n",
    "        # Extract the position of the top side of the element in the PDF\n",
    "        pos= component[0]\n",
    "        # Extract the element of the page layout\n",
    "        element = component[1]\n",
    "        \n",
    "        # Check if the element is a text element\n",
    "        if isinstance(element, LTTextContainer):\n",
    "            # Check if the text appeared in a table\n",
    "            if table_extraction_flag == False:\n",
    "                # Use the function to extract the text and format for each text element\n",
    "                (line_text, format_per_line) = text_extraction(element)\n",
    "                # Append the text of each line to the page text\n",
    "                page_text.append(line_text)\n",
    "                # Append the format for each line containing text\n",
    "                line_format.append(format_per_line)\n",
    "                page_content.append(line_text)\n",
    "            else:\n",
    "                # Omit the text that appeared in a table\n",
    "                pass\n",
    "\n",
    "           # Check the elements for tables\n",
    "        if isinstance(element, LTRect):\n",
    "            # If the first rectangular element\n",
    "            if first_element == True and (table_num+1) <= len(tables):\n",
    "                # Find the bounding box of the table\n",
    "                lower_side = page.bbox[3] - tables[table_num].bbox[3]\n",
    "                upper_side = element.y1 \n",
    "                # Extract the information from the table\n",
    "                table = extract_table(pdf_path, pagenum, table_num)\n",
    "                # Convert the table information in structured string format\n",
    "                table_string = table_converter(table)\n",
    "                # Append the table string into a list\n",
    "                text_from_tables.append(table_string)\n",
    "                page_content.append(table_string)\n",
    "                # Set the flag as True to avoid the content again\n",
    "                table_extraction_flag = True\n",
    "                # Make it another element\n",
    "                first_element = False\n",
    "                # Add a placeholder in the text and format lists\n",
    "                page_text.append('table')\n",
    "                line_format.append('table')"
   ]
  },
  {
   "cell_type": "code",
   "execution_count": 39,
   "id": "ca9b106b-1f58-4f75-ac46-adb8ae3ee3d7",
   "metadata": {},
   "outputs": [
    {
     "data": {
      "text/plain": [
       "[<pdfplumber.table.Table at 0x7fc357f5b9d0>]"
      ]
     },
     "execution_count": 39,
     "metadata": {},
     "output_type": "execute_result"
    }
   ],
   "source": [
    "tables"
   ]
  },
  {
   "cell_type": "code",
   "execution_count": 46,
   "id": "47eb0f7b-1bc7-482c-b20d-0178c7350bf0",
   "metadata": {},
   "outputs": [
    {
     "data": {
      "text/plain": [
       "<LTRect 16.080,685.920,596.640,687.120>"
      ]
     },
     "execution_count": 46,
     "metadata": {},
     "output_type": "execute_result"
    }
   ],
   "source": [
    "page_elements[1][1]"
   ]
  },
  {
   "cell_type": "code",
   "execution_count": null,
   "id": "a31b9c57-95e7-46f3-aa75-85915d680427",
   "metadata": {},
   "outputs": [],
   "source": []
  }
 ],
 "metadata": {
  "kernelspec": {
   "display_name": "Python 3 (ipykernel)",
   "language": "python",
   "name": "python3"
  },
  "language_info": {
   "codemirror_mode": {
    "name": "ipython",
    "version": 3
   },
   "file_extension": ".py",
   "mimetype": "text/x-python",
   "name": "python",
   "nbconvert_exporter": "python",
   "pygments_lexer": "ipython3",
   "version": "3.10.6"
  }
 },
 "nbformat": 4,
 "nbformat_minor": 5
}
